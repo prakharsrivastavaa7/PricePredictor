{
 "cells": [
  {
   "cell_type": "code",
   "execution_count": 1,
   "metadata": {
    "execution": {
     "iopub.execute_input": "2021-06-15T07:39:56.12859Z",
     "iopub.status.busy": "2021-06-15T07:39:56.128259Z",
     "iopub.status.idle": "2021-06-15T07:39:56.136638Z",
     "shell.execute_reply": "2021-06-15T07:39:56.135648Z",
     "shell.execute_reply.started": "2021-06-15T07:39:56.12856Z"
    },
    "id": "m1u8d9MjBzSk"
   },
   "outputs": [],
   "source": [
    "import numpy as np \n",
    "import pandas as pd \n",
    "import seaborn as sns\n",
    "from sklearn import metrics\n",
    "import matplotlib.pyplot as plt\n",
    "from sklearn import preprocessing\n",
    "from sklearn.ensemble import RandomForestRegressor\n",
    "from sklearn.model_selection import RandomizedSearchCV"
   ]
  },
  {
   "cell_type": "markdown",
   "metadata": {
    "id": "GnmBUUwMwiBZ"
   },
   "source": [
    "# **Data Reading**"
   ]
  },
  {
   "cell_type": "code",
   "execution_count": 3,
   "metadata": {
    "execution": {
     "iopub.execute_input": "2021-06-15T07:39:56.146379Z",
     "iopub.status.busy": "2021-06-15T07:39:56.145949Z",
     "iopub.status.idle": "2021-06-15T07:39:57.755648Z",
     "shell.execute_reply": "2021-06-15T07:39:57.754616Z",
     "shell.execute_reply.started": "2021-06-15T07:39:56.146225Z"
    },
    "id": "Ok5uad51BDe5",
    "outputId": "4dd257b7-7e9a-473f-b959-b57549d35c47"
   },
   "outputs": [
    {
     "data": {
      "text/html": [
       "<div>\n",
       "<style scoped>\n",
       "    .dataframe tbody tr th:only-of-type {\n",
       "        vertical-align: middle;\n",
       "    }\n",
       "\n",
       "    .dataframe tbody tr th {\n",
       "        vertical-align: top;\n",
       "    }\n",
       "\n",
       "    .dataframe thead th {\n",
       "        text-align: right;\n",
       "    }\n",
       "</style>\n",
       "<table border=\"1\" class=\"dataframe\">\n",
       "  <thead>\n",
       "    <tr style=\"text-align: right;\">\n",
       "      <th></th>\n",
       "      <th>id</th>\n",
       "      <th>log_price</th>\n",
       "      <th>property_type</th>\n",
       "      <th>room_type</th>\n",
       "      <th>amenities</th>\n",
       "      <th>accommodates</th>\n",
       "      <th>bathrooms</th>\n",
       "      <th>bed_type</th>\n",
       "      <th>cancellation_policy</th>\n",
       "      <th>cleaning_fee</th>\n",
       "      <th>...</th>\n",
       "      <th>latitude</th>\n",
       "      <th>longitude</th>\n",
       "      <th>name</th>\n",
       "      <th>neighbourhood</th>\n",
       "      <th>number_of_reviews</th>\n",
       "      <th>review_scores_rating</th>\n",
       "      <th>thumbnail_url</th>\n",
       "      <th>zipcode</th>\n",
       "      <th>bedrooms</th>\n",
       "      <th>beds</th>\n",
       "    </tr>\n",
       "  </thead>\n",
       "  <tbody>\n",
       "    <tr>\n",
       "      <th>0</th>\n",
       "      <td>6901257</td>\n",
       "      <td>5.010635</td>\n",
       "      <td>Apartment</td>\n",
       "      <td>Entire home/apt</td>\n",
       "      <td>{\"Wireless Internet\",\"Air conditioning\",Kitche...</td>\n",
       "      <td>3</td>\n",
       "      <td>1.0</td>\n",
       "      <td>Real Bed</td>\n",
       "      <td>strict</td>\n",
       "      <td>True</td>\n",
       "      <td>...</td>\n",
       "      <td>40.696524</td>\n",
       "      <td>-73.991617</td>\n",
       "      <td>Beautiful brownstone 1-bedroom</td>\n",
       "      <td>Brooklyn Heights</td>\n",
       "      <td>2</td>\n",
       "      <td>100.0</td>\n",
       "      <td>https://a0.muscache.com/im/pictures/6d7cbbf7-c...</td>\n",
       "      <td>11201</td>\n",
       "      <td>1.0</td>\n",
       "      <td>1.0</td>\n",
       "    </tr>\n",
       "    <tr>\n",
       "      <th>1</th>\n",
       "      <td>6304928</td>\n",
       "      <td>5.129899</td>\n",
       "      <td>Apartment</td>\n",
       "      <td>Entire home/apt</td>\n",
       "      <td>{\"Wireless Internet\",\"Air conditioning\",Kitche...</td>\n",
       "      <td>7</td>\n",
       "      <td>1.0</td>\n",
       "      <td>Real Bed</td>\n",
       "      <td>strict</td>\n",
       "      <td>True</td>\n",
       "      <td>...</td>\n",
       "      <td>40.766115</td>\n",
       "      <td>-73.989040</td>\n",
       "      <td>Superb 3BR Apt Located Near Times Square</td>\n",
       "      <td>Hell's Kitchen</td>\n",
       "      <td>6</td>\n",
       "      <td>93.0</td>\n",
       "      <td>https://a0.muscache.com/im/pictures/348a55fe-4...</td>\n",
       "      <td>10019</td>\n",
       "      <td>3.0</td>\n",
       "      <td>3.0</td>\n",
       "    </tr>\n",
       "    <tr>\n",
       "      <th>2</th>\n",
       "      <td>7919400</td>\n",
       "      <td>4.976734</td>\n",
       "      <td>Apartment</td>\n",
       "      <td>Entire home/apt</td>\n",
       "      <td>{TV,\"Cable TV\",\"Wireless Internet\",\"Air condit...</td>\n",
       "      <td>5</td>\n",
       "      <td>1.0</td>\n",
       "      <td>Real Bed</td>\n",
       "      <td>moderate</td>\n",
       "      <td>True</td>\n",
       "      <td>...</td>\n",
       "      <td>40.808110</td>\n",
       "      <td>-73.943756</td>\n",
       "      <td>The Garden Oasis</td>\n",
       "      <td>Harlem</td>\n",
       "      <td>10</td>\n",
       "      <td>92.0</td>\n",
       "      <td>https://a0.muscache.com/im/pictures/6fae5362-9...</td>\n",
       "      <td>10027</td>\n",
       "      <td>1.0</td>\n",
       "      <td>3.0</td>\n",
       "    </tr>\n",
       "    <tr>\n",
       "      <th>3</th>\n",
       "      <td>13418779</td>\n",
       "      <td>6.620073</td>\n",
       "      <td>House</td>\n",
       "      <td>Entire home/apt</td>\n",
       "      <td>{TV,\"Cable TV\",Internet,\"Wireless Internet\",Ki...</td>\n",
       "      <td>4</td>\n",
       "      <td>1.0</td>\n",
       "      <td>Real Bed</td>\n",
       "      <td>flexible</td>\n",
       "      <td>True</td>\n",
       "      <td>...</td>\n",
       "      <td>37.772004</td>\n",
       "      <td>-122.431619</td>\n",
       "      <td>Beautiful Flat in the Heart of SF!</td>\n",
       "      <td>Lower Haight</td>\n",
       "      <td>0</td>\n",
       "      <td>NaN</td>\n",
       "      <td>https://a0.muscache.com/im/pictures/72208dad-9...</td>\n",
       "      <td>94117.0</td>\n",
       "      <td>2.0</td>\n",
       "      <td>2.0</td>\n",
       "    </tr>\n",
       "    <tr>\n",
       "      <th>4</th>\n",
       "      <td>3808709</td>\n",
       "      <td>4.744932</td>\n",
       "      <td>Apartment</td>\n",
       "      <td>Entire home/apt</td>\n",
       "      <td>{TV,Internet,\"Wireless Internet\",\"Air conditio...</td>\n",
       "      <td>2</td>\n",
       "      <td>1.0</td>\n",
       "      <td>Real Bed</td>\n",
       "      <td>moderate</td>\n",
       "      <td>True</td>\n",
       "      <td>...</td>\n",
       "      <td>38.925627</td>\n",
       "      <td>-77.034596</td>\n",
       "      <td>Great studio in midtown DC</td>\n",
       "      <td>Columbia Heights</td>\n",
       "      <td>4</td>\n",
       "      <td>40.0</td>\n",
       "      <td>NaN</td>\n",
       "      <td>20009</td>\n",
       "      <td>0.0</td>\n",
       "      <td>1.0</td>\n",
       "    </tr>\n",
       "  </tbody>\n",
       "</table>\n",
       "<p>5 rows × 29 columns</p>\n",
       "</div>"
      ],
      "text/plain": [
       "         id  log_price property_type        room_type  \\\n",
       "0   6901257   5.010635     Apartment  Entire home/apt   \n",
       "1   6304928   5.129899     Apartment  Entire home/apt   \n",
       "2   7919400   4.976734     Apartment  Entire home/apt   \n",
       "3  13418779   6.620073         House  Entire home/apt   \n",
       "4   3808709   4.744932     Apartment  Entire home/apt   \n",
       "\n",
       "                                           amenities  accommodates  bathrooms  \\\n",
       "0  {\"Wireless Internet\",\"Air conditioning\",Kitche...             3        1.0   \n",
       "1  {\"Wireless Internet\",\"Air conditioning\",Kitche...             7        1.0   \n",
       "2  {TV,\"Cable TV\",\"Wireless Internet\",\"Air condit...             5        1.0   \n",
       "3  {TV,\"Cable TV\",Internet,\"Wireless Internet\",Ki...             4        1.0   \n",
       "4  {TV,Internet,\"Wireless Internet\",\"Air conditio...             2        1.0   \n",
       "\n",
       "   bed_type cancellation_policy  cleaning_fee  ...   latitude   longitude  \\\n",
       "0  Real Bed              strict          True  ...  40.696524  -73.991617   \n",
       "1  Real Bed              strict          True  ...  40.766115  -73.989040   \n",
       "2  Real Bed            moderate          True  ...  40.808110  -73.943756   \n",
       "3  Real Bed            flexible          True  ...  37.772004 -122.431619   \n",
       "4  Real Bed            moderate          True  ...  38.925627  -77.034596   \n",
       "\n",
       "                                       name     neighbourhood  \\\n",
       "0            Beautiful brownstone 1-bedroom  Brooklyn Heights   \n",
       "1  Superb 3BR Apt Located Near Times Square    Hell's Kitchen   \n",
       "2                          The Garden Oasis            Harlem   \n",
       "3        Beautiful Flat in the Heart of SF!      Lower Haight   \n",
       "4                Great studio in midtown DC  Columbia Heights   \n",
       "\n",
       "  number_of_reviews review_scores_rating  \\\n",
       "0                 2                100.0   \n",
       "1                 6                 93.0   \n",
       "2                10                 92.0   \n",
       "3                 0                  NaN   \n",
       "4                 4                 40.0   \n",
       "\n",
       "                                       thumbnail_url  zipcode bedrooms  beds  \n",
       "0  https://a0.muscache.com/im/pictures/6d7cbbf7-c...    11201      1.0   1.0  \n",
       "1  https://a0.muscache.com/im/pictures/348a55fe-4...    10019      3.0   3.0  \n",
       "2  https://a0.muscache.com/im/pictures/6fae5362-9...    10027      1.0   3.0  \n",
       "3  https://a0.muscache.com/im/pictures/72208dad-9...  94117.0      2.0   2.0  \n",
       "4                                                NaN    20009      0.0   1.0  \n",
       "\n",
       "[5 rows x 29 columns]"
      ]
     },
     "execution_count": 3,
     "metadata": {},
     "output_type": "execute_result"
    }
   ],
   "source": [
    "datal = pd.read_csv(\"abtrain.csv\")\n",
    "datal.head()"
   ]
  },
  {
   "cell_type": "markdown",
   "metadata": {
    "id": "21lSu5hOwW75"
   },
   "source": [
    "# **Data Exploration and Visualization**"
   ]
  },
  {
   "cell_type": "code",
   "execution_count": 4,
   "metadata": {},
   "outputs": [
    {
     "data": {
      "text/plain": [
       "(74111, 29)"
      ]
     },
     "execution_count": 4,
     "metadata": {},
     "output_type": "execute_result"
    }
   ],
   "source": [
    "datal.shape"
   ]
  },
  {
   "cell_type": "code",
   "execution_count": 5,
   "metadata": {},
   "outputs": [],
   "source": [
    "data = datal[0:3500]"
   ]
  },
  {
   "cell_type": "code",
   "execution_count": 6,
   "metadata": {},
   "outputs": [
    {
     "data": {
      "text/plain": [
       "(3500, 29)"
      ]
     },
     "execution_count": 6,
     "metadata": {},
     "output_type": "execute_result"
    }
   ],
   "source": [
    "data.shape"
   ]
  },
  {
   "cell_type": "code",
   "execution_count": 7,
   "metadata": {},
   "outputs": [],
   "source": [
    "data.to_csv('abdata.csv', index=False) "
   ]
  },
  {
   "cell_type": "code",
   "execution_count": 8,
   "metadata": {
    "execution": {
     "iopub.execute_input": "2021-06-15T07:39:57.75882Z",
     "iopub.status.busy": "2021-06-15T07:39:57.758409Z",
     "iopub.status.idle": "2021-06-15T07:39:57.899694Z",
     "shell.execute_reply": "2021-06-15T07:39:57.898072Z",
     "shell.execute_reply.started": "2021-06-15T07:39:57.758774Z"
    },
    "id": "JISE2IMMBxVT",
    "outputId": "34493da4-ab19-4d6c-c309-1b3b3d6ca20e"
   },
   "outputs": [
    {
     "name": "stdout",
     "output_type": "stream",
     "text": [
      "<class 'pandas.core.frame.DataFrame'>\n",
      "RangeIndex: 3500 entries, 0 to 3499\n",
      "Data columns (total 29 columns):\n",
      " #   Column                  Non-Null Count  Dtype  \n",
      "---  ------                  --------------  -----  \n",
      " 0   id                      3500 non-null   int64  \n",
      " 1   log_price               3500 non-null   float64\n",
      " 2   property_type           3500 non-null   object \n",
      " 3   room_type               3500 non-null   object \n",
      " 4   amenities               3500 non-null   object \n",
      " 5   accommodates            3500 non-null   int64  \n",
      " 6   bathrooms               3489 non-null   float64\n",
      " 7   bed_type                3500 non-null   object \n",
      " 8   cancellation_policy     3500 non-null   object \n",
      " 9   cleaning_fee            3500 non-null   bool   \n",
      " 10  city                    3500 non-null   object \n",
      " 11  description             3500 non-null   object \n",
      " 12  first_review            2689 non-null   object \n",
      " 13  host_has_profile_pic    3486 non-null   object \n",
      " 14  host_identity_verified  3486 non-null   object \n",
      " 15  host_response_rate      2586 non-null   object \n",
      " 16  host_since              3486 non-null   object \n",
      " 17  instant_bookable        3500 non-null   object \n",
      " 18  last_review             2693 non-null   object \n",
      " 19  latitude                3500 non-null   float64\n",
      " 20  longitude               3500 non-null   float64\n",
      " 21  name                    3500 non-null   object \n",
      " 22  neighbourhood           3180 non-null   object \n",
      " 23  number_of_reviews       3500 non-null   int64  \n",
      " 24  review_scores_rating    2650 non-null   float64\n",
      " 25  thumbnail_url           3102 non-null   object \n",
      " 26  zipcode                 3454 non-null   object \n",
      " 27  bedrooms                3495 non-null   float64\n",
      " 28  beds                    3495 non-null   float64\n",
      "dtypes: bool(1), float64(7), int64(3), object(18)\n",
      "memory usage: 769.2+ KB\n"
     ]
    }
   ],
   "source": [
    "data.info()"
   ]
  },
  {
   "cell_type": "code",
   "execution_count": 9,
   "metadata": {
    "execution": {
     "iopub.execute_input": "2021-06-15T07:40:03.16772Z",
     "iopub.status.busy": "2021-06-15T07:40:03.167347Z",
     "iopub.status.idle": "2021-06-15T07:40:03.183973Z",
     "shell.execute_reply": "2021-06-15T07:40:03.182961Z",
     "shell.execute_reply.started": "2021-06-15T07:40:03.167693Z"
    },
    "id": "wQH_ePRlp3hy",
    "outputId": "76a8b8c9-2711-4f31-b49a-81e30c5b9596"
   },
   "outputs": [
    {
     "data": {
      "text/plain": [
       "<matplotlib.axes._subplots.AxesSubplot at 0x1fdb1cb2b20>"
      ]
     },
     "execution_count": 9,
     "metadata": {},
     "output_type": "execute_result"
    },
    {
     "data": {
      "image/png": "[encoded data removed]",
      "text/plain": [
       "<Figure size 432x288 with 1 Axes>"
      ]
     },
     "metadata": {},
     "output_type": "display_data"
    }
   ],
   "source": [
    "data.log_price.describe() #prediction variable\n",
    "sns.set_style(\"whitegrid\")\n",
    "data.log_price.plot.box()"
   ]
  },
  {
   "cell_type": "code",
   "execution_count": 10,
   "metadata": {
    "execution": {
     "iopub.execute_input": "2021-06-15T07:40:03.354861Z",
     "iopub.status.busy": "2021-06-15T07:40:03.354593Z",
     "iopub.status.idle": "2021-06-15T07:40:03.779729Z",
     "shell.execute_reply": "2021-06-15T07:40:03.778749Z",
     "shell.execute_reply.started": "2021-06-15T07:40:03.354833Z"
    },
    "id": "ipB0ZJ47PnNv",
    "outputId": "9dc14f4c-4b43-4cb8-f973-a7ff2413ab68"
   },
   "outputs": [
    {
     "data": {
      "text/plain": [
       "<matplotlib.axes._subplots.AxesSubplot at 0x1fdb1322730>"
      ]
     },
     "execution_count": 10,
     "metadata": {},
     "output_type": "execute_result"
    },
    {
     "data": {
      "image/png": "[encoded data removed]",
      "text/plain": [
       "<Figure size 432x288 with 1 Axes>"
      ]
     },
     "metadata": {},
     "output_type": "display_data"
    }
   ],
   "source": [
    "data.number_of_reviews.plot()"
   ]
  },
  {
   "cell_type": "code",
   "execution_count": 11,
   "metadata": {
    "execution": {
     "iopub.execute_input": "2021-06-15T07:40:04.061408Z",
     "iopub.status.busy": "2021-06-15T07:40:04.061119Z",
     "iopub.status.idle": "2021-06-15T07:40:05.087992Z",
     "shell.execute_reply": "2021-06-15T07:40:05.087158Z",
     "shell.execute_reply.started": "2021-06-15T07:40:04.061378Z"
    },
    "id": "Vv35GC6CyK_y"
   },
   "outputs": [],
   "source": [
    "#cleaning up the amenities attribute.\n",
    "amenitiescol = []\n",
    "amenitiesdict = {}\n",
    "for item in data.amenities:\n",
    "  item = item.replace('{','')\n",
    "  item = item.replace('}','')\n",
    "  item = item.replace('\"','')\n",
    "  item = item.split(',')\n",
    "  amenitiescol.append(max(len(item)-1,0))\n",
    "  for k in item:\n",
    "    if amenitiesdict.get(k) != None:\n",
    "      amenitiesdict[k] +=1 \n",
    "    else:\n",
    "      amenitiesdict[k] = 1"
   ]
  },
  {
   "cell_type": "code",
   "execution_count": 12,
   "metadata": {
    "execution": {
     "iopub.execute_input": "2021-06-15T07:40:05.089779Z",
     "iopub.status.busy": "2021-06-15T07:40:05.089496Z",
     "iopub.status.idle": "2021-06-15T07:40:05.362623Z",
     "shell.execute_reply": "2021-06-15T07:40:05.361615Z",
     "shell.execute_reply.started": "2021-06-15T07:40:05.089736Z"
    },
    "id": "8CMw4kKW_1Hg",
    "outputId": "601a6e8d-8cd8-4bf4-b891-107c14182e36"
   },
   "outputs": [
    {
     "data": {
      "text/plain": [
       "<BarContainer object of 50 artists>"
      ]
     },
     "execution_count": 12,
     "metadata": {},
     "output_type": "execute_result"
    },
    {
     "data": {
      "image/png": "[encoded data removed]",
      "text/plain": [
       "<Figure size 720x1440 with 1 Axes>"
      ]
     },
     "metadata": {},
     "output_type": "display_data"
    }
   ],
   "source": [
    "sortedval = sorted(amenitiesdict.values()) # Sort the values\n",
    "sorteddict = {}\n",
    "for i in sortedval:\n",
    "    for k in amenitiesdict.keys():\n",
    "        if amenitiesdict[k] == i:\n",
    "            sorteddict[k] = amenitiesdict[k]\n",
    "            break\n",
    "\n",
    "keys = sorteddict.keys()\n",
    "\n",
    "values = sorteddict.values()\n",
    "plt.figure(figsize=(10,20))\n",
    "plt.xticks(fontsize=12)\n",
    "n = 50 #showing sorted 50 of 122 objects\n",
    "plt.barh(list(keys)[-n:], list(values)[-n:], align='center',alpha=0.7)\n"
   ]
  },
  {
   "cell_type": "markdown",
   "metadata": {
    "id": "rUi4_mgQwKGm"
   },
   "source": [
    "# Data Pre-processing "
   ]
  },
  {
   "cell_type": "code",
   "execution_count": 13,
   "metadata": {
    "execution": {
     "iopub.execute_input": "2021-06-15T07:40:05.36442Z",
     "iopub.status.busy": "2021-06-15T07:40:05.364155Z",
     "iopub.status.idle": "2021-06-15T07:40:05.445483Z",
     "shell.execute_reply": "2021-06-15T07:40:05.444634Z",
     "shell.execute_reply.started": "2021-06-15T07:40:05.364391Z"
    },
    "id": "Nrc8qZKFvO2p",
    "outputId": "90afdc10-f3cb-4895-ff16-1393b5a889fa"
   },
   "outputs": [
    {
     "data": {
      "text/html": [
       "<div>\n",
       "<style scoped>\n",
       "    .dataframe tbody tr th:only-of-type {\n",
       "        vertical-align: middle;\n",
       "    }\n",
       "\n",
       "    .dataframe tbody tr th {\n",
       "        vertical-align: top;\n",
       "    }\n",
       "\n",
       "    .dataframe thead th {\n",
       "        text-align: right;\n",
       "    }\n",
       "</style>\n",
       "<table border=\"1\" class=\"dataframe\">\n",
       "  <thead>\n",
       "    <tr style=\"text-align: right;\">\n",
       "      <th></th>\n",
       "      <th>id</th>\n",
       "      <th>log_price</th>\n",
       "      <th>accommodates</th>\n",
       "      <th>bathrooms</th>\n",
       "      <th>latitude</th>\n",
       "      <th>longitude</th>\n",
       "      <th>number_of_reviews</th>\n",
       "      <th>review_scores_rating</th>\n",
       "      <th>bedrooms</th>\n",
       "      <th>beds</th>\n",
       "    </tr>\n",
       "  </thead>\n",
       "  <tbody>\n",
       "    <tr>\n",
       "      <th>count</th>\n",
       "      <td>3.500000e+03</td>\n",
       "      <td>3500.000000</td>\n",
       "      <td>3500.000000</td>\n",
       "      <td>3489.000000</td>\n",
       "      <td>3500.000000</td>\n",
       "      <td>3500.000000</td>\n",
       "      <td>3500.000000</td>\n",
       "      <td>2650.000000</td>\n",
       "      <td>3495.000000</td>\n",
       "      <td>3495.000000</td>\n",
       "    </tr>\n",
       "    <tr>\n",
       "      <th>mean</th>\n",
       "      <td>1.137192e+07</td>\n",
       "      <td>4.797424</td>\n",
       "      <td>3.162286</td>\n",
       "      <td>1.219404</td>\n",
       "      <td>38.495861</td>\n",
       "      <td>-92.057558</td>\n",
       "      <td>19.934286</td>\n",
       "      <td>94.050566</td>\n",
       "      <td>1.252647</td>\n",
       "      <td>1.699571</td>\n",
       "    </tr>\n",
       "    <tr>\n",
       "      <th>std</th>\n",
       "      <td>6.129507e+06</td>\n",
       "      <td>0.711778</td>\n",
       "      <td>2.156881</td>\n",
       "      <td>0.536189</td>\n",
       "      <td>3.045918</td>\n",
       "      <td>21.708061</td>\n",
       "      <td>36.241193</td>\n",
       "      <td>8.531850</td>\n",
       "      <td>0.841455</td>\n",
       "      <td>1.215779</td>\n",
       "    </tr>\n",
       "    <tr>\n",
       "      <th>min</th>\n",
       "      <td>3.670000e+03</td>\n",
       "      <td>2.484907</td>\n",
       "      <td>1.000000</td>\n",
       "      <td>0.000000</td>\n",
       "      <td>33.343574</td>\n",
       "      <td>-122.508663</td>\n",
       "      <td>0.000000</td>\n",
       "      <td>20.000000</td>\n",
       "      <td>0.000000</td>\n",
       "      <td>1.000000</td>\n",
       "    </tr>\n",
       "    <tr>\n",
       "      <th>25%</th>\n",
       "      <td>6.224728e+06</td>\n",
       "      <td>4.317488</td>\n",
       "      <td>2.000000</td>\n",
       "      <td>1.000000</td>\n",
       "      <td>34.149449</td>\n",
       "      <td>-118.346184</td>\n",
       "      <td>1.000000</td>\n",
       "      <td>92.000000</td>\n",
       "      <td>1.000000</td>\n",
       "      <td>1.000000</td>\n",
       "    </tr>\n",
       "    <tr>\n",
       "      <th>50%</th>\n",
       "      <td>1.269793e+07</td>\n",
       "      <td>4.744932</td>\n",
       "      <td>2.000000</td>\n",
       "      <td>1.000000</td>\n",
       "      <td>40.667432</td>\n",
       "      <td>-76.979310</td>\n",
       "      <td>5.000000</td>\n",
       "      <td>96.000000</td>\n",
       "      <td>1.000000</td>\n",
       "      <td>1.000000</td>\n",
       "    </tr>\n",
       "    <tr>\n",
       "      <th>75%</th>\n",
       "      <td>1.648986e+07</td>\n",
       "      <td>5.220356</td>\n",
       "      <td>4.000000</td>\n",
       "      <td>1.000000</td>\n",
       "      <td>40.742878</td>\n",
       "      <td>-73.952501</td>\n",
       "      <td>22.000000</td>\n",
       "      <td>100.000000</td>\n",
       "      <td>1.000000</td>\n",
       "      <td>2.000000</td>\n",
       "    </tr>\n",
       "    <tr>\n",
       "      <th>max</th>\n",
       "      <td>2.119609e+07</td>\n",
       "      <td>7.598399</td>\n",
       "      <td>16.000000</td>\n",
       "      <td>7.500000</td>\n",
       "      <td>42.383869</td>\n",
       "      <td>-70.991861</td>\n",
       "      <td>384.000000</td>\n",
       "      <td>100.000000</td>\n",
       "      <td>8.000000</td>\n",
       "      <td>16.000000</td>\n",
       "    </tr>\n",
       "  </tbody>\n",
       "</table>\n",
       "</div>"
      ],
      "text/plain": [
       "                 id    log_price  accommodates    bathrooms     latitude  \\\n",
       "count  3.500000e+03  3500.000000   3500.000000  3489.000000  3500.000000   \n",
       "mean   1.137192e+07     4.797424      3.162286     1.219404    38.495861   \n",
       "std    6.129507e+06     0.711778      2.156881     0.536189     3.045918   \n",
       "min    3.670000e+03     2.484907      1.000000     0.000000    33.343574   \n",
       "25%    6.224728e+06     4.317488      2.000000     1.000000    34.149449   \n",
       "50%    1.269793e+07     4.744932      2.000000     1.000000    40.667432   \n",
       "75%    1.648986e+07     5.220356      4.000000     1.000000    40.742878   \n",
       "max    2.119609e+07     7.598399     16.000000     7.500000    42.383869   \n",
       "\n",
       "         longitude  number_of_reviews  review_scores_rating     bedrooms  \\\n",
       "count  3500.000000        3500.000000           2650.000000  3495.000000   \n",
       "mean    -92.057558          19.934286             94.050566     1.252647   \n",
       "std      21.708061          36.241193              8.531850     0.841455   \n",
       "min    -122.508663           0.000000             20.000000     0.000000   \n",
       "25%    -118.346184           1.000000             92.000000     1.000000   \n",
       "50%     -76.979310           5.000000             96.000000     1.000000   \n",
       "75%     -73.952501          22.000000            100.000000     1.000000   \n",
       "max     -70.991861         384.000000            100.000000     8.000000   \n",
       "\n",
       "              beds  \n",
       "count  3495.000000  \n",
       "mean      1.699571  \n",
       "std       1.215779  \n",
       "min       1.000000  \n",
       "25%       1.000000  \n",
       "50%       1.000000  \n",
       "75%       2.000000  \n",
       "max      16.000000  "
      ]
     },
     "execution_count": 13,
     "metadata": {},
     "output_type": "execute_result"
    }
   ],
   "source": [
    "data.describe()"
   ]
  },
  {
   "cell_type": "code",
   "execution_count": 14,
   "metadata": {
    "execution": {
     "iopub.execute_input": "2021-06-15T07:40:05.446974Z",
     "iopub.status.busy": "2021-06-15T07:40:05.446685Z",
     "iopub.status.idle": "2021-06-15T07:40:05.582503Z",
     "shell.execute_reply": "2021-06-15T07:40:05.581712Z",
     "shell.execute_reply.started": "2021-06-15T07:40:05.446944Z"
    },
    "id": "2B7ZagvzJ9rU",
    "outputId": "e26e2ce1-5549-45dd-b9d0-493eed121c04"
   },
   "outputs": [
    {
     "name": "stdout",
     "output_type": "stream",
     "text": [
      "<class 'pandas.core.frame.DataFrame'>\n",
      "RangeIndex: 3500 entries, 0 to 3499\n",
      "Data columns (total 29 columns):\n",
      " #   Column                  Non-Null Count  Dtype  \n",
      "---  ------                  --------------  -----  \n",
      " 0   id                      3500 non-null   int64  \n",
      " 1   log_price               3500 non-null   float64\n",
      " 2   property_type           3500 non-null   object \n",
      " 3   room_type               3500 non-null   object \n",
      " 4   amenities               3500 non-null   object \n",
      " 5   accommodates            3500 non-null   int64  \n",
      " 6   bathrooms               3489 non-null   float64\n",
      " 7   bed_type                3500 non-null   object \n",
      " 8   cancellation_policy     3500 non-null   object \n",
      " 9   cleaning_fee            3500 non-null   bool   \n",
      " 10  city                    3500 non-null   object \n",
      " 11  description             3500 non-null   object \n",
      " 12  first_review            2689 non-null   object \n",
      " 13  host_has_profile_pic    3486 non-null   object \n",
      " 14  host_identity_verified  3486 non-null   object \n",
      " 15  host_response_rate      2586 non-null   object \n",
      " 16  host_since              3486 non-null   object \n",
      " 17  instant_bookable        3500 non-null   object \n",
      " 18  last_review             2693 non-null   object \n",
      " 19  latitude                3500 non-null   float64\n",
      " 20  longitude               3500 non-null   float64\n",
      " 21  name                    3500 non-null   object \n",
      " 22  neighbourhood           3180 non-null   object \n",
      " 23  number_of_reviews       3500 non-null   int64  \n",
      " 24  review_scores_rating    2650 non-null   float64\n",
      " 25  thumbnail_url           3102 non-null   object \n",
      " 26  zipcode                 3454 non-null   object \n",
      " 27  bedrooms                3495 non-null   float64\n",
      " 28  beds                    3495 non-null   float64\n",
      "dtypes: bool(1), float64(7), int64(3), object(18)\n",
      "memory usage: 769.2+ KB\n"
     ]
    }
   ],
   "source": [
    "data.info()"
   ]
  },
  {
   "cell_type": "code",
   "execution_count": 15,
   "metadata": {
    "execution": {
     "iopub.execute_input": "2021-06-15T07:40:05.584214Z",
     "iopub.status.busy": "2021-06-15T07:40:05.583903Z",
     "iopub.status.idle": "2021-06-15T07:40:06.104949Z",
     "shell.execute_reply": "2021-06-15T07:40:06.103934Z",
     "shell.execute_reply.started": "2021-06-15T07:40:05.584182Z"
    },
    "id": "u7Vk6ejTKSPA",
    "outputId": "a196b9a3-b7b5-4688-c019-d3e2a702eab8"
   },
   "outputs": [
    {
     "data": {
      "text/plain": [
       "id                          0\n",
       "log_price                   0\n",
       "property_type               0\n",
       "room_type                   0\n",
       "amenities                   0\n",
       "accommodates                0\n",
       "bathrooms                  11\n",
       "bed_type                    0\n",
       "cancellation_policy         0\n",
       "cleaning_fee                0\n",
       "city                        0\n",
       "description                 0\n",
       "first_review              811\n",
       "host_has_profile_pic       14\n",
       "host_identity_verified     14\n",
       "host_response_rate        914\n",
       "host_since                 14\n",
       "instant_bookable            0\n",
       "last_review               807\n",
       "latitude                    0\n",
       "longitude                   0\n",
       "name                        0\n",
       "neighbourhood             320\n",
       "number_of_reviews           0\n",
       "review_scores_rating      850\n",
       "thumbnail_url             398\n",
       "zipcode                    46\n",
       "bedrooms                    5\n",
       "beds                        5\n",
       "dtype: int64"
      ]
     },
     "execution_count": 15,
     "metadata": {},
     "output_type": "execute_result"
    }
   ],
   "source": [
    "data.isnull().sum()"
   ]
  },
  {
   "cell_type": "code",
   "execution_count": 16,
   "metadata": {
    "execution": {
     "iopub.execute_input": "2021-06-15T07:40:06.106724Z",
     "iopub.status.busy": "2021-06-15T07:40:06.106467Z",
     "iopub.status.idle": "2021-06-15T07:40:06.126832Z",
     "shell.execute_reply": "2021-06-15T07:40:06.12572Z",
     "shell.execute_reply.started": "2021-06-15T07:40:06.106697Z"
    },
    "id": "SWjCyYmvOff8",
    "outputId": "8d84f0c3-7759-43f9-e7ca-8748baf37df9"
   },
   "outputs": [
    {
     "name": "stdout",
     "output_type": "stream",
     "text": [
      "<class 'pandas.core.frame.DataFrame'>\n",
      "RangeIndex: 3500 entries, 0 to 3499\n",
      "Data columns (total 17 columns):\n",
      " #   Column                  Non-Null Count  Dtype  \n",
      "---  ------                  --------------  -----  \n",
      " 0   log_price               3500 non-null   float64\n",
      " 1   property_type           3500 non-null   object \n",
      " 2   room_type               3500 non-null   object \n",
      " 3   amenities               3500 non-null   object \n",
      " 4   accommodates            3500 non-null   int64  \n",
      " 5   bathrooms               3489 non-null   float64\n",
      " 6   bed_type                3500 non-null   object \n",
      " 7   cancellation_policy     3500 non-null   object \n",
      " 8   cleaning_fee            3500 non-null   bool   \n",
      " 9   city                    3500 non-null   object \n",
      " 10  host_identity_verified  3486 non-null   object \n",
      " 11  host_response_rate      2586 non-null   object \n",
      " 12  instant_bookable        3500 non-null   object \n",
      " 13  number_of_reviews       3500 non-null   int64  \n",
      " 14  review_scores_rating    2650 non-null   float64\n",
      " 15  bedrooms                3495 non-null   float64\n",
      " 16  beds                    3495 non-null   float64\n",
      "dtypes: bool(1), float64(5), int64(2), object(9)\n",
      "memory usage: 441.0+ KB\n"
     ]
    }
   ],
   "source": [
    "#dropping unnecessary data\n",
    "cleandata = data.drop(['id','description','first_review','last_review','host_since','host_has_profile_pic','name','thumbnail_url','zipcode','neighbourhood','latitude','longitude'],axis=1)\n",
    "cleandata.info()"
   ]
  },
  {
   "cell_type": "code",
   "execution_count": 17,
   "metadata": {
    "execution": {
     "iopub.execute_input": "2021-06-15T07:40:06.211268Z",
     "iopub.status.busy": "2021-06-15T07:40:06.210981Z",
     "iopub.status.idle": "2021-06-15T07:40:06.226005Z",
     "shell.execute_reply": "2021-06-15T07:40:06.225003Z",
     "shell.execute_reply.started": "2021-06-15T07:40:06.211239Z"
    },
    "id": "JcxNHARRW3Ij"
   },
   "outputs": [
    {
     "data": {
      "text/plain": [
       "log_price                   0\n",
       "property_type               0\n",
       "room_type                   0\n",
       "amenities                   0\n",
       "accommodates                0\n",
       "bathrooms                   0\n",
       "bed_type                    0\n",
       "cancellation_policy         0\n",
       "cleaning_fee                0\n",
       "city                        0\n",
       "host_identity_verified     14\n",
       "host_response_rate        914\n",
       "instant_bookable            0\n",
       "number_of_reviews           0\n",
       "review_scores_rating        0\n",
       "bedrooms                    0\n",
       "beds                        0\n",
       "dtype: int64"
      ]
     },
     "execution_count": 17,
     "metadata": {},
     "output_type": "execute_result"
    }
   ],
   "source": [
    "# filling NA with mean of each column of it\n",
    "cleandata.bathrooms = cleandata.bathrooms.fillna(int(cleandata.bathrooms.mean()))\n",
    "cleandata.bedrooms = cleandata.bedrooms.fillna(int(cleandata.bedrooms.mean()))\n",
    "cleandata.beds = cleandata.beds.fillna(int(cleandata.beds.mean()))\n",
    "cleandata.review_scores_rating = cleandata.review_scores_rating.fillna(cleandata.review_scores_rating.mean())\n",
    "cleandata.isnull().sum()"
   ]
  },
  {
   "cell_type": "code",
   "execution_count": 18,
   "metadata": {},
   "outputs": [
    {
     "data": {
      "text/plain": [
       "1.0    2777\n",
       "2.0     368\n",
       "1.5     187\n",
       "2.5      73\n",
       "3.0      31\n",
       "3.5      27\n",
       "4.0      12\n",
       "0.0      10\n",
       "0.5       5\n",
       "4.5       4\n",
       "5.0       3\n",
       "5.5       2\n",
       "7.5       1\n",
       "Name: bathrooms, dtype: int64"
      ]
     },
     "execution_count": 18,
     "metadata": {},
     "output_type": "execute_result"
    },
    {
     "data": {
      "image/png": "[encoded data removed]",
      "text/plain": [
       "<Figure size 432x288 with 1 Axes>"
      ]
     },
     "metadata": {},
     "output_type": "display_data"
    }
   ],
   "source": [
    "#displaying pie chart of bathroom having greater than 50 counts for visible representation\n",
    "bathroomscounts = cleandata.bathrooms.value_counts()\n",
    "bathroomscounts [bathroomscounts >50].plot.pie(autopct='%1.0f%%',radius=2.4)\n",
    "bathroomscounts"
   ]
  },
  {
   "cell_type": "code",
   "execution_count": 19,
   "metadata": {},
   "outputs": [
    {
     "data": {
      "text/plain": [
       "1.0    2347\n",
       "2.0     545\n",
       "0.0     333\n",
       "3.0     193\n",
       "4.0      56\n",
       "5.0      17\n",
       "6.0       6\n",
       "7.0       2\n",
       "8.0       1\n",
       "Name: bedrooms, dtype: int64"
      ]
     },
     "execution_count": 19,
     "metadata": {},
     "output_type": "execute_result"
    },
    {
     "data": {
      "image/png": "[encoded data removed]",
      "text/plain": [
       "<Figure size 432x288 with 1 Axes>"
      ]
     },
     "metadata": {},
     "output_type": "display_data"
    }
   ],
   "source": [
    "#displaying pie chart of bedrooms having greater than 50 counts for visible representation\n",
    "bedroomscounts = cleandata.bedrooms.value_counts()\n",
    "bedroomscounts [bedroomscounts >50].plot.pie(autopct='%1.0f%%',radius=2.4)\n",
    "bedroomscounts"
   ]
  },
  {
   "cell_type": "code",
   "execution_count": 20,
   "metadata": {},
   "outputs": [
    {
     "data": {
      "text/plain": [
       "1.0     2117\n",
       "2.0      833\n",
       "3.0      290\n",
       "4.0      147\n",
       "5.0       58\n",
       "6.0       29\n",
       "7.0        8\n",
       "8.0        6\n",
       "10.0       5\n",
       "12.0       2\n",
       "13.0       2\n",
       "11.0       1\n",
       "9.0        1\n",
       "16.0       1\n",
       "Name: beds, dtype: int64"
      ]
     },
     "execution_count": 20,
     "metadata": {},
     "output_type": "execute_result"
    },
    {
     "data": {
      "image/png": "[encoded data removed]",
      "text/plain": [
       "<Figure size 432x288 with 1 Axes>"
      ]
     },
     "metadata": {},
     "output_type": "display_data"
    }
   ],
   "source": [
    "#displaying pie chart of beds having greater than 50 counts for visible representation\n",
    "bedscounts = cleandata.beds.value_counts()\n",
    "bedscounts [bedscounts >50].plot.pie(autopct='%1.0f%%',radius=2.4)\n",
    "bedscounts"
   ]
  },
  {
   "cell_type": "code",
   "execution_count": 21,
   "metadata": {
    "execution": {
     "iopub.execute_input": "2021-06-15T07:40:06.227684Z",
     "iopub.status.busy": "2021-06-15T07:40:06.227396Z",
     "iopub.status.idle": "2021-06-15T07:40:06.313762Z",
     "shell.execute_reply": "2021-06-15T07:40:06.31269Z",
     "shell.execute_reply.started": "2021-06-15T07:40:06.227653Z"
    },
    "id": "1u9RAPs6W4Ti"
   },
   "outputs": [
    {
     "data": {
      "text/plain": [
       "0       NaN\n",
       "1       1.0\n",
       "2       1.0\n",
       "3       NaN\n",
       "4       1.0\n",
       "       ... \n",
       "3495    NaN\n",
       "3496    1.0\n",
       "3497    NaN\n",
       "3498    1.0\n",
       "3499    1.0\n",
       "Name: host_response_rate, Length: 3500, dtype: float64"
      ]
     },
     "execution_count": 21,
     "metadata": {},
     "output_type": "execute_result"
    }
   ],
   "source": [
    "# Fixing host response rate and change its value to the correct data type\n",
    "cleandata.host_response_rate = cleandata.host_response_rate.apply(lambda x: int(x[:len(x)-1])/100 if isinstance(x,str) else x)\n",
    "cleandata.host_response_rate"
   ]
  },
  {
   "cell_type": "code",
   "execution_count": 22,
   "metadata": {},
   "outputs": [
    {
     "data": {
      "text/plain": [
       "0       0.942285\n",
       "1       1.000000\n",
       "2       1.000000\n",
       "3       0.942285\n",
       "4       1.000000\n",
       "          ...   \n",
       "3495    0.942285\n",
       "3496    1.000000\n",
       "3497    0.942285\n",
       "3498    1.000000\n",
       "3499    1.000000\n",
       "Name: host_response_rate, Length: 3500, dtype: float64"
      ]
     },
     "execution_count": 22,
     "metadata": {},
     "output_type": "execute_result"
    }
   ],
   "source": [
    "cleandata.host_response_rate = cleandata.host_response_rate.fillna(cleandata.host_response_rate.mean())\n",
    "cleandata.host_response_rate"
   ]
  },
  {
   "cell_type": "code",
   "execution_count": 23,
   "metadata": {
    "execution": {
     "iopub.execute_input": "2021-06-15T07:40:06.315293Z",
     "iopub.status.busy": "2021-06-15T07:40:06.315043Z",
     "iopub.status.idle": "2021-06-15T07:40:06.349197Z",
     "shell.execute_reply": "2021-06-15T07:40:06.348404Z",
     "shell.execute_reply.started": "2021-06-15T07:40:06.315258Z"
    },
    "id": "LSGbaJPbW54h"
   },
   "outputs": [],
   "source": [
    "# Changing all boolean objects to 0/1\n",
    "cleandata.host_identity_verified = cleandata.host_identity_verified.apply(lambda x: True if x=='t' else False)\n",
    "cleandata.instant_bookable = cleandata.instant_bookable.apply(lambda x: True if x=='t' else False)"
   ]
  },
  {
   "cell_type": "code",
   "execution_count": 24,
   "metadata": {},
   "outputs": [],
   "source": [
    "cleandata[\"cleaning_fee\"] = cleandata[\"cleaning_fee\"].astype(int)\n",
    "cleandata[\"host_identity_verified\"] = cleandata[\"host_identity_verified\"].astype(int)\n",
    "cleandata[\"instant_bookable\"] = cleandata[\"instant_bookable\"].astype(int)"
   ]
  },
  {
   "cell_type": "code",
   "execution_count": 25,
   "metadata": {
    "execution": {
     "iopub.execute_input": "2021-06-15T07:40:06.387682Z",
     "iopub.status.busy": "2021-06-15T07:40:06.387291Z",
     "iopub.status.idle": "2021-06-15T07:40:06.450381Z",
     "shell.execute_reply": "2021-06-15T07:40:06.449371Z",
     "shell.execute_reply.started": "2021-06-15T07:40:06.387637Z"
    },
    "id": "rZfaHgl0Z_2d",
    "outputId": "75981b11-4d1b-43f8-98e6-8957eed3b2b8"
   },
   "outputs": [
    {
     "name": "stdout",
     "output_type": "stream",
     "text": [
      "<class 'pandas.core.frame.DataFrame'>\n",
      "RangeIndex: 3500 entries, 0 to 3499\n",
      "Data columns (total 17 columns):\n",
      " #   Column                  Non-Null Count  Dtype  \n",
      "---  ------                  --------------  -----  \n",
      " 0   log_price               3500 non-null   float64\n",
      " 1   property_type           3500 non-null   object \n",
      " 2   room_type               3500 non-null   object \n",
      " 3   amenities               3500 non-null   object \n",
      " 4   accommodates            3500 non-null   int64  \n",
      " 5   bathrooms               3500 non-null   float64\n",
      " 6   bed_type                3500 non-null   object \n",
      " 7   cancellation_policy     3500 non-null   object \n",
      " 8   cleaning_fee            3500 non-null   int32  \n",
      " 9   city                    3500 non-null   object \n",
      " 10  host_identity_verified  3500 non-null   int32  \n",
      " 11  host_response_rate      3500 non-null   float64\n",
      " 12  instant_bookable        3500 non-null   int32  \n",
      " 13  number_of_reviews       3500 non-null   int64  \n",
      " 14  review_scores_rating    3500 non-null   float64\n",
      " 15  bedrooms                3500 non-null   float64\n",
      " 16  beds                    3500 non-null   float64\n",
      "dtypes: float64(6), int32(3), int64(2), object(6)\n",
      "memory usage: 424.0+ KB\n"
     ]
    }
   ],
   "source": [
    "cleandata.info()"
   ]
  },
  {
   "cell_type": "code",
   "execution_count": 26,
   "metadata": {
    "execution": {
     "iopub.execute_input": "2021-06-15T07:40:06.472818Z",
     "iopub.status.busy": "2021-06-15T07:40:06.472253Z",
     "iopub.status.idle": "2021-06-15T07:40:06.852946Z",
     "shell.execute_reply": "2021-06-15T07:40:06.851955Z",
     "shell.execute_reply.started": "2021-06-15T07:40:06.472766Z"
    },
    "id": "jjl1YRItfZ81",
    "outputId": "83bb1e31-540f-4ccb-de11-af12f05e64b7"
   },
   "outputs": [
    {
     "data": {
      "image/png": "[encoded data removed]",
      "text/plain": [
       "<Figure size 432x288 with 1 Axes>"
      ]
     },
     "metadata": {},
     "output_type": "display_data"
    }
   ],
   "source": [
    "import warnings\n",
    "warnings.simplefilter(action=\"ignore\", category=FutureWarning)\n",
    "sns.countplot(cleandata['room_type'])\n",
    "plt.title('Room type')\n",
    "plt.show()"
   ]
  },
  {
   "cell_type": "code",
   "execution_count": 27,
   "metadata": {
    "execution": {
     "iopub.execute_input": "2021-06-15T07:40:06.854844Z",
     "iopub.status.busy": "2021-06-15T07:40:06.854302Z",
     "iopub.status.idle": "2021-06-15T07:40:06.866431Z",
     "shell.execute_reply": "2021-06-15T07:40:06.8652Z",
     "shell.execute_reply.started": "2021-06-15T07:40:06.854798Z"
    },
    "id": "ikvFVrHdiF2I",
    "outputId": "890d0d7e-6578-49d7-b51f-4d7009de2f38"
   },
   "outputs": [
    {
     "data": {
      "text/plain": [
       "array(['Entire home/apt', 'Private room', 'Shared room'], dtype=object)"
      ]
     },
     "execution_count": 27,
     "metadata": {},
     "output_type": "execute_result"
    }
   ],
   "source": [
    "cleandata.room_type.unique()"
   ]
  },
  {
   "cell_type": "code",
   "execution_count": 28,
   "metadata": {
    "execution": {
     "iopub.execute_input": "2021-06-15T07:40:06.86851Z",
     "iopub.status.busy": "2021-06-15T07:40:06.868139Z",
     "iopub.status.idle": "2021-06-15T07:40:06.932518Z",
     "shell.execute_reply": "2021-06-15T07:40:06.931315Z",
     "shell.execute_reply.started": "2021-06-15T07:40:06.868468Z"
    },
    "id": "UGcSAT7lh1AF"
   },
   "outputs": [
    {
     "data": {
      "text/html": [
       "<div>\n",
       "<style scoped>\n",
       "    .dataframe tbody tr th:only-of-type {\n",
       "        vertical-align: middle;\n",
       "    }\n",
       "\n",
       "    .dataframe tbody tr th {\n",
       "        vertical-align: top;\n",
       "    }\n",
       "\n",
       "    .dataframe thead th {\n",
       "        text-align: right;\n",
       "    }\n",
       "</style>\n",
       "<table border=\"1\" class=\"dataframe\">\n",
       "  <thead>\n",
       "    <tr style=\"text-align: right;\">\n",
       "      <th></th>\n",
       "      <th>log_price</th>\n",
       "      <th>property_type</th>\n",
       "      <th>room_type</th>\n",
       "      <th>amenities</th>\n",
       "      <th>accommodates</th>\n",
       "      <th>bathrooms</th>\n",
       "      <th>bed_type</th>\n",
       "      <th>cancellation_policy</th>\n",
       "      <th>cleaning_fee</th>\n",
       "      <th>city</th>\n",
       "      <th>host_identity_verified</th>\n",
       "      <th>host_response_rate</th>\n",
       "      <th>instant_bookable</th>\n",
       "      <th>number_of_reviews</th>\n",
       "      <th>review_scores_rating</th>\n",
       "      <th>bedrooms</th>\n",
       "      <th>beds</th>\n",
       "    </tr>\n",
       "  </thead>\n",
       "  <tbody>\n",
       "    <tr>\n",
       "      <th>0</th>\n",
       "      <td>5.010635</td>\n",
       "      <td>Apartment</td>\n",
       "      <td>3</td>\n",
       "      <td>{\"Wireless Internet\",\"Air conditioning\",Kitche...</td>\n",
       "      <td>3</td>\n",
       "      <td>1.0</td>\n",
       "      <td>Real Bed</td>\n",
       "      <td>strict</td>\n",
       "      <td>1</td>\n",
       "      <td>NYC</td>\n",
       "      <td>1</td>\n",
       "      <td>0.942285</td>\n",
       "      <td>0</td>\n",
       "      <td>2</td>\n",
       "      <td>100.000000</td>\n",
       "      <td>1.0</td>\n",
       "      <td>1.0</td>\n",
       "    </tr>\n",
       "    <tr>\n",
       "      <th>1</th>\n",
       "      <td>5.129899</td>\n",
       "      <td>Apartment</td>\n",
       "      <td>3</td>\n",
       "      <td>{\"Wireless Internet\",\"Air conditioning\",Kitche...</td>\n",
       "      <td>7</td>\n",
       "      <td>1.0</td>\n",
       "      <td>Real Bed</td>\n",
       "      <td>strict</td>\n",
       "      <td>1</td>\n",
       "      <td>NYC</td>\n",
       "      <td>0</td>\n",
       "      <td>1.000000</td>\n",
       "      <td>1</td>\n",
       "      <td>6</td>\n",
       "      <td>93.000000</td>\n",
       "      <td>3.0</td>\n",
       "      <td>3.0</td>\n",
       "    </tr>\n",
       "    <tr>\n",
       "      <th>2</th>\n",
       "      <td>4.976734</td>\n",
       "      <td>Apartment</td>\n",
       "      <td>3</td>\n",
       "      <td>{TV,\"Cable TV\",\"Wireless Internet\",\"Air condit...</td>\n",
       "      <td>5</td>\n",
       "      <td>1.0</td>\n",
       "      <td>Real Bed</td>\n",
       "      <td>moderate</td>\n",
       "      <td>1</td>\n",
       "      <td>NYC</td>\n",
       "      <td>1</td>\n",
       "      <td>1.000000</td>\n",
       "      <td>1</td>\n",
       "      <td>10</td>\n",
       "      <td>92.000000</td>\n",
       "      <td>1.0</td>\n",
       "      <td>3.0</td>\n",
       "    </tr>\n",
       "    <tr>\n",
       "      <th>3</th>\n",
       "      <td>6.620073</td>\n",
       "      <td>House</td>\n",
       "      <td>3</td>\n",
       "      <td>{TV,\"Cable TV\",Internet,\"Wireless Internet\",Ki...</td>\n",
       "      <td>4</td>\n",
       "      <td>1.0</td>\n",
       "      <td>Real Bed</td>\n",
       "      <td>flexible</td>\n",
       "      <td>1</td>\n",
       "      <td>SF</td>\n",
       "      <td>1</td>\n",
       "      <td>0.942285</td>\n",
       "      <td>0</td>\n",
       "      <td>0</td>\n",
       "      <td>94.050566</td>\n",
       "      <td>2.0</td>\n",
       "      <td>2.0</td>\n",
       "    </tr>\n",
       "    <tr>\n",
       "      <th>4</th>\n",
       "      <td>4.744932</td>\n",
       "      <td>Apartment</td>\n",
       "      <td>3</td>\n",
       "      <td>{TV,Internet,\"Wireless Internet\",\"Air conditio...</td>\n",
       "      <td>2</td>\n",
       "      <td>1.0</td>\n",
       "      <td>Real Bed</td>\n",
       "      <td>moderate</td>\n",
       "      <td>1</td>\n",
       "      <td>DC</td>\n",
       "      <td>1</td>\n",
       "      <td>1.000000</td>\n",
       "      <td>1</td>\n",
       "      <td>4</td>\n",
       "      <td>40.000000</td>\n",
       "      <td>0.0</td>\n",
       "      <td>1.0</td>\n",
       "    </tr>\n",
       "  </tbody>\n",
       "</table>\n",
       "</div>"
      ],
      "text/plain": [
       "   log_price property_type  room_type  \\\n",
       "0   5.010635     Apartment          3   \n",
       "1   5.129899     Apartment          3   \n",
       "2   4.976734     Apartment          3   \n",
       "3   6.620073         House          3   \n",
       "4   4.744932     Apartment          3   \n",
       "\n",
       "                                           amenities  accommodates  bathrooms  \\\n",
       "0  {\"Wireless Internet\",\"Air conditioning\",Kitche...             3        1.0   \n",
       "1  {\"Wireless Internet\",\"Air conditioning\",Kitche...             7        1.0   \n",
       "2  {TV,\"Cable TV\",\"Wireless Internet\",\"Air condit...             5        1.0   \n",
       "3  {TV,\"Cable TV\",Internet,\"Wireless Internet\",Ki...             4        1.0   \n",
       "4  {TV,Internet,\"Wireless Internet\",\"Air conditio...             2        1.0   \n",
       "\n",
       "   bed_type cancellation_policy  cleaning_fee city  host_identity_verified  \\\n",
       "0  Real Bed              strict             1  NYC                       1   \n",
       "1  Real Bed              strict             1  NYC                       0   \n",
       "2  Real Bed            moderate             1  NYC                       1   \n",
       "3  Real Bed            flexible             1   SF                       1   \n",
       "4  Real Bed            moderate             1   DC                       1   \n",
       "\n",
       "   host_response_rate  instant_bookable  number_of_reviews  \\\n",
       "0            0.942285                 0                  2   \n",
       "1            1.000000                 1                  6   \n",
       "2            1.000000                 1                 10   \n",
       "3            0.942285                 0                  0   \n",
       "4            1.000000                 1                  4   \n",
       "\n",
       "   review_scores_rating  bedrooms  beds  \n",
       "0            100.000000       1.0   1.0  \n",
       "1             93.000000       3.0   3.0  \n",
       "2             92.000000       1.0   3.0  \n",
       "3             94.050566       2.0   2.0  \n",
       "4             40.000000       0.0   1.0  "
      ]
     },
     "execution_count": 28,
     "metadata": {},
     "output_type": "execute_result"
    }
   ],
   "source": [
    "cleandata.room_type = cleandata.room_type.apply(lambda x: 3 if x=='Entire home/apt' else 2 if x=='Private room' else 1)\n",
    "cleandata.head()"
   ]
  },
  {
   "cell_type": "code",
   "execution_count": 29,
   "metadata": {
    "execution": {
     "iopub.execute_input": "2021-06-15T07:40:06.936271Z",
     "iopub.status.busy": "2021-06-15T07:40:06.935876Z",
     "iopub.status.idle": "2021-06-15T07:40:07.398088Z",
     "shell.execute_reply": "2021-06-15T07:40:07.39729Z",
     "shell.execute_reply.started": "2021-06-15T07:40:06.936227Z"
    },
    "id": "yQuESglPfG5U",
    "outputId": "4b2a153d-359f-4524-ae81-fc3810f7b645"
   },
   "outputs": [
    {
     "data": {
      "image/png": "[encoded data removed]",
      "text/plain": [
       "<Figure size 432x288 with 1 Axes>"
      ]
     },
     "metadata": {},
     "output_type": "display_data"
    }
   ],
   "source": [
    "sns.countplot(cleandata['bed_type'])\n",
    "plt.title('Bed type')\n",
    "plt.show()"
   ]
  },
  {
   "cell_type": "code",
   "execution_count": 30,
   "metadata": {
    "execution": {
     "iopub.execute_input": "2021-06-15T07:40:07.400291Z",
     "iopub.status.busy": "2021-06-15T07:40:07.399891Z",
     "iopub.status.idle": "2021-06-15T07:40:07.411702Z",
     "shell.execute_reply": "2021-06-15T07:40:07.410556Z",
     "shell.execute_reply.started": "2021-06-15T07:40:07.400245Z"
    },
    "id": "X71tBVzCikNl",
    "outputId": "a1c97f2f-70bb-4b73-c3dc-0bee1177579e"
   },
   "outputs": [
    {
     "data": {
      "text/plain": [
       "array(['Real Bed', 'Futon', 'Pull-out Sofa', 'Couch', 'Airbed'],\n",
       "      dtype=object)"
      ]
     },
     "execution_count": 30,
     "metadata": {},
     "output_type": "execute_result"
    }
   ],
   "source": [
    "cleandata.bed_type.unique()"
   ]
  },
  {
   "cell_type": "code",
   "execution_count": 31,
   "metadata": {
    "execution": {
     "iopub.execute_input": "2021-06-15T07:40:07.414247Z",
     "iopub.status.busy": "2021-06-15T07:40:07.41367Z",
     "iopub.status.idle": "2021-06-15T07:40:07.47849Z",
     "shell.execute_reply": "2021-06-15T07:40:07.477667Z",
     "shell.execute_reply.started": "2021-06-15T07:40:07.414198Z"
    },
    "id": "IlI5qjyth2Gk"
   },
   "outputs": [],
   "source": [
    "cleandata.bed_type = cleandata.bed_type.apply(lambda x: 2 if x=='Real Bed' else 1)"
   ]
  },
  {
   "cell_type": "code",
   "execution_count": 32,
   "metadata": {},
   "outputs": [
    {
     "data": {
      "image/png": "[encoded data removed]",
      "text/plain": [
       "<Figure size 432x288 with 1 Axes>"
      ]
     },
     "metadata": {},
     "output_type": "display_data"
    }
   ],
   "source": [
    "sns.countplot(cleandata['cancellation_policy'])\n",
    "plt.title('Cancellation Policy')\n",
    "plt.show()"
   ]
  },
  {
   "cell_type": "code",
   "execution_count": 33,
   "metadata": {
    "execution": {
     "iopub.execute_input": "2021-06-15T07:40:07.919231Z",
     "iopub.status.busy": "2021-06-15T07:40:07.918873Z",
     "iopub.status.idle": "2021-06-15T07:40:07.931406Z",
     "shell.execute_reply": "2021-06-15T07:40:07.930025Z",
     "shell.execute_reply.started": "2021-06-15T07:40:07.919188Z"
    },
    "id": "gnJpC9pyjeAX",
    "outputId": "30c36f68-09a4-456a-d0c7-f06679d8cf4d"
   },
   "outputs": [
    {
     "data": {
      "text/plain": [
       "array(['strict', 'moderate', 'flexible', 'super_strict_30',\n",
       "       'super_strict_60'], dtype=object)"
      ]
     },
     "execution_count": 33,
     "metadata": {},
     "output_type": "execute_result"
    }
   ],
   "source": [
    "cleandata.cancellation_policy.unique()"
   ]
  },
  {
   "cell_type": "code",
   "execution_count": 34,
   "metadata": {
    "execution": {
     "iopub.execute_input": "2021-06-15T07:40:07.933266Z",
     "iopub.status.busy": "2021-06-15T07:40:07.933015Z",
     "iopub.status.idle": "2021-06-15T07:40:07.989917Z",
     "shell.execute_reply": "2021-06-15T07:40:07.989101Z",
     "shell.execute_reply.started": "2021-06-15T07:40:07.933239Z"
    },
    "id": "Z6MmLFwhh4RF"
   },
   "outputs": [],
   "source": [
    "cleandata.cancellation_policy = cleandata.cancellation_policy.apply(lambda x: 4 if x=='flexible' else 3 if x=='moderate' else 2 if x=='strict' else 1)"
   ]
  },
  {
   "cell_type": "code",
   "execution_count": 35,
   "metadata": {
    "execution": {
     "iopub.execute_input": "2021-06-15T07:40:08.427794Z",
     "iopub.status.busy": "2021-06-15T07:40:08.427535Z",
     "iopub.status.idle": "2021-06-15T07:40:08.438554Z",
     "shell.execute_reply": "2021-06-15T07:40:08.437397Z",
     "shell.execute_reply.started": "2021-06-15T07:40:08.427746Z"
    },
    "id": "TroF0Ptyj7hu",
    "outputId": "86414a37-9f51-41a3-f69b-56755d5b6d9e"
   },
   "outputs": [
    {
     "data": {
      "text/plain": [
       "array(['NYC', 'SF', 'DC', 'LA', 'Chicago', 'Boston'], dtype=object)"
      ]
     },
     "execution_count": 35,
     "metadata": {},
     "output_type": "execute_result"
    }
   ],
   "source": [
    "cleandata.city.unique()"
   ]
  },
  {
   "cell_type": "code",
   "execution_count": 36,
   "metadata": {},
   "outputs": [
    {
     "data": {
      "image/png": "[encoded data removed]",
      "text/plain": [
       "<Figure size 432x288 with 1 Axes>"
      ]
     },
     "metadata": {},
     "output_type": "display_data"
    }
   ],
   "source": [
    "sns.countplot(cleandata['city'])\n",
    "plt.title('City')\n",
    "plt.show()"
   ]
  },
  {
   "cell_type": "code",
   "execution_count": 37,
   "metadata": {
    "execution": {
     "iopub.execute_input": "2021-06-15T07:40:08.440623Z",
     "iopub.status.busy": "2021-06-15T07:40:08.440116Z",
     "iopub.status.idle": "2021-06-15T07:40:08.471507Z",
     "shell.execute_reply": "2021-06-15T07:40:08.470734Z",
     "shell.execute_reply.started": "2021-06-15T07:40:08.440591Z"
    },
    "id": "HdKHzDTruLou"
   },
   "outputs": [],
   "source": [
    "cleandata = pd.concat([cleandata, pd.get_dummies(cleandata['city'], prefix='city')],axis=1)"
   ]
  },
  {
   "cell_type": "code",
   "execution_count": 38,
   "metadata": {
    "execution": {
     "iopub.execute_input": "2021-06-15T07:40:08.473479Z",
     "iopub.status.busy": "2021-06-15T07:40:08.473213Z",
     "iopub.status.idle": "2021-06-15T07:40:08.502155Z",
     "shell.execute_reply": "2021-06-15T07:40:08.501162Z",
     "shell.execute_reply.started": "2021-06-15T07:40:08.47345Z"
    },
    "id": "cIfpISZszIGz"
   },
   "outputs": [
    {
     "data": {
      "text/html": [
       "<div>\n",
       "<style scoped>\n",
       "    .dataframe tbody tr th:only-of-type {\n",
       "        vertical-align: middle;\n",
       "    }\n",
       "\n",
       "    .dataframe tbody tr th {\n",
       "        vertical-align: top;\n",
       "    }\n",
       "\n",
       "    .dataframe thead th {\n",
       "        text-align: right;\n",
       "    }\n",
       "</style>\n",
       "<table border=\"1\" class=\"dataframe\">\n",
       "  <thead>\n",
       "    <tr style=\"text-align: right;\">\n",
       "      <th></th>\n",
       "      <th>log_price</th>\n",
       "      <th>property_type</th>\n",
       "      <th>room_type</th>\n",
       "      <th>amenities</th>\n",
       "      <th>accommodates</th>\n",
       "      <th>bathrooms</th>\n",
       "      <th>bed_type</th>\n",
       "      <th>cancellation_policy</th>\n",
       "      <th>cleaning_fee</th>\n",
       "      <th>host_identity_verified</th>\n",
       "      <th>...</th>\n",
       "      <th>number_of_reviews</th>\n",
       "      <th>review_scores_rating</th>\n",
       "      <th>bedrooms</th>\n",
       "      <th>beds</th>\n",
       "      <th>city_Boston</th>\n",
       "      <th>city_Chicago</th>\n",
       "      <th>city_DC</th>\n",
       "      <th>city_LA</th>\n",
       "      <th>city_NYC</th>\n",
       "      <th>city_SF</th>\n",
       "    </tr>\n",
       "  </thead>\n",
       "  <tbody>\n",
       "    <tr>\n",
       "      <th>0</th>\n",
       "      <td>5.010635</td>\n",
       "      <td>Apartment</td>\n",
       "      <td>3</td>\n",
       "      <td>{\"Wireless Internet\",\"Air conditioning\",Kitche...</td>\n",
       "      <td>3</td>\n",
       "      <td>1.0</td>\n",
       "      <td>2</td>\n",
       "      <td>2</td>\n",
       "      <td>1</td>\n",
       "      <td>1</td>\n",
       "      <td>...</td>\n",
       "      <td>2</td>\n",
       "      <td>100.000000</td>\n",
       "      <td>1.0</td>\n",
       "      <td>1.0</td>\n",
       "      <td>0</td>\n",
       "      <td>0</td>\n",
       "      <td>0</td>\n",
       "      <td>0</td>\n",
       "      <td>1</td>\n",
       "      <td>0</td>\n",
       "    </tr>\n",
       "    <tr>\n",
       "      <th>1</th>\n",
       "      <td>5.129899</td>\n",
       "      <td>Apartment</td>\n",
       "      <td>3</td>\n",
       "      <td>{\"Wireless Internet\",\"Air conditioning\",Kitche...</td>\n",
       "      <td>7</td>\n",
       "      <td>1.0</td>\n",
       "      <td>2</td>\n",
       "      <td>2</td>\n",
       "      <td>1</td>\n",
       "      <td>0</td>\n",
       "      <td>...</td>\n",
       "      <td>6</td>\n",
       "      <td>93.000000</td>\n",
       "      <td>3.0</td>\n",
       "      <td>3.0</td>\n",
       "      <td>0</td>\n",
       "      <td>0</td>\n",
       "      <td>0</td>\n",
       "      <td>0</td>\n",
       "      <td>1</td>\n",
       "      <td>0</td>\n",
       "    </tr>\n",
       "    <tr>\n",
       "      <th>2</th>\n",
       "      <td>4.976734</td>\n",
       "      <td>Apartment</td>\n",
       "      <td>3</td>\n",
       "      <td>{TV,\"Cable TV\",\"Wireless Internet\",\"Air condit...</td>\n",
       "      <td>5</td>\n",
       "      <td>1.0</td>\n",
       "      <td>2</td>\n",
       "      <td>3</td>\n",
       "      <td>1</td>\n",
       "      <td>1</td>\n",
       "      <td>...</td>\n",
       "      <td>10</td>\n",
       "      <td>92.000000</td>\n",
       "      <td>1.0</td>\n",
       "      <td>3.0</td>\n",
       "      <td>0</td>\n",
       "      <td>0</td>\n",
       "      <td>0</td>\n",
       "      <td>0</td>\n",
       "      <td>1</td>\n",
       "      <td>0</td>\n",
       "    </tr>\n",
       "    <tr>\n",
       "      <th>3</th>\n",
       "      <td>6.620073</td>\n",
       "      <td>House</td>\n",
       "      <td>3</td>\n",
       "      <td>{TV,\"Cable TV\",Internet,\"Wireless Internet\",Ki...</td>\n",
       "      <td>4</td>\n",
       "      <td>1.0</td>\n",
       "      <td>2</td>\n",
       "      <td>4</td>\n",
       "      <td>1</td>\n",
       "      <td>1</td>\n",
       "      <td>...</td>\n",
       "      <td>0</td>\n",
       "      <td>94.050566</td>\n",
       "      <td>2.0</td>\n",
       "      <td>2.0</td>\n",
       "      <td>0</td>\n",
       "      <td>0</td>\n",
       "      <td>0</td>\n",
       "      <td>0</td>\n",
       "      <td>0</td>\n",
       "      <td>1</td>\n",
       "    </tr>\n",
       "    <tr>\n",
       "      <th>4</th>\n",
       "      <td>4.744932</td>\n",
       "      <td>Apartment</td>\n",
       "      <td>3</td>\n",
       "      <td>{TV,Internet,\"Wireless Internet\",\"Air conditio...</td>\n",
       "      <td>2</td>\n",
       "      <td>1.0</td>\n",
       "      <td>2</td>\n",
       "      <td>3</td>\n",
       "      <td>1</td>\n",
       "      <td>1</td>\n",
       "      <td>...</td>\n",
       "      <td>4</td>\n",
       "      <td>40.000000</td>\n",
       "      <td>0.0</td>\n",
       "      <td>1.0</td>\n",
       "      <td>0</td>\n",
       "      <td>0</td>\n",
       "      <td>1</td>\n",
       "      <td>0</td>\n",
       "      <td>0</td>\n",
       "      <td>0</td>\n",
       "    </tr>\n",
       "  </tbody>\n",
       "</table>\n",
       "<p>5 rows × 22 columns</p>\n",
       "</div>"
      ],
      "text/plain": [
       "   log_price property_type  room_type  \\\n",
       "0   5.010635     Apartment          3   \n",
       "1   5.129899     Apartment          3   \n",
       "2   4.976734     Apartment          3   \n",
       "3   6.620073         House          3   \n",
       "4   4.744932     Apartment          3   \n",
       "\n",
       "                                           amenities  accommodates  bathrooms  \\\n",
       "0  {\"Wireless Internet\",\"Air conditioning\",Kitche...             3        1.0   \n",
       "1  {\"Wireless Internet\",\"Air conditioning\",Kitche...             7        1.0   \n",
       "2  {TV,\"Cable TV\",\"Wireless Internet\",\"Air condit...             5        1.0   \n",
       "3  {TV,\"Cable TV\",Internet,\"Wireless Internet\",Ki...             4        1.0   \n",
       "4  {TV,Internet,\"Wireless Internet\",\"Air conditio...             2        1.0   \n",
       "\n",
       "   bed_type  cancellation_policy  cleaning_fee  host_identity_verified  ...  \\\n",
       "0         2                    2             1                       1  ...   \n",
       "1         2                    2             1                       0  ...   \n",
       "2         2                    3             1                       1  ...   \n",
       "3         2                    4             1                       1  ...   \n",
       "4         2                    3             1                       1  ...   \n",
       "\n",
       "   number_of_reviews  review_scores_rating  bedrooms  beds  city_Boston  \\\n",
       "0                  2            100.000000       1.0   1.0            0   \n",
       "1                  6             93.000000       3.0   3.0            0   \n",
       "2                 10             92.000000       1.0   3.0            0   \n",
       "3                  0             94.050566       2.0   2.0            0   \n",
       "4                  4             40.000000       0.0   1.0            0   \n",
       "\n",
       "   city_Chicago  city_DC  city_LA  city_NYC  city_SF  \n",
       "0             0        0        0         1        0  \n",
       "1             0        0        0         1        0  \n",
       "2             0        0        0         1        0  \n",
       "3             0        0        0         0        1  \n",
       "4             0        1        0         0        0  \n",
       "\n",
       "[5 rows x 22 columns]"
      ]
     },
     "execution_count": 38,
     "metadata": {},
     "output_type": "execute_result"
    }
   ],
   "source": [
    "cleandata = cleandata.drop(['city'],axis=1)\n",
    "cleandata.head()"
   ]
  },
  {
   "cell_type": "code",
   "execution_count": 39,
   "metadata": {
    "execution": {
     "iopub.execute_input": "2021-06-15T07:40:08.520404Z",
     "iopub.status.busy": "2021-06-15T07:40:08.520045Z",
     "iopub.status.idle": "2021-06-15T07:40:08.557164Z",
     "shell.execute_reply": "2021-06-15T07:40:08.55612Z",
     "shell.execute_reply.started": "2021-06-15T07:40:08.520363Z"
    },
    "id": "_Z1EATpjzUiw",
    "outputId": "2d9622eb-d5f8-4c9c-ba0e-0ff2620243d5"
   },
   "outputs": [
    {
     "name": "stdout",
     "output_type": "stream",
     "text": [
      "<class 'pandas.core.frame.DataFrame'>\n",
      "RangeIndex: 3500 entries, 0 to 3499\n",
      "Data columns (total 22 columns):\n",
      " #   Column                  Non-Null Count  Dtype  \n",
      "---  ------                  --------------  -----  \n",
      " 0   log_price               3500 non-null   float64\n",
      " 1   property_type           3500 non-null   object \n",
      " 2   room_type               3500 non-null   int64  \n",
      " 3   amenities               3500 non-null   object \n",
      " 4   accommodates            3500 non-null   int64  \n",
      " 5   bathrooms               3500 non-null   float64\n",
      " 6   bed_type                3500 non-null   int64  \n",
      " 7   cancellation_policy     3500 non-null   int64  \n",
      " 8   cleaning_fee            3500 non-null   int32  \n",
      " 9   host_identity_verified  3500 non-null   int32  \n",
      " 10  host_response_rate      3500 non-null   float64\n",
      " 11  instant_bookable        3500 non-null   int32  \n",
      " 12  number_of_reviews       3500 non-null   int64  \n",
      " 13  review_scores_rating    3500 non-null   float64\n",
      " 14  bedrooms                3500 non-null   float64\n",
      " 15  beds                    3500 non-null   float64\n",
      " 16  city_Boston             3500 non-null   uint8  \n",
      " 17  city_Chicago            3500 non-null   uint8  \n",
      " 18  city_DC                 3500 non-null   uint8  \n",
      " 19  city_LA                 3500 non-null   uint8  \n",
      " 20  city_NYC                3500 non-null   uint8  \n",
      " 21  city_SF                 3500 non-null   uint8  \n",
      "dtypes: float64(6), int32(3), int64(5), object(2), uint8(6)\n",
      "memory usage: 417.1+ KB\n"
     ]
    }
   ],
   "source": [
    "cleandata.info()"
   ]
  },
  {
   "cell_type": "code",
   "execution_count": 40,
   "metadata": {
    "execution": {
     "iopub.execute_input": "2021-06-15T07:40:08.558597Z",
     "iopub.status.busy": "2021-06-15T07:40:08.558359Z",
     "iopub.status.idle": "2021-06-15T07:40:08.595022Z",
     "shell.execute_reply": "2021-06-15T07:40:08.5939Z",
     "shell.execute_reply.started": "2021-06-15T07:40:08.558571Z"
    },
    "id": "i_3l7MzYFot2"
   },
   "outputs": [
    {
     "data": {
      "text/html": [
       "<div>\n",
       "<style scoped>\n",
       "    .dataframe tbody tr th:only-of-type {\n",
       "        vertical-align: middle;\n",
       "    }\n",
       "\n",
       "    .dataframe tbody tr th {\n",
       "        vertical-align: top;\n",
       "    }\n",
       "\n",
       "    .dataframe thead th {\n",
       "        text-align: right;\n",
       "    }\n",
       "</style>\n",
       "<table border=\"1\" class=\"dataframe\">\n",
       "  <thead>\n",
       "    <tr style=\"text-align: right;\">\n",
       "      <th></th>\n",
       "      <th>log_price</th>\n",
       "      <th>property_type</th>\n",
       "      <th>room_type</th>\n",
       "      <th>accommodates</th>\n",
       "      <th>bathrooms</th>\n",
       "      <th>bed_type</th>\n",
       "      <th>cancellation_policy</th>\n",
       "      <th>cleaning_fee</th>\n",
       "      <th>host_identity_verified</th>\n",
       "      <th>host_response_rate</th>\n",
       "      <th>...</th>\n",
       "      <th>review_scores_rating</th>\n",
       "      <th>bedrooms</th>\n",
       "      <th>beds</th>\n",
       "      <th>city_Boston</th>\n",
       "      <th>city_Chicago</th>\n",
       "      <th>city_DC</th>\n",
       "      <th>city_LA</th>\n",
       "      <th>city_NYC</th>\n",
       "      <th>city_SF</th>\n",
       "      <th>amenities_count</th>\n",
       "    </tr>\n",
       "  </thead>\n",
       "  <tbody>\n",
       "    <tr>\n",
       "      <th>0</th>\n",
       "      <td>5.010635</td>\n",
       "      <td>Apartment</td>\n",
       "      <td>3</td>\n",
       "      <td>3</td>\n",
       "      <td>1.0</td>\n",
       "      <td>2</td>\n",
       "      <td>2</td>\n",
       "      <td>1</td>\n",
       "      <td>1</td>\n",
       "      <td>0.942285</td>\n",
       "      <td>...</td>\n",
       "      <td>100.000000</td>\n",
       "      <td>1.0</td>\n",
       "      <td>1.0</td>\n",
       "      <td>0</td>\n",
       "      <td>0</td>\n",
       "      <td>0</td>\n",
       "      <td>0</td>\n",
       "      <td>1</td>\n",
       "      <td>0</td>\n",
       "      <td>8</td>\n",
       "    </tr>\n",
       "    <tr>\n",
       "      <th>1</th>\n",
       "      <td>5.129899</td>\n",
       "      <td>Apartment</td>\n",
       "      <td>3</td>\n",
       "      <td>7</td>\n",
       "      <td>1.0</td>\n",
       "      <td>2</td>\n",
       "      <td>2</td>\n",
       "      <td>1</td>\n",
       "      <td>0</td>\n",
       "      <td>1.000000</td>\n",
       "      <td>...</td>\n",
       "      <td>93.000000</td>\n",
       "      <td>3.0</td>\n",
       "      <td>3.0</td>\n",
       "      <td>0</td>\n",
       "      <td>0</td>\n",
       "      <td>0</td>\n",
       "      <td>0</td>\n",
       "      <td>1</td>\n",
       "      <td>0</td>\n",
       "      <td>14</td>\n",
       "    </tr>\n",
       "    <tr>\n",
       "      <th>2</th>\n",
       "      <td>4.976734</td>\n",
       "      <td>Apartment</td>\n",
       "      <td>3</td>\n",
       "      <td>5</td>\n",
       "      <td>1.0</td>\n",
       "      <td>2</td>\n",
       "      <td>3</td>\n",
       "      <td>1</td>\n",
       "      <td>1</td>\n",
       "      <td>1.000000</td>\n",
       "      <td>...</td>\n",
       "      <td>92.000000</td>\n",
       "      <td>1.0</td>\n",
       "      <td>3.0</td>\n",
       "      <td>0</td>\n",
       "      <td>0</td>\n",
       "      <td>0</td>\n",
       "      <td>0</td>\n",
       "      <td>1</td>\n",
       "      <td>0</td>\n",
       "      <td>18</td>\n",
       "    </tr>\n",
       "    <tr>\n",
       "      <th>3</th>\n",
       "      <td>6.620073</td>\n",
       "      <td>House</td>\n",
       "      <td>3</td>\n",
       "      <td>4</td>\n",
       "      <td>1.0</td>\n",
       "      <td>2</td>\n",
       "      <td>4</td>\n",
       "      <td>1</td>\n",
       "      <td>1</td>\n",
       "      <td>0.942285</td>\n",
       "      <td>...</td>\n",
       "      <td>94.050566</td>\n",
       "      <td>2.0</td>\n",
       "      <td>2.0</td>\n",
       "      <td>0</td>\n",
       "      <td>0</td>\n",
       "      <td>0</td>\n",
       "      <td>0</td>\n",
       "      <td>0</td>\n",
       "      <td>1</td>\n",
       "      <td>14</td>\n",
       "    </tr>\n",
       "    <tr>\n",
       "      <th>4</th>\n",
       "      <td>4.744932</td>\n",
       "      <td>Apartment</td>\n",
       "      <td>3</td>\n",
       "      <td>2</td>\n",
       "      <td>1.0</td>\n",
       "      <td>2</td>\n",
       "      <td>3</td>\n",
       "      <td>1</td>\n",
       "      <td>1</td>\n",
       "      <td>1.000000</td>\n",
       "      <td>...</td>\n",
       "      <td>40.000000</td>\n",
       "      <td>0.0</td>\n",
       "      <td>1.0</td>\n",
       "      <td>0</td>\n",
       "      <td>0</td>\n",
       "      <td>1</td>\n",
       "      <td>0</td>\n",
       "      <td>0</td>\n",
       "      <td>0</td>\n",
       "      <td>11</td>\n",
       "    </tr>\n",
       "  </tbody>\n",
       "</table>\n",
       "<p>5 rows × 22 columns</p>\n",
       "</div>"
      ],
      "text/plain": [
       "   log_price property_type  room_type  accommodates  bathrooms  bed_type  \\\n",
       "0   5.010635     Apartment          3             3        1.0         2   \n",
       "1   5.129899     Apartment          3             7        1.0         2   \n",
       "2   4.976734     Apartment          3             5        1.0         2   \n",
       "3   6.620073         House          3             4        1.0         2   \n",
       "4   4.744932     Apartment          3             2        1.0         2   \n",
       "\n",
       "   cancellation_policy  cleaning_fee  host_identity_verified  \\\n",
       "0                    2             1                       1   \n",
       "1                    2             1                       0   \n",
       "2                    3             1                       1   \n",
       "3                    4             1                       1   \n",
       "4                    3             1                       1   \n",
       "\n",
       "   host_response_rate  ...  review_scores_rating  bedrooms  beds  city_Boston  \\\n",
       "0            0.942285  ...            100.000000       1.0   1.0            0   \n",
       "1            1.000000  ...             93.000000       3.0   3.0            0   \n",
       "2            1.000000  ...             92.000000       1.0   3.0            0   \n",
       "3            0.942285  ...             94.050566       2.0   2.0            0   \n",
       "4            1.000000  ...             40.000000       0.0   1.0            0   \n",
       "\n",
       "   city_Chicago  city_DC  city_LA  city_NYC  city_SF  amenities_count  \n",
       "0             0        0        0         1        0                8  \n",
       "1             0        0        0         1        0               14  \n",
       "2             0        0        0         1        0               18  \n",
       "3             0        0        0         0        1               14  \n",
       "4             0        1        0         0        0               11  \n",
       "\n",
       "[5 rows x 22 columns]"
      ]
     },
     "execution_count": 40,
     "metadata": {},
     "output_type": "execute_result"
    }
   ],
   "source": [
    "cleandata['amenities_count'] = pd.Series(amenitiescol)\n",
    "cleandata = cleandata.drop(['amenities'], axis=1)\n",
    "cleandata.head()"
   ]
  },
  {
   "cell_type": "code",
   "execution_count": 41,
   "metadata": {
    "execution": {
     "iopub.execute_input": "2021-06-15T07:40:08.62047Z",
     "iopub.status.busy": "2021-06-15T07:40:08.620184Z",
     "iopub.status.idle": "2021-06-15T07:40:08.818526Z",
     "shell.execute_reply": "2021-06-15T07:40:08.81756Z",
     "shell.execute_reply.started": "2021-06-15T07:40:08.620429Z"
    },
    "id": "nakr1SCsMAja"
   },
   "outputs": [],
   "source": [
    "cleandata.review_scores_rating = cleandata.review_scores_rating/100"
   ]
  },
  {
   "cell_type": "code",
   "execution_count": 42,
   "metadata": {},
   "outputs": [
    {
     "data": {
      "text/html": [
       "<div>\n",
       "<style scoped>\n",
       "    .dataframe tbody tr th:only-of-type {\n",
       "        vertical-align: middle;\n",
       "    }\n",
       "\n",
       "    .dataframe tbody tr th {\n",
       "        vertical-align: top;\n",
       "    }\n",
       "\n",
       "    .dataframe thead th {\n",
       "        text-align: right;\n",
       "    }\n",
       "</style>\n",
       "<table border=\"1\" class=\"dataframe\">\n",
       "  <thead>\n",
       "    <tr style=\"text-align: right;\">\n",
       "      <th></th>\n",
       "      <th>log_price</th>\n",
       "      <th>property_type</th>\n",
       "      <th>room_type</th>\n",
       "      <th>accommodates</th>\n",
       "      <th>bathrooms</th>\n",
       "      <th>bed_type</th>\n",
       "      <th>cancellation_policy</th>\n",
       "      <th>cleaning_fee</th>\n",
       "      <th>host_identity_verified</th>\n",
       "      <th>host_response_rate</th>\n",
       "      <th>...</th>\n",
       "      <th>review_scores_rating</th>\n",
       "      <th>bedrooms</th>\n",
       "      <th>beds</th>\n",
       "      <th>city_Boston</th>\n",
       "      <th>city_Chicago</th>\n",
       "      <th>city_DC</th>\n",
       "      <th>city_LA</th>\n",
       "      <th>city_NYC</th>\n",
       "      <th>city_SF</th>\n",
       "      <th>amenities_count</th>\n",
       "    </tr>\n",
       "  </thead>\n",
       "  <tbody>\n",
       "    <tr>\n",
       "      <th>0</th>\n",
       "      <td>5.010635</td>\n",
       "      <td>Apartment</td>\n",
       "      <td>3</td>\n",
       "      <td>3</td>\n",
       "      <td>1.0</td>\n",
       "      <td>2</td>\n",
       "      <td>2</td>\n",
       "      <td>1</td>\n",
       "      <td>1</td>\n",
       "      <td>0.942285</td>\n",
       "      <td>...</td>\n",
       "      <td>1.000000</td>\n",
       "      <td>1.0</td>\n",
       "      <td>1.0</td>\n",
       "      <td>0</td>\n",
       "      <td>0</td>\n",
       "      <td>0</td>\n",
       "      <td>0</td>\n",
       "      <td>1</td>\n",
       "      <td>0</td>\n",
       "      <td>8</td>\n",
       "    </tr>\n",
       "    <tr>\n",
       "      <th>1</th>\n",
       "      <td>5.129899</td>\n",
       "      <td>Apartment</td>\n",
       "      <td>3</td>\n",
       "      <td>7</td>\n",
       "      <td>1.0</td>\n",
       "      <td>2</td>\n",
       "      <td>2</td>\n",
       "      <td>1</td>\n",
       "      <td>0</td>\n",
       "      <td>1.000000</td>\n",
       "      <td>...</td>\n",
       "      <td>0.930000</td>\n",
       "      <td>3.0</td>\n",
       "      <td>3.0</td>\n",
       "      <td>0</td>\n",
       "      <td>0</td>\n",
       "      <td>0</td>\n",
       "      <td>0</td>\n",
       "      <td>1</td>\n",
       "      <td>0</td>\n",
       "      <td>14</td>\n",
       "    </tr>\n",
       "    <tr>\n",
       "      <th>2</th>\n",
       "      <td>4.976734</td>\n",
       "      <td>Apartment</td>\n",
       "      <td>3</td>\n",
       "      <td>5</td>\n",
       "      <td>1.0</td>\n",
       "      <td>2</td>\n",
       "      <td>3</td>\n",
       "      <td>1</td>\n",
       "      <td>1</td>\n",
       "      <td>1.000000</td>\n",
       "      <td>...</td>\n",
       "      <td>0.920000</td>\n",
       "      <td>1.0</td>\n",
       "      <td>3.0</td>\n",
       "      <td>0</td>\n",
       "      <td>0</td>\n",
       "      <td>0</td>\n",
       "      <td>0</td>\n",
       "      <td>1</td>\n",
       "      <td>0</td>\n",
       "      <td>18</td>\n",
       "    </tr>\n",
       "    <tr>\n",
       "      <th>3</th>\n",
       "      <td>6.620073</td>\n",
       "      <td>House</td>\n",
       "      <td>3</td>\n",
       "      <td>4</td>\n",
       "      <td>1.0</td>\n",
       "      <td>2</td>\n",
       "      <td>4</td>\n",
       "      <td>1</td>\n",
       "      <td>1</td>\n",
       "      <td>0.942285</td>\n",
       "      <td>...</td>\n",
       "      <td>0.940506</td>\n",
       "      <td>2.0</td>\n",
       "      <td>2.0</td>\n",
       "      <td>0</td>\n",
       "      <td>0</td>\n",
       "      <td>0</td>\n",
       "      <td>0</td>\n",
       "      <td>0</td>\n",
       "      <td>1</td>\n",
       "      <td>14</td>\n",
       "    </tr>\n",
       "    <tr>\n",
       "      <th>4</th>\n",
       "      <td>4.744932</td>\n",
       "      <td>Apartment</td>\n",
       "      <td>3</td>\n",
       "      <td>2</td>\n",
       "      <td>1.0</td>\n",
       "      <td>2</td>\n",
       "      <td>3</td>\n",
       "      <td>1</td>\n",
       "      <td>1</td>\n",
       "      <td>1.000000</td>\n",
       "      <td>...</td>\n",
       "      <td>0.400000</td>\n",
       "      <td>0.0</td>\n",
       "      <td>1.0</td>\n",
       "      <td>0</td>\n",
       "      <td>0</td>\n",
       "      <td>1</td>\n",
       "      <td>0</td>\n",
       "      <td>0</td>\n",
       "      <td>0</td>\n",
       "      <td>11</td>\n",
       "    </tr>\n",
       "  </tbody>\n",
       "</table>\n",
       "<p>5 rows × 22 columns</p>\n",
       "</div>"
      ],
      "text/plain": [
       "   log_price property_type  room_type  accommodates  bathrooms  bed_type  \\\n",
       "0   5.010635     Apartment          3             3        1.0         2   \n",
       "1   5.129899     Apartment          3             7        1.0         2   \n",
       "2   4.976734     Apartment          3             5        1.0         2   \n",
       "3   6.620073         House          3             4        1.0         2   \n",
       "4   4.744932     Apartment          3             2        1.0         2   \n",
       "\n",
       "   cancellation_policy  cleaning_fee  host_identity_verified  \\\n",
       "0                    2             1                       1   \n",
       "1                    2             1                       0   \n",
       "2                    3             1                       1   \n",
       "3                    4             1                       1   \n",
       "4                    3             1                       1   \n",
       "\n",
       "   host_response_rate  ...  review_scores_rating  bedrooms  beds  city_Boston  \\\n",
       "0            0.942285  ...              1.000000       1.0   1.0            0   \n",
       "1            1.000000  ...              0.930000       3.0   3.0            0   \n",
       "2            1.000000  ...              0.920000       1.0   3.0            0   \n",
       "3            0.942285  ...              0.940506       2.0   2.0            0   \n",
       "4            1.000000  ...              0.400000       0.0   1.0            0   \n",
       "\n",
       "   city_Chicago  city_DC  city_LA  city_NYC  city_SF  amenities_count  \n",
       "0             0        0        0         1        0                8  \n",
       "1             0        0        0         1        0               14  \n",
       "2             0        0        0         1        0               18  \n",
       "3             0        0        0         0        1               14  \n",
       "4             0        1        0         0        0               11  \n",
       "\n",
       "[5 rows x 22 columns]"
      ]
     },
     "execution_count": 42,
     "metadata": {},
     "output_type": "execute_result"
    }
   ],
   "source": [
    "cleandata.head()"
   ]
  },
  {
   "cell_type": "code",
   "execution_count": 43,
   "metadata": {},
   "outputs": [
    {
     "data": {
      "text/html": [
       "<div>\n",
       "<style scoped>\n",
       "    .dataframe tbody tr th:only-of-type {\n",
       "        vertical-align: middle;\n",
       "    }\n",
       "\n",
       "    .dataframe tbody tr th {\n",
       "        vertical-align: top;\n",
       "    }\n",
       "\n",
       "    .dataframe thead th {\n",
       "        text-align: right;\n",
       "    }\n",
       "</style>\n",
       "<table border=\"1\" class=\"dataframe\">\n",
       "  <thead>\n",
       "    <tr style=\"text-align: right;\">\n",
       "      <th></th>\n",
       "      <th>log_price</th>\n",
       "      <th>property_type</th>\n",
       "      <th>room_type</th>\n",
       "      <th>accommodates</th>\n",
       "      <th>bathrooms</th>\n",
       "      <th>bed_type</th>\n",
       "      <th>cancellation_policy</th>\n",
       "      <th>cleaning_fee</th>\n",
       "      <th>host_identity_verified</th>\n",
       "      <th>host_response_rate</th>\n",
       "      <th>...</th>\n",
       "      <th>review_scores_rating</th>\n",
       "      <th>bedrooms</th>\n",
       "      <th>beds</th>\n",
       "      <th>city_Boston</th>\n",
       "      <th>city_Chicago</th>\n",
       "      <th>city_DC</th>\n",
       "      <th>city_LA</th>\n",
       "      <th>city_NYC</th>\n",
       "      <th>city_SF</th>\n",
       "      <th>amenities_count</th>\n",
       "    </tr>\n",
       "  </thead>\n",
       "  <tbody>\n",
       "    <tr>\n",
       "      <th>0</th>\n",
       "      <td>5.010635</td>\n",
       "      <td>0</td>\n",
       "      <td>3</td>\n",
       "      <td>3</td>\n",
       "      <td>1.0</td>\n",
       "      <td>2</td>\n",
       "      <td>2</td>\n",
       "      <td>1</td>\n",
       "      <td>1</td>\n",
       "      <td>0.942285</td>\n",
       "      <td>...</td>\n",
       "      <td>1.000000</td>\n",
       "      <td>1.0</td>\n",
       "      <td>1.0</td>\n",
       "      <td>0</td>\n",
       "      <td>0</td>\n",
       "      <td>0</td>\n",
       "      <td>0</td>\n",
       "      <td>1</td>\n",
       "      <td>0</td>\n",
       "      <td>8</td>\n",
       "    </tr>\n",
       "    <tr>\n",
       "      <th>1</th>\n",
       "      <td>5.129899</td>\n",
       "      <td>0</td>\n",
       "      <td>3</td>\n",
       "      <td>7</td>\n",
       "      <td>1.0</td>\n",
       "      <td>2</td>\n",
       "      <td>2</td>\n",
       "      <td>1</td>\n",
       "      <td>0</td>\n",
       "      <td>1.000000</td>\n",
       "      <td>...</td>\n",
       "      <td>0.930000</td>\n",
       "      <td>3.0</td>\n",
       "      <td>3.0</td>\n",
       "      <td>0</td>\n",
       "      <td>0</td>\n",
       "      <td>0</td>\n",
       "      <td>0</td>\n",
       "      <td>1</td>\n",
       "      <td>0</td>\n",
       "      <td>14</td>\n",
       "    </tr>\n",
       "    <tr>\n",
       "      <th>2</th>\n",
       "      <td>4.976734</td>\n",
       "      <td>0</td>\n",
       "      <td>3</td>\n",
       "      <td>5</td>\n",
       "      <td>1.0</td>\n",
       "      <td>2</td>\n",
       "      <td>3</td>\n",
       "      <td>1</td>\n",
       "      <td>1</td>\n",
       "      <td>1.000000</td>\n",
       "      <td>...</td>\n",
       "      <td>0.920000</td>\n",
       "      <td>1.0</td>\n",
       "      <td>3.0</td>\n",
       "      <td>0</td>\n",
       "      <td>0</td>\n",
       "      <td>0</td>\n",
       "      <td>0</td>\n",
       "      <td>1</td>\n",
       "      <td>0</td>\n",
       "      <td>18</td>\n",
       "    </tr>\n",
       "    <tr>\n",
       "      <th>3</th>\n",
       "      <td>6.620073</td>\n",
       "      <td>12</td>\n",
       "      <td>3</td>\n",
       "      <td>4</td>\n",
       "      <td>1.0</td>\n",
       "      <td>2</td>\n",
       "      <td>4</td>\n",
       "      <td>1</td>\n",
       "      <td>1</td>\n",
       "      <td>0.942285</td>\n",
       "      <td>...</td>\n",
       "      <td>0.940506</td>\n",
       "      <td>2.0</td>\n",
       "      <td>2.0</td>\n",
       "      <td>0</td>\n",
       "      <td>0</td>\n",
       "      <td>0</td>\n",
       "      <td>0</td>\n",
       "      <td>0</td>\n",
       "      <td>1</td>\n",
       "      <td>14</td>\n",
       "    </tr>\n",
       "    <tr>\n",
       "      <th>4</th>\n",
       "      <td>4.744932</td>\n",
       "      <td>0</td>\n",
       "      <td>3</td>\n",
       "      <td>2</td>\n",
       "      <td>1.0</td>\n",
       "      <td>2</td>\n",
       "      <td>3</td>\n",
       "      <td>1</td>\n",
       "      <td>1</td>\n",
       "      <td>1.000000</td>\n",
       "      <td>...</td>\n",
       "      <td>0.400000</td>\n",
       "      <td>0.0</td>\n",
       "      <td>1.0</td>\n",
       "      <td>0</td>\n",
       "      <td>0</td>\n",
       "      <td>1</td>\n",
       "      <td>0</td>\n",
       "      <td>0</td>\n",
       "      <td>0</td>\n",
       "      <td>11</td>\n",
       "    </tr>\n",
       "  </tbody>\n",
       "</table>\n",
       "<p>5 rows × 22 columns</p>\n",
       "</div>"
      ],
      "text/plain": [
       "   log_price  property_type  room_type  accommodates  bathrooms  bed_type  \\\n",
       "0   5.010635              0          3             3        1.0         2   \n",
       "1   5.129899              0          3             7        1.0         2   \n",
       "2   4.976734              0          3             5        1.0         2   \n",
       "3   6.620073             12          3             4        1.0         2   \n",
       "4   4.744932              0          3             2        1.0         2   \n",
       "\n",
       "   cancellation_policy  cleaning_fee  host_identity_verified  \\\n",
       "0                    2             1                       1   \n",
       "1                    2             1                       0   \n",
       "2                    3             1                       1   \n",
       "3                    4             1                       1   \n",
       "4                    3             1                       1   \n",
       "\n",
       "   host_response_rate  ...  review_scores_rating  bedrooms  beds  city_Boston  \\\n",
       "0            0.942285  ...              1.000000       1.0   1.0            0   \n",
       "1            1.000000  ...              0.930000       3.0   3.0            0   \n",
       "2            1.000000  ...              0.920000       1.0   3.0            0   \n",
       "3            0.942285  ...              0.940506       2.0   2.0            0   \n",
       "4            1.000000  ...              0.400000       0.0   1.0            0   \n",
       "\n",
       "   city_Chicago  city_DC  city_LA  city_NYC  city_SF  amenities_count  \n",
       "0             0        0        0         1        0                8  \n",
       "1             0        0        0         1        0               14  \n",
       "2             0        0        0         1        0               18  \n",
       "3             0        0        0         0        1               14  \n",
       "4             0        1        0         0        0               11  \n",
       "\n",
       "[5 rows x 22 columns]"
      ]
     },
     "execution_count": 43,
     "metadata": {},
     "output_type": "execute_result"
    }
   ],
   "source": [
    "label_encoder = preprocessing.LabelEncoder()\n",
    "cleandata['property_type']= label_encoder.fit_transform(cleandata['property_type']) \n",
    "cleandata.head()"
   ]
  },
  {
   "cell_type": "code",
   "execution_count": 44,
   "metadata": {
    "execution": {
     "iopub.execute_input": "2021-06-15T07:40:09.235143Z",
     "iopub.status.busy": "2021-06-15T07:40:09.234908Z",
     "iopub.status.idle": "2021-06-15T07:40:09.25303Z",
     "shell.execute_reply": "2021-06-15T07:40:09.252181Z",
     "shell.execute_reply.started": "2021-06-15T07:40:09.235116Z"
    },
    "id": "Jw4KSedjlLz3",
    "outputId": "3983adad-22b7-4365-86b8-4fda2b4bc440"
   },
   "outputs": [
    {
     "name": "stdout",
     "output_type": "stream",
     "text": [
      "<class 'pandas.core.frame.DataFrame'>\n",
      "RangeIndex: 3500 entries, 0 to 3499\n",
      "Data columns (total 22 columns):\n",
      " #   Column                  Non-Null Count  Dtype  \n",
      "---  ------                  --------------  -----  \n",
      " 0   log_price               3500 non-null   float64\n",
      " 1   property_type           3500 non-null   int32  \n",
      " 2   room_type               3500 non-null   int64  \n",
      " 3   accommodates            3500 non-null   int64  \n",
      " 4   bathrooms               3500 non-null   float64\n",
      " 5   bed_type                3500 non-null   int64  \n",
      " 6   cancellation_policy     3500 non-null   int64  \n",
      " 7   cleaning_fee            3500 non-null   int32  \n",
      " 8   host_identity_verified  3500 non-null   int32  \n",
      " 9   host_response_rate      3500 non-null   float64\n",
      " 10  instant_bookable        3500 non-null   int32  \n",
      " 11  number_of_reviews       3500 non-null   int64  \n",
      " 12  review_scores_rating    3500 non-null   float64\n",
      " 13  bedrooms                3500 non-null   float64\n",
      " 14  beds                    3500 non-null   float64\n",
      " 15  city_Boston             3500 non-null   uint8  \n",
      " 16  city_Chicago            3500 non-null   uint8  \n",
      " 17  city_DC                 3500 non-null   uint8  \n",
      " 18  city_LA                 3500 non-null   uint8  \n",
      " 19  city_NYC                3500 non-null   uint8  \n",
      " 20  city_SF                 3500 non-null   uint8  \n",
      " 21  amenities_count         3500 non-null   int64  \n",
      "dtypes: float64(6), int32(4), int64(6), uint8(6)\n",
      "memory usage: 403.4 KB\n"
     ]
    }
   ],
   "source": [
    "cleandata.info()"
   ]
  },
  {
   "cell_type": "code",
   "execution_count": 45,
   "metadata": {},
   "outputs": [
    {
     "data": {
      "text/plain": [
       "log_price                 0\n",
       "property_type             0\n",
       "room_type                 0\n",
       "accommodates              0\n",
       "bathrooms                 0\n",
       "bed_type                  0\n",
       "cancellation_policy       0\n",
       "cleaning_fee              0\n",
       "host_identity_verified    0\n",
       "host_response_rate        0\n",
       "instant_bookable          0\n",
       "number_of_reviews         0\n",
       "review_scores_rating      0\n",
       "bedrooms                  0\n",
       "beds                      0\n",
       "city_Boston               0\n",
       "city_Chicago              0\n",
       "city_DC                   0\n",
       "city_LA                   0\n",
       "city_NYC                  0\n",
       "city_SF                   0\n",
       "amenities_count           0\n",
       "dtype: int64"
      ]
     },
     "execution_count": 45,
     "metadata": {},
     "output_type": "execute_result"
    }
   ],
   "source": [
    "cleandata.isnull().sum()"
   ]
  },
  {
   "cell_type": "code",
   "execution_count": 46,
   "metadata": {},
   "outputs": [
    {
     "data": {
      "text/html": [
       "<div>\n",
       "<style scoped>\n",
       "    .dataframe tbody tr th:only-of-type {\n",
       "        vertical-align: middle;\n",
       "    }\n",
       "\n",
       "    .dataframe tbody tr th {\n",
       "        vertical-align: top;\n",
       "    }\n",
       "\n",
       "    .dataframe thead th {\n",
       "        text-align: right;\n",
       "    }\n",
       "</style>\n",
       "<table border=\"1\" class=\"dataframe\">\n",
       "  <thead>\n",
       "    <tr style=\"text-align: right;\">\n",
       "      <th></th>\n",
       "      <th>log_price</th>\n",
       "      <th>property_type</th>\n",
       "      <th>room_type</th>\n",
       "      <th>accommodates</th>\n",
       "      <th>bathrooms</th>\n",
       "      <th>bed_type</th>\n",
       "      <th>cancellation_policy</th>\n",
       "      <th>cleaning_fee</th>\n",
       "      <th>host_identity_verified</th>\n",
       "      <th>host_response_rate</th>\n",
       "      <th>...</th>\n",
       "      <th>review_scores_rating</th>\n",
       "      <th>bedrooms</th>\n",
       "      <th>beds</th>\n",
       "      <th>city_Boston</th>\n",
       "      <th>city_Chicago</th>\n",
       "      <th>city_DC</th>\n",
       "      <th>city_LA</th>\n",
       "      <th>city_NYC</th>\n",
       "      <th>city_SF</th>\n",
       "      <th>amenities_count</th>\n",
       "    </tr>\n",
       "  </thead>\n",
       "  <tbody>\n",
       "    <tr>\n",
       "      <th>0</th>\n",
       "      <td>5.010635</td>\n",
       "      <td>0</td>\n",
       "      <td>3</td>\n",
       "      <td>3</td>\n",
       "      <td>1.0</td>\n",
       "      <td>2</td>\n",
       "      <td>2</td>\n",
       "      <td>1</td>\n",
       "      <td>1</td>\n",
       "      <td>0.942285</td>\n",
       "      <td>...</td>\n",
       "      <td>1.000000</td>\n",
       "      <td>1.0</td>\n",
       "      <td>1.0</td>\n",
       "      <td>0</td>\n",
       "      <td>0</td>\n",
       "      <td>0</td>\n",
       "      <td>0</td>\n",
       "      <td>1</td>\n",
       "      <td>0</td>\n",
       "      <td>8</td>\n",
       "    </tr>\n",
       "    <tr>\n",
       "      <th>1</th>\n",
       "      <td>5.129899</td>\n",
       "      <td>0</td>\n",
       "      <td>3</td>\n",
       "      <td>7</td>\n",
       "      <td>1.0</td>\n",
       "      <td>2</td>\n",
       "      <td>2</td>\n",
       "      <td>1</td>\n",
       "      <td>0</td>\n",
       "      <td>1.000000</td>\n",
       "      <td>...</td>\n",
       "      <td>0.930000</td>\n",
       "      <td>3.0</td>\n",
       "      <td>3.0</td>\n",
       "      <td>0</td>\n",
       "      <td>0</td>\n",
       "      <td>0</td>\n",
       "      <td>0</td>\n",
       "      <td>1</td>\n",
       "      <td>0</td>\n",
       "      <td>14</td>\n",
       "    </tr>\n",
       "    <tr>\n",
       "      <th>2</th>\n",
       "      <td>4.976734</td>\n",
       "      <td>0</td>\n",
       "      <td>3</td>\n",
       "      <td>5</td>\n",
       "      <td>1.0</td>\n",
       "      <td>2</td>\n",
       "      <td>3</td>\n",
       "      <td>1</td>\n",
       "      <td>1</td>\n",
       "      <td>1.000000</td>\n",
       "      <td>...</td>\n",
       "      <td>0.920000</td>\n",
       "      <td>1.0</td>\n",
       "      <td>3.0</td>\n",
       "      <td>0</td>\n",
       "      <td>0</td>\n",
       "      <td>0</td>\n",
       "      <td>0</td>\n",
       "      <td>1</td>\n",
       "      <td>0</td>\n",
       "      <td>18</td>\n",
       "    </tr>\n",
       "    <tr>\n",
       "      <th>3</th>\n",
       "      <td>6.620073</td>\n",
       "      <td>12</td>\n",
       "      <td>3</td>\n",
       "      <td>4</td>\n",
       "      <td>1.0</td>\n",
       "      <td>2</td>\n",
       "      <td>4</td>\n",
       "      <td>1</td>\n",
       "      <td>1</td>\n",
       "      <td>0.942285</td>\n",
       "      <td>...</td>\n",
       "      <td>0.940506</td>\n",
       "      <td>2.0</td>\n",
       "      <td>2.0</td>\n",
       "      <td>0</td>\n",
       "      <td>0</td>\n",
       "      <td>0</td>\n",
       "      <td>0</td>\n",
       "      <td>0</td>\n",
       "      <td>1</td>\n",
       "      <td>14</td>\n",
       "    </tr>\n",
       "    <tr>\n",
       "      <th>4</th>\n",
       "      <td>4.744932</td>\n",
       "      <td>0</td>\n",
       "      <td>3</td>\n",
       "      <td>2</td>\n",
       "      <td>1.0</td>\n",
       "      <td>2</td>\n",
       "      <td>3</td>\n",
       "      <td>1</td>\n",
       "      <td>1</td>\n",
       "      <td>1.000000</td>\n",
       "      <td>...</td>\n",
       "      <td>0.400000</td>\n",
       "      <td>0.0</td>\n",
       "      <td>1.0</td>\n",
       "      <td>0</td>\n",
       "      <td>0</td>\n",
       "      <td>1</td>\n",
       "      <td>0</td>\n",
       "      <td>0</td>\n",
       "      <td>0</td>\n",
       "      <td>11</td>\n",
       "    </tr>\n",
       "  </tbody>\n",
       "</table>\n",
       "<p>5 rows × 22 columns</p>\n",
       "</div>"
      ],
      "text/plain": [
       "   log_price  property_type  room_type  accommodates  bathrooms  bed_type  \\\n",
       "0   5.010635              0          3             3        1.0         2   \n",
       "1   5.129899              0          3             7        1.0         2   \n",
       "2   4.976734              0          3             5        1.0         2   \n",
       "3   6.620073             12          3             4        1.0         2   \n",
       "4   4.744932              0          3             2        1.0         2   \n",
       "\n",
       "   cancellation_policy  cleaning_fee  host_identity_verified  \\\n",
       "0                    2             1                       1   \n",
       "1                    2             1                       0   \n",
       "2                    3             1                       1   \n",
       "3                    4             1                       1   \n",
       "4                    3             1                       1   \n",
       "\n",
       "   host_response_rate  ...  review_scores_rating  bedrooms  beds  city_Boston  \\\n",
       "0            0.942285  ...              1.000000       1.0   1.0            0   \n",
       "1            1.000000  ...              0.930000       3.0   3.0            0   \n",
       "2            1.000000  ...              0.920000       1.0   3.0            0   \n",
       "3            0.942285  ...              0.940506       2.0   2.0            0   \n",
       "4            1.000000  ...              0.400000       0.0   1.0            0   \n",
       "\n",
       "   city_Chicago  city_DC  city_LA  city_NYC  city_SF  amenities_count  \n",
       "0             0        0        0         1        0                8  \n",
       "1             0        0        0         1        0               14  \n",
       "2             0        0        0         1        0               18  \n",
       "3             0        0        0         0        1               14  \n",
       "4             0        1        0         0        0               11  \n",
       "\n",
       "[5 rows x 22 columns]"
      ]
     },
     "execution_count": 46,
     "metadata": {},
     "output_type": "execute_result"
    }
   ],
   "source": [
    "cleandata.head()"
   ]
  },
  {
   "cell_type": "code",
   "execution_count": 47,
   "metadata": {},
   "outputs": [],
   "source": [
    "y= cleandata['log_price']\n",
    "cols = [col for col in cleandata.columns if col not in ['log_price']]\n",
    "X= cleandata[cols]"
   ]
  },
  {
   "cell_type": "code",
   "execution_count": 48,
   "metadata": {},
   "outputs": [
    {
     "data": {
      "text/plain": [
       "RandomForestRegressor()"
      ]
     },
     "execution_count": 48,
     "metadata": {},
     "output_type": "execute_result"
    }
   ],
   "source": [
    "from sklearn.ensemble import RandomForestRegressor #for feature importance\n",
    "model = RandomForestRegressor()\n",
    "model.fit(X,y)"
   ]
  },
  {
   "cell_type": "code",
   "execution_count": 49,
   "metadata": {},
   "outputs": [
    {
     "data": {
      "image/png": "[encoded data removed]",
      "text/plain": [
       "<Figure size 432x288 with 1 Axes>"
      ]
     },
     "metadata": {},
     "output_type": "display_data"
    }
   ],
   "source": [
    "feat_importances = pd.Series(model.feature_importances_, index=X.columns)\n",
    "feat_importances.nlargest(15).plot(kind='barh')\n",
    "plt.show()"
   ]
  },
  {
   "cell_type": "code",
   "execution_count": 50,
   "metadata": {
    "execution": {
     "iopub.execute_input": "2021-06-15T07:40:14.490572Z",
     "iopub.status.busy": "2021-06-15T07:40:14.490226Z",
     "iopub.status.idle": "2021-06-15T07:40:14.495221Z",
     "shell.execute_reply": "2021-06-15T07:40:14.494063Z",
     "shell.execute_reply.started": "2021-06-15T07:40:14.490527Z"
    },
    "id": "oqOO7ZI3OYAv"
   },
   "outputs": [],
   "source": [
    "#Removing unneeded features\n",
    "cleandata = cleandata.drop(['bed_type','instant_bookable'],axis=1)"
   ]
  },
  {
   "cell_type": "code",
   "execution_count": 51,
   "metadata": {
    "execution": {
     "iopub.execute_input": "2021-06-15T07:40:14.510058Z",
     "iopub.status.busy": "2021-06-15T07:40:14.509625Z",
     "iopub.status.idle": "2021-06-15T07:40:16.020247Z",
     "shell.execute_reply": "2021-06-15T07:40:16.019133Z",
     "shell.execute_reply.started": "2021-06-15T07:40:14.51001Z"
    },
    "id": "7Z4moscBO8mQ",
    "outputId": "f925a8b5-5412-435f-8c00-99aaa836ce19"
   },
   "outputs": [
    {
     "data": {
      "image/png": "[encoded data removed]",
      "text/plain": [
       "<Figure size 1440x1440 with 2 Axes>"
      ]
     },
     "metadata": {},
     "output_type": "display_data"
    }
   ],
   "source": [
    "import seaborn as sns\n",
    "#get correlations of each features in dataset\n",
    "corrmat = cleandata.corr()\n",
    "top_corr_features = corrmat.index\n",
    "plt.figure(figsize=(20,20))\n",
    "#plot heat map\n",
    "g=sns.heatmap(cleandata[top_corr_features].corr(),annot=True,cmap=\"RdYlGn\")"
   ]
  },
  {
   "cell_type": "markdown",
   "metadata": {
    "id": "JRKqN3U8IxcN"
   },
   "source": [
    "# **Model selection, Training and Results**"
   ]
  },
  {
   "cell_type": "code",
   "execution_count": 52,
   "metadata": {
    "execution": {
     "iopub.execute_input": "2021-06-15T07:40:17.162814Z",
     "iopub.status.busy": "2021-06-15T07:40:17.162421Z",
     "iopub.status.idle": "2021-06-15T07:40:17.167631Z",
     "shell.execute_reply": "2021-06-15T07:40:17.166341Z",
     "shell.execute_reply.started": "2021-06-15T07:40:17.162768Z"
    },
    "id": "ByFHjDSlQSBO"
   },
   "outputs": [],
   "source": [
    "copydata = cleandata"
   ]
  },
  {
   "cell_type": "code",
   "execution_count": 53,
   "metadata": {
    "execution": {
     "iopub.execute_input": "2021-06-15T07:40:17.169906Z",
     "iopub.status.busy": "2021-06-15T07:40:17.16948Z",
     "iopub.status.idle": "2021-06-15T07:40:17.328617Z",
     "shell.execute_reply": "2021-06-15T07:40:17.327652Z",
     "shell.execute_reply.started": "2021-06-15T07:40:17.16986Z"
    },
    "id": "RFQ5mCcdTmL5"
   },
   "outputs": [],
   "source": [
    "# Spliting the data\n",
    "from sklearn.model_selection import train_test_split\n",
    "from sklearn.preprocessing import StandardScaler\n",
    "scaler = StandardScaler() \n",
    "train, test  = train_test_split(copydata, test_size=0.2,random_state = 42)\n",
    "X_train = train.drop(['log_price'], axis=1)\n",
    "y_train = train.log_price\n",
    "X_test = test.drop(['log_price'], axis=1) \n",
    "y_test = test.log_price"
   ]
  },
  {
   "cell_type": "code",
   "execution_count": 54,
   "metadata": {},
   "outputs": [
    {
     "name": "stdout",
     "output_type": "stream",
     "text": [
      "<class 'pandas.core.frame.DataFrame'>\n",
      "Int64Index: 700 entries, 1650 to 2213\n",
      "Data columns (total 19 columns):\n",
      " #   Column                  Non-Null Count  Dtype  \n",
      "---  ------                  --------------  -----  \n",
      " 0   property_type           700 non-null    int32  \n",
      " 1   room_type               700 non-null    int64  \n",
      " 2   accommodates            700 non-null    int64  \n",
      " 3   bathrooms               700 non-null    float64\n",
      " 4   cancellation_policy     700 non-null    int64  \n",
      " 5   cleaning_fee            700 non-null    int32  \n",
      " 6   host_identity_verified  700 non-null    int32  \n",
      " 7   host_response_rate      700 non-null    float64\n",
      " 8   number_of_reviews       700 non-null    int64  \n",
      " 9   review_scores_rating    700 non-null    float64\n",
      " 10  bedrooms                700 non-null    float64\n",
      " 11  beds                    700 non-null    float64\n",
      " 12  city_Boston             700 non-null    uint8  \n",
      " 13  city_Chicago            700 non-null    uint8  \n",
      " 14  city_DC                 700 non-null    uint8  \n",
      " 15  city_LA                 700 non-null    uint8  \n",
      " 16  city_NYC                700 non-null    uint8  \n",
      " 17  city_SF                 700 non-null    uint8  \n",
      " 18  amenities_count         700 non-null    int64  \n",
      "dtypes: float64(5), int32(3), int64(5), uint8(6)\n",
      "memory usage: 72.5 KB\n"
     ]
    }
   ],
   "source": [
    "X_test.info()"
   ]
  },
  {
   "cell_type": "code",
   "execution_count": 55,
   "metadata": {},
   "outputs": [
    {
     "data": {
      "text/html": [
       "<div>\n",
       "<style scoped>\n",
       "    .dataframe tbody tr th:only-of-type {\n",
       "        vertical-align: middle;\n",
       "    }\n",
       "\n",
       "    .dataframe tbody tr th {\n",
       "        vertical-align: top;\n",
       "    }\n",
       "\n",
       "    .dataframe thead th {\n",
       "        text-align: right;\n",
       "    }\n",
       "</style>\n",
       "<table border=\"1\" class=\"dataframe\">\n",
       "  <thead>\n",
       "    <tr style=\"text-align: right;\">\n",
       "      <th></th>\n",
       "      <th>property_type</th>\n",
       "      <th>room_type</th>\n",
       "      <th>accommodates</th>\n",
       "      <th>bathrooms</th>\n",
       "      <th>cancellation_policy</th>\n",
       "      <th>cleaning_fee</th>\n",
       "      <th>host_identity_verified</th>\n",
       "      <th>host_response_rate</th>\n",
       "      <th>number_of_reviews</th>\n",
       "      <th>review_scores_rating</th>\n",
       "      <th>bedrooms</th>\n",
       "      <th>beds</th>\n",
       "      <th>city_Boston</th>\n",
       "      <th>city_Chicago</th>\n",
       "      <th>city_DC</th>\n",
       "      <th>city_LA</th>\n",
       "      <th>city_NYC</th>\n",
       "      <th>city_SF</th>\n",
       "      <th>amenities_count</th>\n",
       "    </tr>\n",
       "  </thead>\n",
       "  <tbody>\n",
       "    <tr>\n",
       "      <th>1650</th>\n",
       "      <td>0</td>\n",
       "      <td>3</td>\n",
       "      <td>4</td>\n",
       "      <td>1.0</td>\n",
       "      <td>2</td>\n",
       "      <td>1</td>\n",
       "      <td>1</td>\n",
       "      <td>1.000000</td>\n",
       "      <td>42</td>\n",
       "      <td>1.000000</td>\n",
       "      <td>2.0</td>\n",
       "      <td>3.0</td>\n",
       "      <td>0</td>\n",
       "      <td>1</td>\n",
       "      <td>0</td>\n",
       "      <td>0</td>\n",
       "      <td>0</td>\n",
       "      <td>0</td>\n",
       "      <td>24</td>\n",
       "    </tr>\n",
       "    <tr>\n",
       "      <th>2456</th>\n",
       "      <td>12</td>\n",
       "      <td>2</td>\n",
       "      <td>1</td>\n",
       "      <td>1.0</td>\n",
       "      <td>3</td>\n",
       "      <td>1</td>\n",
       "      <td>1</td>\n",
       "      <td>0.942285</td>\n",
       "      <td>0</td>\n",
       "      <td>0.940506</td>\n",
       "      <td>1.0</td>\n",
       "      <td>1.0</td>\n",
       "      <td>0</td>\n",
       "      <td>0</td>\n",
       "      <td>0</td>\n",
       "      <td>1</td>\n",
       "      <td>0</td>\n",
       "      <td>0</td>\n",
       "      <td>23</td>\n",
       "    </tr>\n",
       "    <tr>\n",
       "      <th>2232</th>\n",
       "      <td>18</td>\n",
       "      <td>2</td>\n",
       "      <td>2</td>\n",
       "      <td>2.0</td>\n",
       "      <td>4</td>\n",
       "      <td>1</td>\n",
       "      <td>1</td>\n",
       "      <td>1.000000</td>\n",
       "      <td>2</td>\n",
       "      <td>1.000000</td>\n",
       "      <td>3.0</td>\n",
       "      <td>1.0</td>\n",
       "      <td>0</td>\n",
       "      <td>0</td>\n",
       "      <td>0</td>\n",
       "      <td>1</td>\n",
       "      <td>0</td>\n",
       "      <td>0</td>\n",
       "      <td>2</td>\n",
       "    </tr>\n",
       "    <tr>\n",
       "      <th>1945</th>\n",
       "      <td>0</td>\n",
       "      <td>3</td>\n",
       "      <td>3</td>\n",
       "      <td>1.0</td>\n",
       "      <td>4</td>\n",
       "      <td>1</td>\n",
       "      <td>1</td>\n",
       "      <td>1.000000</td>\n",
       "      <td>0</td>\n",
       "      <td>0.940506</td>\n",
       "      <td>1.0</td>\n",
       "      <td>1.0</td>\n",
       "      <td>0</td>\n",
       "      <td>0</td>\n",
       "      <td>0</td>\n",
       "      <td>1</td>\n",
       "      <td>0</td>\n",
       "      <td>0</td>\n",
       "      <td>9</td>\n",
       "    </tr>\n",
       "    <tr>\n",
       "      <th>309</th>\n",
       "      <td>12</td>\n",
       "      <td>2</td>\n",
       "      <td>2</td>\n",
       "      <td>1.0</td>\n",
       "      <td>4</td>\n",
       "      <td>0</td>\n",
       "      <td>1</td>\n",
       "      <td>0.942285</td>\n",
       "      <td>0</td>\n",
       "      <td>0.940506</td>\n",
       "      <td>1.0</td>\n",
       "      <td>1.0</td>\n",
       "      <td>0</td>\n",
       "      <td>0</td>\n",
       "      <td>0</td>\n",
       "      <td>0</td>\n",
       "      <td>0</td>\n",
       "      <td>1</td>\n",
       "      <td>16</td>\n",
       "    </tr>\n",
       "  </tbody>\n",
       "</table>\n",
       "</div>"
      ],
      "text/plain": [
       "      property_type  room_type  accommodates  bathrooms  cancellation_policy  \\\n",
       "1650              0          3             4        1.0                    2   \n",
       "2456             12          2             1        1.0                    3   \n",
       "2232             18          2             2        2.0                    4   \n",
       "1945              0          3             3        1.0                    4   \n",
       "309              12          2             2        1.0                    4   \n",
       "\n",
       "      cleaning_fee  host_identity_verified  host_response_rate  \\\n",
       "1650             1                       1            1.000000   \n",
       "2456             1                       1            0.942285   \n",
       "2232             1                       1            1.000000   \n",
       "1945             1                       1            1.000000   \n",
       "309              0                       1            0.942285   \n",
       "\n",
       "      number_of_reviews  review_scores_rating  bedrooms  beds  city_Boston  \\\n",
       "1650                 42              1.000000       2.0   3.0            0   \n",
       "2456                  0              0.940506       1.0   1.0            0   \n",
       "2232                  2              1.000000       3.0   1.0            0   \n",
       "1945                  0              0.940506       1.0   1.0            0   \n",
       "309                   0              0.940506       1.0   1.0            0   \n",
       "\n",
       "      city_Chicago  city_DC  city_LA  city_NYC  city_SF  amenities_count  \n",
       "1650             1        0        0         0        0               24  \n",
       "2456             0        0        1         0        0               23  \n",
       "2232             0        0        1         0        0                2  \n",
       "1945             0        0        1         0        0                9  \n",
       "309              0        0        0         0        1               16  "
      ]
     },
     "execution_count": 55,
     "metadata": {},
     "output_type": "execute_result"
    }
   ],
   "source": [
    "X_test.head()"
   ]
  },
  {
   "cell_type": "code",
   "execution_count": 56,
   "metadata": {},
   "outputs": [],
   "source": [
    "#Randomized Search CV\n",
    "\n",
    "# Number of trees in random forest\n",
    "n_estimators = [int(x) for x in np.linspace(start = 100, stop = 1200, num = 20)]\n",
    "# Number of features to consider at every split\n",
    "max_features = ['auto', 'sqrt']\n",
    "# Maximum number of levels in tree\n",
    "max_depth = [int(x) for x in np.linspace(5, 50, num = 15)]\n",
    "# Minimum number of samples required to split a node\n",
    "min_samples_split = [2, 5, 10, 15, 100]\n",
    "# Minimum number of samples required at each leaf node\n",
    "min_samples_leaf = [1, 2, 5, 10,15]"
   ]
  },
  {
   "cell_type": "code",
   "execution_count": 57,
   "metadata": {},
   "outputs": [
    {
     "name": "stdout",
     "output_type": "stream",
     "text": [
      "{'n_estimators': [100, 157, 215, 273, 331, 389, 447, 505, 563, 621, 678, 736, 794, 852, 910, 968, 1026, 1084, 1142, 1200], 'max_features': ['auto', 'sqrt'], 'max_depth': [5, 8, 11, 14, 17, 21, 24, 27, 30, 33, 37, 40, 43, 46, 50], 'min_samples_split': [2, 5, 10, 15, 100], 'min_samples_leaf': [1, 2, 5, 10, 15]}\n"
     ]
    }
   ],
   "source": [
    "# grid to search for best hyperparameters\n",
    "grid = {'n_estimators': n_estimators,\n",
    "        'max_features': max_features,\n",
    "        'max_depth': max_depth,\n",
    "        'min_samples_split': min_samples_split,\n",
    "       'min_samples_leaf': min_samples_leaf}\n",
    "print(grid)"
   ]
  },
  {
   "cell_type": "markdown",
   "metadata": {},
   "source": [
    "# XGB"
   ]
  },
  {
   "cell_type": "code",
   "execution_count": 58,
   "metadata": {},
   "outputs": [
    {
     "data": {
      "text/plain": [
       "array([5.080589 , 4.521308 , 3.6936655, 4.748223 , 5.424195 , 5.111223 ,\n",
       "       5.33459  , 4.857649 , 4.909903 , 3.8803957, 6.5263233, 5.315465 ,\n",
       "       4.9963684, 5.292164 , 3.7202554, 5.1638827, 5.1595297, 3.7235668,\n",
       "       4.687091 , 4.466408 , 5.095192 , 4.6845465, 5.4530134, 6.028625 ,\n",
       "       4.678134 , 4.4124584, 5.047471 , 4.4271364, 4.5443716, 5.0112066,\n",
       "       4.158734 , 5.012745 , 5.701499 , 5.1647186, 4.190836 , 4.021877 ,\n",
       "       4.436553 , 5.103493 , 4.5645833, 3.7453198, 4.1742435, 6.8572273,\n",
       "       4.655214 , 5.412497 , 4.1279626, 4.470032 , 5.9344225, 5.550548 ,\n",
       "       4.1257877, 5.1652637, 4.1215134, 5.149923 , 4.4500732, 4.8939214,\n",
       "       4.0885544, 5.037656 , 4.809095 , 4.783032 , 5.2679205, 5.0801425,\n",
       "       4.7399864, 4.6457825, 4.8129883, 4.790628 , 5.4336643, 4.6378627,\n",
       "       5.6184564, 5.762488 , 4.687587 , 4.5461354, 4.662434 , 4.986501 ,\n",
       "       4.515933 , 5.13454  , 5.652131 , 4.966433 , 4.483332 , 4.479053 ,\n",
       "       3.9976707, 4.6104093, 5.0514197, 4.1117835, 4.938736 , 3.690824 ,\n",
       "       4.989258 , 5.573986 , 3.9986126, 5.416406 , 5.1408668, 4.2457523,\n",
       "       4.3588457, 5.0381103, 4.7916436, 5.342644 , 4.8367457, 4.5974755,\n",
       "       5.0598526, 5.158411 , 4.936448 , 4.4392595, 4.605496 , 4.458178 ,\n",
       "       5.560651 , 4.671915 , 4.1174927, 4.304904 , 4.480751 , 4.9856505,\n",
       "       4.147767 , 5.5079722, 6.050073 , 5.353388 , 4.841189 , 4.4699965,\n",
       "       4.36765  , 6.448326 , 5.787784 , 4.437031 , 5.2486825, 5.521488 ,\n",
       "       4.963699 , 3.5093036, 3.9887002, 4.2043104, 4.6431656, 4.048382 ,\n",
       "       4.1132526, 4.273908 , 4.8779416, 4.5038266, 5.9288363, 4.151457 ,\n",
       "       4.222623 , 4.485794 , 4.148445 , 4.765479 , 4.691387 , 4.8419523,\n",
       "       4.504428 , 5.198235 , 4.4920006, 5.096824 , 4.4248486, 5.74088  ,\n",
       "       5.437512 , 5.121162 , 4.1558847, 4.3262157, 4.153826 , 4.9474945,\n",
       "       4.5470047, 5.6107187, 4.3216553, 4.0126486, 4.2876425, 4.5463843,\n",
       "       4.3578877, 4.937566 , 4.346383 , 4.1650114, 4.616573 , 4.141135 ,\n",
       "       5.1986084, 4.9036474, 5.813824 , 3.939671 , 5.1105146, 5.626883 ,\n",
       "       4.149746 , 3.932685 , 4.8908906, 4.5859265, 4.030378 , 4.26814  ,\n",
       "       5.0294704, 3.7673683, 4.524298 , 5.648144 , 4.061134 , 4.3591166,\n",
       "       4.643365 , 4.6981273, 4.1375003, 4.160759 , 5.102951 , 4.9403567,\n",
       "       4.89222  , 4.821975 , 4.596804 , 5.1029186, 5.5168867, 4.7408733,\n",
       "       5.8542943, 5.2649517, 5.0790944, 5.1883407, 4.894274 , 4.2948723,\n",
       "       4.229789 , 4.373822 , 4.7338624, 5.2096996, 4.754415 , 4.8235326,\n",
       "       4.930892 , 5.3768597, 4.145253 , 4.405821 , 4.166249 , 4.3944798,\n",
       "       5.581296 , 4.277176 , 5.169486 , 3.8582287, 4.297573 , 5.648367 ,\n",
       "       4.601402 , 4.840128 , 4.875784 , 4.197107 , 4.9729214, 4.169198 ,\n",
       "       4.8993993, 4.160449 , 3.8216186, 4.1053295, 3.5292683, 4.9490786,\n",
       "       4.748242 , 4.6010895, 4.2952223, 5.333192 , 5.138386 , 3.9785862,\n",
       "       4.765786 , 5.039761 , 4.582812 , 4.1678576, 5.0692544, 5.9496627,\n",
       "       6.19003  , 5.1281924, 4.1750784, 4.4051514, 5.3951235, 3.8369937,\n",
       "       4.532567 , 4.2815723, 4.7361403, 4.2438498, 4.7719016, 4.4445095,\n",
       "       4.608807 , 5.0253844, 5.2211404, 4.483393 , 6.078437 , 6.490525 ,\n",
       "       5.1801977, 4.7663436, 4.6066413, 4.693738 , 4.691905 , 4.6032224,\n",
       "       4.219098 , 4.825235 , 4.8994412, 4.231127 , 3.9209957, 4.928192 ,\n",
       "       4.2256837, 4.5541315, 4.8149333, 3.952802 , 4.3366985, 4.4950895,\n",
       "       6.2695217, 5.226474 , 3.5618591, 4.9554596, 5.263878 , 3.4622009,\n",
       "       4.673206 , 5.445146 , 4.3780556, 6.6000247, 6.527195 , 4.6674337,\n",
       "       5.119204 , 4.12922  , 5.747528 , 5.028203 , 5.6622763, 4.268843 ,\n",
       "       4.187108 , 4.3273   , 4.072833 , 5.2760816, 4.0153008, 4.934028 ,\n",
       "       5.202061 , 3.8808305, 4.1364717, 4.233513 , 4.1524563, 4.9920363,\n",
       "       4.285052 , 6.506903 , 4.671157 , 5.218391 , 5.152697 , 5.5478253,\n",
       "       4.4783835, 5.12748  , 4.3587847, 4.6650743, 5.086967 , 5.227467 ,\n",
       "       5.110271 , 3.9284587, 4.2656507, 4.997282 , 5.2228103, 6.111691 ,\n",
       "       3.8048327, 5.159692 , 5.9879117, 4.0886526, 4.484046 , 4.91643  ,\n",
       "       4.5416293, 5.0556426, 4.820911 , 5.604656 , 5.161647 , 4.3755245,\n",
       "       4.462123 , 4.570612 , 4.110531 , 4.1991515, 4.5367193, 4.333658 ,\n",
       "       3.6667514, 4.3522153, 3.7303307, 4.652186 , 4.080305 , 5.489114 ,\n",
       "       6.035412 , 4.538814 , 4.335179 , 4.3435016, 5.397754 , 4.3499317,\n",
       "       4.4496613, 5.164028 , 4.234022 , 3.9259493, 5.2192454, 4.6119895,\n",
       "       5.0801363, 4.055305 , 4.877266 , 5.2413826, 4.625458 , 5.6179523,\n",
       "       4.812811 , 4.857284 , 3.9215322, 4.0759974, 5.460513 , 5.089842 ,\n",
       "       4.9717455, 4.8152776, 4.4418635, 4.2224298, 4.886615 , 5.093735 ,\n",
       "       4.3049498, 5.811777 , 4.5342636, 4.603521 , 4.2096148, 5.06003  ,\n",
       "       4.6473894, 4.5897465, 3.8905604, 4.4947124, 5.8181543, 5.1037297,\n",
       "       5.065242 , 4.7955046, 5.3218107, 5.569854 , 5.465134 , 4.6837096,\n",
       "       4.146538 , 5.5154443, 4.889608 , 5.756409 , 6.2099705, 3.2153754,\n",
       "       4.218553 , 5.2524633, 4.4797273, 5.4599996, 4.2849684, 3.4575698,\n",
       "       4.366071 , 5.1906424, 4.8635373, 5.046412 , 5.8941236, 6.148665 ,\n",
       "       4.310519 , 6.0535235, 3.9518752, 4.6611285, 4.2056375, 3.8799758,\n",
       "       4.6685753, 4.412882 , 4.496857 , 5.4248867, 5.524764 , 4.1493864,\n",
       "       3.964115 , 5.1811504, 5.0089593, 6.011341 , 4.4758763, 5.638355 ,\n",
       "       5.0079136, 4.7953877, 4.217638 , 4.0536156, 5.5237575, 4.661348 ,\n",
       "       4.1481752, 5.3330264, 4.2569995, 4.616428 , 5.41954  , 5.3129807,\n",
       "       4.269593 , 5.0577455, 5.602293 , 5.277406 , 4.8300047, 4.3035526,\n",
       "       5.043673 , 4.3098245, 4.5160036, 4.4248347, 4.399444 , 5.099064 ,\n",
       "       3.7114084, 4.4857826, 5.2908926, 4.3746557, 5.120738 , 5.0989246,\n",
       "       5.912142 , 5.1104903, 5.408754 , 5.1565394, 4.2078   , 4.463328 ,\n",
       "       4.7628813, 4.4317527, 5.054528 , 4.328609 , 4.2398934, 4.270841 ,\n",
       "       4.945526 , 4.691288 , 4.716445 , 5.2763424, 5.1530414, 4.834219 ,\n",
       "       6.367724 , 4.3808937, 5.287542 , 4.920415 , 4.990477 , 4.8369713,\n",
       "       3.9586601, 4.6251636, 5.1333504, 5.411239 , 4.687839 , 4.49123  ,\n",
       "       6.173798 , 4.93648  , 5.3495   , 4.4301147, 5.1200585, 4.853949 ,\n",
       "       4.9557257, 4.956129 , 4.350835 , 4.9331474, 4.9249377, 6.2661986,\n",
       "       4.420253 , 4.077001 , 4.3776674, 4.3181067, 5.042387 , 4.6541567,\n",
       "       3.8381693, 4.6362696, 5.5868845, 4.5698447, 4.9012585, 5.320633 ,\n",
       "       5.4575253, 6.7093997, 5.2793245, 4.511527 , 5.350791 , 4.9887104,\n",
       "       5.4748926, 5.1740236, 5.38998  , 4.64663  , 4.897204 , 4.567142 ,\n",
       "       5.2677164, 5.1217885, 6.3717504, 4.947243 , 4.6373415, 4.860749 ,\n",
       "       3.7440069, 5.240495 , 4.8923445, 5.543841 , 5.3656034, 4.2162895,\n",
       "       5.5861387, 4.6877937, 4.437606 , 4.388425 , 5.118147 , 4.217525 ,\n",
       "       5.882987 , 4.3020477, 5.267767 , 5.6046853, 4.510487 , 4.3903284,\n",
       "       5.0544143, 5.441766 , 4.3135614, 5.2478375, 4.5401254, 5.0337567,\n",
       "       4.964979 , 4.553236 , 4.4346886, 4.707019 , 4.785532 , 4.3054867,\n",
       "       4.667792 , 5.058072 , 4.4961033, 4.409859 , 5.01801  , 5.142423 ,\n",
       "       4.6686277, 5.061081 , 4.2148695, 4.8195143, 5.098587 , 6.2968106,\n",
       "       4.4634476, 4.968214 , 4.536482 , 4.0574985, 4.5718536, 5.629733 ,\n",
       "       4.324171 , 6.52346  , 4.4154224, 4.540947 , 5.3302603, 4.535033 ,\n",
       "       5.2890897, 5.0885296, 3.792796 , 4.2030888, 5.0972   , 4.699688 ,\n",
       "       4.539357 , 5.2611885, 4.1503696, 3.7236109, 4.7082477, 4.2381053,\n",
       "       3.9596379, 5.023054 , 3.1296256, 5.5568714, 5.064503 , 3.8598905,\n",
       "       5.423721 , 3.9516659, 4.9131284, 5.618368 , 6.1753035, 4.7173376,\n",
       "       4.498591 , 4.9250765, 4.073021 , 4.7671556, 4.461585 , 4.2960224,\n",
       "       5.2537074, 4.1559124, 4.406045 , 4.36765  , 4.0844717, 4.6558867,\n",
       "       4.404585 , 5.492946 , 5.9691277, 4.766131 , 4.8205776, 3.5425458,\n",
       "       5.945346 , 4.903251 , 4.236884 , 4.9173856, 4.9375057, 4.7178025,\n",
       "       5.43291  , 6.0156455, 5.522133 , 6.3442526, 4.7837415, 4.6070867,\n",
       "       4.257958 , 4.0844717, 5.469874 , 4.840364 , 6.5176044, 4.648475 ,\n",
       "       4.0666285, 6.054352 , 5.074171 , 5.426171 , 4.0680194, 4.453729 ,\n",
       "       4.863667 , 4.593467 , 4.2966166, 3.9633787, 5.2191544, 4.053546 ,\n",
       "       4.5703654, 4.779858 , 5.964795 , 5.4473643, 4.760958 , 4.8701067,\n",
       "       3.9711683, 5.259692 , 4.22871  , 5.521412 , 4.543519 , 5.4059815,\n",
       "       4.4085054, 3.9967525, 4.354228 , 4.999903 , 4.8335977, 4.8111873,\n",
       "       3.9155428, 4.745922 , 4.991245 , 5.1101894, 5.9265485, 4.8114166,\n",
       "       4.229244 , 4.75416  , 4.4003544, 4.883468 , 4.9612226, 4.993705 ,\n",
       "       4.7403398, 4.523554 , 5.5867677, 4.8415675, 4.5324407, 4.938078 ,\n",
       "       4.0597153, 4.652928 , 6.381293 , 5.1692615], dtype=float32)"
      ]
     },
     "execution_count": 58,
     "metadata": {},
     "output_type": "execute_result"
    }
   ],
   "source": [
    "import xgboost as xgb\n",
    "model = xgb.XGBRegressor()\n",
    "model.fit(X_train, y_train)\n",
    "pred = model.predict(X_test)\n",
    "pred"
   ]
  },
  {
   "cell_type": "code",
   "execution_count": 59,
   "metadata": {},
   "outputs": [
    {
     "name": "stdout",
     "output_type": "stream",
     "text": [
      "MAE: 0.38177506176952775\n",
      "MSE: 0.24331701456539065\n",
      "RMSE: 0.49327174515209227\n"
     ]
    }
   ],
   "source": [
    "print('MAE:', metrics.mean_absolute_error(y_test, pred))\n",
    "print('MSE:', metrics.mean_squared_error(y_test, pred))\n",
    "print('RMSE:', np.sqrt(metrics.mean_squared_error(y_test, pred)))"
   ]
  },
  {
   "cell_type": "code",
   "execution_count": 60,
   "metadata": {},
   "outputs": [
    {
     "data": {
      "text/plain": [
       "0.5624115660831895"
      ]
     },
     "execution_count": 60,
     "metadata": {},
     "output_type": "execute_result"
    }
   ],
   "source": [
    "metrics.r2_score(y_test, pred)"
   ]
  },
  {
   "cell_type": "markdown",
   "metadata": {},
   "source": [
    "# Random Forest"
   ]
  },
  {
   "cell_type": "code",
   "execution_count": 61,
   "metadata": {},
   "outputs": [
    {
     "name": "stdout",
     "output_type": "stream",
     "text": [
      "Fitting 5 folds for each of 15 candidates, totalling 75 fits\n",
      "[CV] END max_depth=27, max_features=auto, min_samples_leaf=5, min_samples_split=15, n_estimators=678; total time=   7.2s\n",
      "[CV] END max_depth=27, max_features=auto, min_samples_leaf=5, min_samples_split=15, n_estimators=678; total time=   7.2s\n",
      "[CV] END max_depth=27, max_features=auto, min_samples_leaf=5, min_samples_split=15, n_estimators=678; total time=   7.5s\n",
      "[CV] END max_depth=27, max_features=auto, min_samples_leaf=5, min_samples_split=15, n_estimators=678; total time=   7.5s\n",
      "[CV] END max_depth=27, max_features=auto, min_samples_leaf=5, min_samples_split=15, n_estimators=678; total time=   7.1s\n",
      "[CV] END max_depth=5, max_features=sqrt, min_samples_leaf=10, min_samples_split=15, n_estimators=100; total time=   0.2s\n",
      "[CV] END max_depth=5, max_features=sqrt, min_samples_leaf=10, min_samples_split=15, n_estimators=100; total time=   0.3s\n",
      "[CV] END max_depth=5, max_features=sqrt, min_samples_leaf=10, min_samples_split=15, n_estimators=100; total time=   0.2s\n",
      "[CV] END max_depth=5, max_features=sqrt, min_samples_leaf=10, min_samples_split=15, n_estimators=100; total time=   0.2s\n",
      "[CV] END max_depth=5, max_features=sqrt, min_samples_leaf=10, min_samples_split=15, n_estimators=100; total time=   0.3s\n",
      "[CV] END max_depth=21, max_features=auto, min_samples_leaf=10, min_samples_split=100, n_estimators=678; total time=   5.1s\n",
      "[CV] END max_depth=21, max_features=auto, min_samples_leaf=10, min_samples_split=100, n_estimators=678; total time=   4.8s\n",
      "[CV] END max_depth=21, max_features=auto, min_samples_leaf=10, min_samples_split=100, n_estimators=678; total time=   4.9s\n",
      "[CV] END max_depth=21, max_features=auto, min_samples_leaf=10, min_samples_split=100, n_estimators=678; total time=   5.3s\n",
      "[CV] END max_depth=21, max_features=auto, min_samples_leaf=10, min_samples_split=100, n_estimators=678; total time=   5.0s\n",
      "[CV] END max_depth=46, max_features=auto, min_samples_leaf=15, min_samples_split=2, n_estimators=1142; total time=   9.9s\n",
      "[CV] END max_depth=46, max_features=auto, min_samples_leaf=15, min_samples_split=2, n_estimators=1142; total time=   9.5s\n",
      "[CV] END max_depth=46, max_features=auto, min_samples_leaf=15, min_samples_split=2, n_estimators=1142; total time=   9.8s\n",
      "[CV] END max_depth=46, max_features=auto, min_samples_leaf=15, min_samples_split=2, n_estimators=1142; total time=  10.4s\n",
      "[CV] END max_depth=46, max_features=auto, min_samples_leaf=15, min_samples_split=2, n_estimators=1142; total time=  10.3s\n",
      "[CV] END max_depth=21, max_features=auto, min_samples_leaf=2, min_samples_split=100, n_estimators=736; total time=   6.6s\n",
      "[CV] END max_depth=21, max_features=auto, min_samples_leaf=2, min_samples_split=100, n_estimators=736; total time=   6.3s\n",
      "[CV] END max_depth=21, max_features=auto, min_samples_leaf=2, min_samples_split=100, n_estimators=736; total time=   6.3s\n",
      "[CV] END max_depth=21, max_features=auto, min_samples_leaf=2, min_samples_split=100, n_estimators=736; total time=   7.4s\n",
      "[CV] END max_depth=21, max_features=auto, min_samples_leaf=2, min_samples_split=100, n_estimators=736; total time=   6.2s\n",
      "[CV] END max_depth=40, max_features=sqrt, min_samples_leaf=15, min_samples_split=15, n_estimators=331; total time=   1.2s\n",
      "[CV] END max_depth=40, max_features=sqrt, min_samples_leaf=15, min_samples_split=15, n_estimators=331; total time=   1.2s\n",
      "[CV] END max_depth=40, max_features=sqrt, min_samples_leaf=15, min_samples_split=15, n_estimators=331; total time=   1.3s\n",
      "[CV] END max_depth=40, max_features=sqrt, min_samples_leaf=15, min_samples_split=15, n_estimators=331; total time=   1.2s\n",
      "[CV] END max_depth=40, max_features=sqrt, min_samples_leaf=15, min_samples_split=15, n_estimators=331; total time=   1.3s\n",
      "[CV] END max_depth=40, max_features=auto, min_samples_leaf=5, min_samples_split=100, n_estimators=331; total time=   2.9s\n",
      "[CV] END max_depth=40, max_features=auto, min_samples_leaf=5, min_samples_split=100, n_estimators=331; total time=   2.6s\n",
      "[CV] END max_depth=40, max_features=auto, min_samples_leaf=5, min_samples_split=100, n_estimators=331; total time=   2.5s\n",
      "[CV] END max_depth=40, max_features=auto, min_samples_leaf=5, min_samples_split=100, n_estimators=331; total time=   2.6s\n",
      "[CV] END max_depth=40, max_features=auto, min_samples_leaf=5, min_samples_split=100, n_estimators=331; total time=   2.5s\n",
      "[CV] END max_depth=21, max_features=sqrt, min_samples_leaf=5, min_samples_split=5, n_estimators=910; total time=   4.3s\n",
      "[CV] END max_depth=21, max_features=sqrt, min_samples_leaf=5, min_samples_split=5, n_estimators=910; total time=   4.5s\n",
      "[CV] END max_depth=21, max_features=sqrt, min_samples_leaf=5, min_samples_split=5, n_estimators=910; total time=   4.3s\n",
      "[CV] END max_depth=21, max_features=sqrt, min_samples_leaf=5, min_samples_split=5, n_estimators=910; total time=   4.3s\n",
      "[CV] END max_depth=21, max_features=sqrt, min_samples_leaf=5, min_samples_split=5, n_estimators=910; total time=   4.4s\n",
      "[CV] END max_depth=24, max_features=auto, min_samples_leaf=5, min_samples_split=15, n_estimators=389; total time=   4.5s\n",
      "[CV] END max_depth=24, max_features=auto, min_samples_leaf=5, min_samples_split=15, n_estimators=389; total time=   4.3s\n",
      "[CV] END max_depth=24, max_features=auto, min_samples_leaf=5, min_samples_split=15, n_estimators=389; total time=   4.5s\n",
      "[CV] END max_depth=24, max_features=auto, min_samples_leaf=5, min_samples_split=15, n_estimators=389; total time=   5.6s\n",
      "[CV] END max_depth=24, max_features=auto, min_samples_leaf=5, min_samples_split=15, n_estimators=389; total time=   5.3s\n",
      "[CV] END max_depth=5, max_features=auto, min_samples_leaf=15, min_samples_split=15, n_estimators=447; total time=   3.1s\n",
      "[CV] END max_depth=5, max_features=auto, min_samples_leaf=15, min_samples_split=15, n_estimators=447; total time=   3.0s\n",
      "[CV] END max_depth=5, max_features=auto, min_samples_leaf=15, min_samples_split=15, n_estimators=447; total time=   3.2s\n",
      "[CV] END max_depth=5, max_features=auto, min_samples_leaf=15, min_samples_split=15, n_estimators=447; total time=   2.8s\n",
      "[CV] END max_depth=5, max_features=auto, min_samples_leaf=15, min_samples_split=15, n_estimators=447; total time=   2.9s\n",
      "[CV] END max_depth=46, max_features=sqrt, min_samples_leaf=1, min_samples_split=5, n_estimators=447; total time=   2.6s\n",
      "[CV] END max_depth=46, max_features=sqrt, min_samples_leaf=1, min_samples_split=5, n_estimators=447; total time=   2.9s\n",
      "[CV] END max_depth=46, max_features=sqrt, min_samples_leaf=1, min_samples_split=5, n_estimators=447; total time=   2.6s\n",
      "[CV] END max_depth=46, max_features=sqrt, min_samples_leaf=1, min_samples_split=5, n_estimators=447; total time=   2.6s\n",
      "[CV] END max_depth=46, max_features=sqrt, min_samples_leaf=1, min_samples_split=5, n_estimators=447; total time=   2.8s\n",
      "[CV] END max_depth=17, max_features=auto, min_samples_leaf=15, min_samples_split=5, n_estimators=447; total time=   5.2s\n",
      "[CV] END max_depth=17, max_features=auto, min_samples_leaf=15, min_samples_split=5, n_estimators=447; total time=   5.5s\n",
      "[CV] END max_depth=17, max_features=auto, min_samples_leaf=15, min_samples_split=5, n_estimators=447; total time=   5.2s\n",
      "[CV] END max_depth=17, max_features=auto, min_samples_leaf=15, min_samples_split=5, n_estimators=447; total time=   4.2s\n",
      "[CV] END max_depth=17, max_features=auto, min_samples_leaf=15, min_samples_split=5, n_estimators=447; total time=   3.9s\n",
      "[CV] END max_depth=21, max_features=sqrt, min_samples_leaf=1, min_samples_split=15, n_estimators=1142; total time=   7.1s\n",
      "[CV] END max_depth=21, max_features=sqrt, min_samples_leaf=1, min_samples_split=15, n_estimators=1142; total time=   6.1s\n",
      "[CV] END max_depth=21, max_features=sqrt, min_samples_leaf=1, min_samples_split=15, n_estimators=1142; total time=   6.7s\n",
      "[CV] END max_depth=21, max_features=sqrt, min_samples_leaf=1, min_samples_split=15, n_estimators=1142; total time=   7.0s\n",
      "[CV] END max_depth=21, max_features=sqrt, min_samples_leaf=1, min_samples_split=15, n_estimators=1142; total time=   6.5s\n",
      "[CV] END max_depth=50, max_features=auto, min_samples_leaf=15, min_samples_split=5, n_estimators=273; total time=   2.5s\n",
      "[CV] END max_depth=50, max_features=auto, min_samples_leaf=15, min_samples_split=5, n_estimators=273; total time=   2.6s\n"
     ]
    },
    {
     "name": "stdout",
     "output_type": "stream",
     "text": [
      "[CV] END max_depth=50, max_features=auto, min_samples_leaf=15, min_samples_split=5, n_estimators=273; total time=   2.6s\n",
      "[CV] END max_depth=50, max_features=auto, min_samples_leaf=15, min_samples_split=5, n_estimators=273; total time=   2.3s\n",
      "[CV] END max_depth=50, max_features=auto, min_samples_leaf=15, min_samples_split=5, n_estimators=273; total time=   2.4s\n",
      "[CV] END max_depth=40, max_features=sqrt, min_samples_leaf=2, min_samples_split=5, n_estimators=1026; total time=   5.7s\n",
      "[CV] END max_depth=40, max_features=sqrt, min_samples_leaf=2, min_samples_split=5, n_estimators=1026; total time=   6.1s\n",
      "[CV] END max_depth=40, max_features=sqrt, min_samples_leaf=2, min_samples_split=5, n_estimators=1026; total time=   6.5s\n",
      "[CV] END max_depth=40, max_features=sqrt, min_samples_leaf=2, min_samples_split=5, n_estimators=1026; total time=   6.2s\n",
      "[CV] END max_depth=40, max_features=sqrt, min_samples_leaf=2, min_samples_split=5, n_estimators=1026; total time=   5.5s\n"
     ]
    },
    {
     "data": {
      "text/plain": [
       "RandomizedSearchCV(cv=5, estimator=RandomForestRegressor(), n_iter=15, n_jobs=1,\n",
       "                   param_distributions={'max_depth': [5, 8, 11, 14, 17, 21, 24,\n",
       "                                                      27, 30, 33, 37, 40, 43,\n",
       "                                                      46, 50],\n",
       "                                        'max_features': ['auto', 'sqrt'],\n",
       "                                        'min_samples_leaf': [1, 2, 5, 10, 15],\n",
       "                                        'min_samples_split': [2, 5, 10, 15,\n",
       "                                                              100],\n",
       "                                        'n_estimators': [100, 157, 215, 273,\n",
       "                                                         331, 389, 447, 505,\n",
       "                                                         563, 621, 678, 736,\n",
       "                                                         794, 852, 910, 968,\n",
       "                                                         1026, 1084, 1142,\n",
       "                                                         1200]},\n",
       "                   random_state=42, scoring='neg_mean_squared_error',\n",
       "                   verbose=2)"
      ]
     },
     "execution_count": 61,
     "metadata": {},
     "output_type": "execute_result"
    }
   ],
   "source": [
    "model = RandomForestRegressor() \n",
    "rfr = RandomizedSearchCV(estimator = model,\n",
    "                        param_distributions=grid,\n",
    "                        n_iter=15,\n",
    "                       scoring= 'neg_mean_squared_error',\n",
    "                        cv=5,verbose = 2,\n",
    "                        random_state = 42,n_jobs = 1) \n",
    "rfr.fit(X_train,y_train)"
   ]
  },
  {
   "cell_type": "code",
   "execution_count": 62,
   "metadata": {},
   "outputs": [],
   "source": [
    "bestrfr=rfr.best_estimator_"
   ]
  },
  {
   "cell_type": "code",
   "execution_count": 63,
   "metadata": {},
   "outputs": [
    {
     "data": {
      "text/plain": [
       "array([4.93755403, 4.420192  , 4.46398028, 4.74383948, 5.10529285,\n",
       "       5.06032383, 5.30178297, 5.01870879, 4.99876744, 4.01812583,\n",
       "       6.09997533, 5.19020272, 4.93069444, 5.20815674, 3.83268321,\n",
       "       5.12395634, 5.14380978, 3.98045013, 4.88925186, 4.36051135,\n",
       "       5.00099098, 4.88655258, 5.60295526, 5.83901086, 4.62155825,\n",
       "       4.41926627, 5.15207531, 4.2324634 , 4.6482221 , 5.10338674,\n",
       "       4.24088518, 5.10358278, 5.57602011, 5.42372364, 4.34913404,\n",
       "       4.15362728, 4.61563867, 5.0193451 , 4.38062456, 4.02631196,\n",
       "       4.39751279, 6.53211706, 4.4076389 , 5.18384654, 4.64044658,\n",
       "       4.6222129 , 5.33614488, 5.43078676, 4.4270517 , 5.13910451,\n",
       "       4.22364459, 5.12550798, 4.5462764 , 4.87953346, 4.18347388,\n",
       "       5.00790308, 4.77795673, 4.70196481, 5.30742589, 4.95362441,\n",
       "       4.70404363, 4.73312908, 4.96428577, 5.02930059, 5.22537746,\n",
       "       4.69090724, 5.51376619, 5.570985  , 4.3943937 , 4.31972398,\n",
       "       5.09601517, 4.82305842, 4.35958718, 5.17422273, 5.96688277,\n",
       "       5.00453591, 4.3788119 , 4.44503853, 4.1686016 , 4.70046479,\n",
       "       5.29194299, 4.31020016, 4.93373558, 4.28740615, 4.95110559,\n",
       "       5.46301163, 4.06969528, 5.17867947, 5.03843568, 4.27957989,\n",
       "       4.59931868, 4.89853767, 4.85519747, 5.29744244, 4.41212449,\n",
       "       4.47472936, 5.06609073, 4.26486746, 4.88396526, 4.45686656,\n",
       "       4.74618572, 4.43039633, 5.42021355, 4.77727495, 4.13494404,\n",
       "       4.58328764, 4.26768909, 5.31518586, 4.16801129, 4.88297108,\n",
       "       5.76119892, 5.06450692, 4.55276072, 4.26961268, 4.30665634,\n",
       "       5.79912946, 5.43955614, 4.38334162, 5.14991309, 5.70002727,\n",
       "       5.15550631, 4.02961181, 4.16451224, 4.19167822, 4.70420645,\n",
       "       4.22477712, 4.23390297, 4.35189575, 4.77408392, 4.56709232,\n",
       "       5.74883282, 4.14031725, 4.16774711, 4.72583674, 4.23659781,\n",
       "       4.78075374, 4.4749988 , 4.95600245, 4.26525682, 5.22914779,\n",
       "       4.3228551 , 5.16295793, 4.36983861, 5.68801927, 5.61667971,\n",
       "       5.25227208, 4.22522352, 4.65266758, 4.30480944, 4.94541553,\n",
       "       4.49935358, 5.24027485, 4.29329831, 4.07190747, 4.4872216 ,\n",
       "       4.47149029, 4.60736923, 5.20646142, 4.47978821, 3.99116136,\n",
       "       4.74333598, 4.1806361 , 5.12352393, 4.88334005, 5.74125741,\n",
       "       4.08322108, 5.09377619, 5.57568931, 4.40038441, 4.24933808,\n",
       "       5.00483037, 4.46290788, 4.11552284, 4.19113067, 5.33573432,\n",
       "       4.20871728, 4.20239857, 5.58628095, 4.2444064 , 4.4367639 ,\n",
       "       4.74613657, 4.7644638 , 4.15331498, 4.11717549, 5.1996348 ,\n",
       "       5.07005963, 4.70103449, 4.85912036, 4.66300258, 5.10162154,\n",
       "       5.252789  , 4.78057228, 5.75467122, 5.39989747, 5.27723659,\n",
       "       5.03953896, 4.75391395, 4.28865398, 4.25672974, 4.31559056,\n",
       "       4.75474159, 5.05304094, 4.62907301, 4.85726611, 5.01268292,\n",
       "       5.19170926, 4.31873485, 4.36200285, 4.29206585, 4.36423553,\n",
       "       5.5745507 , 4.27434372, 5.04770972, 4.11436628, 4.35050597,\n",
       "       5.28941054, 4.72102181, 4.89256581, 5.04370345, 4.43343501,\n",
       "       4.62201877, 4.18122318, 4.37186317, 4.28982646, 4.17629623,\n",
       "       4.18727868, 3.87421531, 4.90932261, 4.73116855, 4.60312306,\n",
       "       4.2797118 , 5.12444427, 4.88512082, 4.18853149, 4.44459305,\n",
       "       5.44316315, 4.42558015, 4.21284219, 5.02561155, 5.5309496 ,\n",
       "       6.38207727, 5.2956062 , 4.40630064, 4.27931183, 5.31268603,\n",
       "       4.11443275, 4.49602011, 4.32629562, 4.71428432, 4.32156903,\n",
       "       4.73951195, 4.41030353, 4.67433577, 4.9524759 , 5.16126314,\n",
       "       4.3359866 , 5.83469567, 5.91192729, 5.41282743, 4.77189795,\n",
       "       4.94479334, 4.21630191, 4.67038396, 4.864212  , 4.11478959,\n",
       "       4.87954909, 4.94679649, 4.25319269, 4.04015837, 4.98187134,\n",
       "       4.17113012, 4.83132202, 4.92981415, 4.18947864, 4.46142601,\n",
       "       4.46733952, 6.13179705, 5.00561781, 4.09592955, 4.88401738,\n",
       "       5.33253156, 4.45195233, 4.554427  , 5.06126415, 4.19783124,\n",
       "       5.92854456, 6.19942677, 4.7360979 , 5.14234992, 4.1221924 ,\n",
       "       5.63612019, 5.03857898, 4.74349657, 4.31864932, 4.46149474,\n",
       "       4.33626261, 4.02886664, 5.20867508, 4.18441828, 5.05567612,\n",
       "       4.40858535, 4.42041263, 4.24648028, 4.42612239, 4.28751288,\n",
       "       5.06033411, 4.48344892, 5.86753098, 4.77176223, 5.23499701,\n",
       "       5.47601367, 5.79805322, 4.320859  , 4.91176957, 4.21109066,\n",
       "       4.60694894, 5.09265746, 4.80748439, 5.09410516, 4.28131941,\n",
       "       4.27796566, 4.93723938, 5.05683936, 5.85711058, 4.45436432,\n",
       "       5.28504585, 5.33098611, 4.13920147, 4.23969659, 5.00359558,\n",
       "       4.75626926, 5.13894693, 4.89765467, 5.49586494, 5.05143252,\n",
       "       4.28454023, 4.31962221, 4.59309731, 4.11715847, 4.36157435,\n",
       "       4.59000713, 4.23108341, 4.03003213, 4.42841043, 4.06512491,\n",
       "       5.03758481, 4.39645286, 5.35273236, 5.86530038, 4.39132176,\n",
       "       4.26518263, 4.31795559, 5.37478675, 4.22935889, 4.31369111,\n",
       "       4.34712019, 4.22474207, 4.29347163, 5.30998474, 4.49051344,\n",
       "       5.3619372 , 4.08928766, 4.78589413, 5.44217142, 4.7173991 ,\n",
       "       5.26735373, 4.7172003 , 5.10973399, 4.08790761, 4.10725753,\n",
       "       5.08447824, 5.16678491, 4.64172811, 4.91776863, 4.2298185 ,\n",
       "       4.16973432, 4.82019084, 4.95976976, 4.37091855, 5.49544163,\n",
       "       4.7374322 , 4.72862957, 4.15589929, 5.06781075, 4.36884841,\n",
       "       4.37893077, 3.98326412, 4.34801808, 5.38340803, 4.80961382,\n",
       "       4.98242643, 4.58214793, 5.36301439, 5.39634475, 5.82826199,\n",
       "       4.72130403, 4.22563729, 5.53153024, 4.73098737, 5.77983027,\n",
       "       5.58312539, 4.01180167, 4.17345261, 5.00221127, 4.57325339,\n",
       "       5.62566227, 4.19418218, 3.8891987 , 4.31066904, 5.24498575,\n",
       "       4.86381135, 4.83557363, 5.67280071, 5.90361018, 4.36741305,\n",
       "       5.6112256 , 4.11522919, 4.67618603, 4.22084644, 4.16792787,\n",
       "       4.46613055, 4.41034498, 4.70970015, 5.57843079, 5.56925131,\n",
       "       4.14494881, 4.21237277, 5.12714666, 4.86119306, 5.84618541,\n",
       "       4.66299349, 6.01370589, 4.88526045, 4.6891226 , 4.30610434,\n",
       "       4.25658305, 5.27515984, 4.73529513, 4.40093611, 5.67768848,\n",
       "       4.1064231 , 4.83828696, 5.08360817, 5.4234695 , 4.3759465 ,\n",
       "       4.97894083, 5.38886844, 5.20928226, 4.82653101, 4.33546228,\n",
       "       4.92670223, 4.32349241, 4.68297214, 4.6233945 , 4.38543055,\n",
       "       5.62060328, 4.06005344, 4.37578895, 5.21573868, 4.29004021,\n",
       "       4.97708386, 5.04138197, 5.67071377, 4.9630466 , 4.37186809,\n",
       "       5.20181055, 4.31568699, 4.54550148, 4.82342099, 4.37037929,\n",
       "       4.87639494, 4.82781479, 4.20002456, 4.32156173, 5.02019058,\n",
       "       4.76866057, 4.76408489, 5.36947946, 4.91306255, 4.62499251,\n",
       "       5.7218977 , 4.27962876, 5.0336676 , 4.73202392, 4.95831632,\n",
       "       4.86087508, 4.3046532 , 4.64079239, 4.77275628, 5.06414605,\n",
       "       4.82850149, 4.4391797 , 5.78052279, 4.96703479, 5.24287196,\n",
       "       4.52555618, 4.99813773, 4.99722002, 4.91906659, 4.56258953,\n",
       "       4.1961629 , 4.93701151, 4.95396971, 5.82416943, 4.43065775,\n",
       "       4.10693434, 4.31377621, 4.29339363, 5.0280318 , 4.76412295,\n",
       "       4.15301743, 4.42714961, 5.3700358 , 4.77922522, 4.97574324,\n",
       "       5.29300947, 5.45634425, 5.93016971, 5.19373377, 4.39359645,\n",
       "       5.20440742, 5.13801231, 5.12412667, 5.40262156, 5.30996993,\n",
       "       4.66310414, 4.9636512 , 4.42644016, 4.72515197, 4.9781187 ,\n",
       "       5.74676783, 5.27034081, 4.44796943, 4.87986594, 3.98277007,\n",
       "       4.97374426, 4.80474636, 5.45244269, 5.13642455, 4.39232006,\n",
       "       5.4319799 , 4.83365522, 4.367959  , 4.23924401, 5.1070104 ,\n",
       "       4.26761485, 5.75508358, 4.43232237, 5.13359859, 5.62519561,\n",
       "       4.14767889, 4.34696272, 4.81459064, 5.68380846, 4.66858321,\n",
       "       5.3506539 , 4.57669691, 4.96651031, 5.03180352, 4.41885529,\n",
       "       4.47141767, 4.85731111, 5.07892107, 4.22413261, 4.42858936,\n",
       "       5.04295486, 4.8341871 , 4.36918247, 4.88809259, 5.26263932,\n",
       "       4.72862244, 5.02712796, 4.22152447, 4.83073948, 4.92378103,\n",
       "       6.11740878, 4.33151993, 4.87078818, 4.62803908, 4.12405186,\n",
       "       4.76883629, 5.7396919 , 4.3210955 , 6.01051133, 4.2994956 ,\n",
       "       4.67034814, 5.70269706, 4.68376383, 5.24653311, 5.21100841,\n",
       "       3.98881159, 4.19192224, 5.06772009, 4.74013687, 4.22557248,\n",
       "       5.60950065, 4.28163431, 3.94581232, 4.77030544, 4.26497268,\n",
       "       4.06786719, 5.09181685, 3.78820363, 5.36024576, 4.74066788,\n",
       "       4.23428531, 5.21182498, 4.13080555, 4.9012241 , 5.40678079,\n",
       "       5.47523086, 4.8143625 , 4.34542854, 5.03198628, 4.16344986,\n",
       "       4.9369618 , 4.03000433, 4.33267988, 4.98803993, 4.2869453 ,\n",
       "       4.23855994, 4.30665634, 4.25579353, 4.69828849, 4.95015587,\n",
       "       5.33590775, 5.7684571 , 4.76968903, 4.61847844, 3.90056259,\n",
       "       5.73921442, 4.91121653, 4.30874045, 4.77524338, 5.00073615,\n",
       "       4.63921316, 5.68816555, 6.11609026, 5.64160762, 6.26717288,\n",
       "       4.96165701, 4.75761012, 4.1447665 , 4.25579353, 5.32054794,\n",
       "       4.74481646, 6.32466289, 4.38777962, 4.25928432, 5.99748904,\n",
       "       5.00446237, 5.3128093 , 4.19929833, 4.4498511 , 5.11912947,\n",
       "       4.66856279, 4.2997043 , 4.08030124, 5.09089046, 4.1559254 ,\n",
       "       4.4118827 , 4.98915877, 5.53137774, 5.13170747, 4.66792826,\n",
       "       4.88674062, 4.04796948, 5.29562568, 4.19363863, 4.9895311 ,\n",
       "       4.50172911, 5.5310269 , 4.28715608, 4.30991154, 4.30603207,\n",
       "       5.04104257, 4.98417248, 5.07081952, 4.18564286, 4.73594732,\n",
       "       4.89228077, 5.13504948, 5.77872254, 4.7473472 , 4.11628054,\n",
       "       4.73080826, 4.38063379, 5.09340037, 5.03545841, 5.10131128,\n",
       "       4.8614313 , 4.68178064, 5.26207489, 5.08267183, 4.3522497 ,\n",
       "       5.20090626, 4.14581198, 4.70982948, 6.25114529, 5.40221837])"
      ]
     },
     "execution_count": 63,
     "metadata": {},
     "output_type": "execute_result"
    }
   ],
   "source": [
    "ypred = bestrfr.predict(X_test)\n",
    "ypred"
   ]
  },
  {
   "cell_type": "code",
   "execution_count": 64,
   "metadata": {},
   "outputs": [
    {
     "name": "stdout",
     "output_type": "stream",
     "text": [
      "MAE: 0.3655881508263469\n",
      "MSE: 0.22741532370060996\n",
      "RMSE: 0.4768808275666049\n"
     ]
    }
   ],
   "source": [
    "print('MAE:', metrics.mean_absolute_error(y_test, ypred))\n",
    "print('MSE:', metrics.mean_squared_error(y_test, ypred))\n",
    "print('RMSE:', np.sqrt(metrics.mean_squared_error(y_test, ypred)))"
   ]
  },
  {
   "cell_type": "code",
   "execution_count": 65,
   "metadata": {},
   "outputs": [
    {
     "data": {
      "text/plain": [
       "0.5910096319216087"
      ]
     },
     "execution_count": 65,
     "metadata": {},
     "output_type": "execute_result"
    }
   ],
   "source": [
    "metrics.r2_score(y_test, ypred)"
   ]
  },
  {
   "cell_type": "markdown",
   "metadata": {},
   "source": [
    "# Pickle to save model"
   ]
  },
  {
   "cell_type": "code",
   "execution_count": 66,
   "metadata": {},
   "outputs": [],
   "source": [
    "import pickle\n",
    "file = open(\"file.pkl\", \"wb\") # opening a new file in write mode\n",
    "pickle.dump(bestrfr, file) # dumping created rf model into a pickle file"
   ]
  }
 ],
 "metadata": {
  "kernelspec": {
   "display_name": "Python 3",
   "language": "python",
   "name": "python3"
  },
  "language_info": {
   "codemirror_mode": {
    "name": "ipython",
    "version": 3
   },
   "file_extension": ".py",
   "mimetype": "text/x-python",
   "name": "python",
   "nbconvert_exporter": "python",
   "pygments_lexer": "ipython3",
   "version": "3.8.3"
  }
 },
 "nbformat": 4,
 "nbformat_minor": 4
}
