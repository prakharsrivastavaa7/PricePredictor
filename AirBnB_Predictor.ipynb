{
 "cells": [
  {
   "cell_type": "code",
   "execution_count": 1,
   "metadata": {
    "execution": {
     "iopub.execute_input": "2021-06-15T07:39:56.12859Z",
     "iopub.status.busy": "2021-06-15T07:39:56.128259Z",
     "iopub.status.idle": "2021-06-15T07:39:56.136638Z",
     "shell.execute_reply": "2021-06-15T07:39:56.135648Z",
     "shell.execute_reply.started": "2021-06-15T07:39:56.12856Z"
    },
    "id": "m1u8d9MjBzSk"
   },
   "outputs": [],
   "source": [
    "import numpy as np \n",
    "import pandas as pd \n",
    "import seaborn as sns\n",
    "from sklearn import metrics\n",
    "import matplotlib.pyplot as plt\n",
    "from sklearn import preprocessing\n",
    "from sklearn.ensemble import RandomForestRegressor\n",
    "from sklearn.model_selection import RandomizedSearchCV"
   ]
  },
  {
   "cell_type": "markdown",
   "metadata": {
    "id": "GnmBUUwMwiBZ"
   },
   "source": [
    "# **Data Reading**"
   ]
  },
  {
   "cell_type": "code",
   "execution_count": 2,
   "metadata": {
    "execution": {
     "iopub.execute_input": "2021-06-15T07:39:56.146379Z",
     "iopub.status.busy": "2021-06-15T07:39:56.145949Z",
     "iopub.status.idle": "2021-06-15T07:39:57.755648Z",
     "shell.execute_reply": "2021-06-15T07:39:57.754616Z",
     "shell.execute_reply.started": "2021-06-15T07:39:56.146225Z"
    },
    "id": "Ok5uad51BDe5",
    "outputId": "4dd257b7-7e9a-473f-b959-b57549d35c47"
   },
   "outputs": [
    {
     "data": {
      "text/html": [
       "<div>\n",
       "<style scoped>\n",
       "    .dataframe tbody tr th:only-of-type {\n",
       "        vertical-align: middle;\n",
       "    }\n",
       "\n",
       "    .dataframe tbody tr th {\n",
       "        vertical-align: top;\n",
       "    }\n",
       "\n",
       "    .dataframe thead th {\n",
       "        text-align: right;\n",
       "    }\n",
       "</style>\n",
       "<table border=\"1\" class=\"dataframe\">\n",
       "  <thead>\n",
       "    <tr style=\"text-align: right;\">\n",
       "      <th></th>\n",
       "      <th>id</th>\n",
       "      <th>log_price</th>\n",
       "      <th>property_type</th>\n",
       "      <th>room_type</th>\n",
       "      <th>amenities</th>\n",
       "      <th>accommodates</th>\n",
       "      <th>bathrooms</th>\n",
       "      <th>bed_type</th>\n",
       "      <th>cancellation_policy</th>\n",
       "      <th>cleaning_fee</th>\n",
       "      <th>...</th>\n",
       "      <th>latitude</th>\n",
       "      <th>longitude</th>\n",
       "      <th>name</th>\n",
       "      <th>neighbourhood</th>\n",
       "      <th>number_of_reviews</th>\n",
       "      <th>review_scores_rating</th>\n",
       "      <th>thumbnail_url</th>\n",
       "      <th>zipcode</th>\n",
       "      <th>bedrooms</th>\n",
       "      <th>beds</th>\n",
       "    </tr>\n",
       "  </thead>\n",
       "  <tbody>\n",
       "    <tr>\n",
       "      <th>0</th>\n",
       "      <td>6901257</td>\n",
       "      <td>5.010635</td>\n",
       "      <td>Apartment</td>\n",
       "      <td>Entire home/apt</td>\n",
       "      <td>{\"Wireless Internet\",\"Air conditioning\",Kitche...</td>\n",
       "      <td>3</td>\n",
       "      <td>1.0</td>\n",
       "      <td>Real Bed</td>\n",
       "      <td>strict</td>\n",
       "      <td>True</td>\n",
       "      <td>...</td>\n",
       "      <td>40.696524</td>\n",
       "      <td>-73.991617</td>\n",
       "      <td>Beautiful brownstone 1-bedroom</td>\n",
       "      <td>Brooklyn Heights</td>\n",
       "      <td>2</td>\n",
       "      <td>100.0</td>\n",
       "      <td>https://a0.muscache.com/im/pictures/6d7cbbf7-c...</td>\n",
       "      <td>11201</td>\n",
       "      <td>1.0</td>\n",
       "      <td>1.0</td>\n",
       "    </tr>\n",
       "    <tr>\n",
       "      <th>1</th>\n",
       "      <td>6304928</td>\n",
       "      <td>5.129899</td>\n",
       "      <td>Apartment</td>\n",
       "      <td>Entire home/apt</td>\n",
       "      <td>{\"Wireless Internet\",\"Air conditioning\",Kitche...</td>\n",
       "      <td>7</td>\n",
       "      <td>1.0</td>\n",
       "      <td>Real Bed</td>\n",
       "      <td>strict</td>\n",
       "      <td>True</td>\n",
       "      <td>...</td>\n",
       "      <td>40.766115</td>\n",
       "      <td>-73.989040</td>\n",
       "      <td>Superb 3BR Apt Located Near Times Square</td>\n",
       "      <td>Hell's Kitchen</td>\n",
       "      <td>6</td>\n",
       "      <td>93.0</td>\n",
       "      <td>https://a0.muscache.com/im/pictures/348a55fe-4...</td>\n",
       "      <td>10019</td>\n",
       "      <td>3.0</td>\n",
       "      <td>3.0</td>\n",
       "    </tr>\n",
       "    <tr>\n",
       "      <th>2</th>\n",
       "      <td>7919400</td>\n",
       "      <td>4.976734</td>\n",
       "      <td>Apartment</td>\n",
       "      <td>Entire home/apt</td>\n",
       "      <td>{TV,\"Cable TV\",\"Wireless Internet\",\"Air condit...</td>\n",
       "      <td>5</td>\n",
       "      <td>1.0</td>\n",
       "      <td>Real Bed</td>\n",
       "      <td>moderate</td>\n",
       "      <td>True</td>\n",
       "      <td>...</td>\n",
       "      <td>40.808110</td>\n",
       "      <td>-73.943756</td>\n",
       "      <td>The Garden Oasis</td>\n",
       "      <td>Harlem</td>\n",
       "      <td>10</td>\n",
       "      <td>92.0</td>\n",
       "      <td>https://a0.muscache.com/im/pictures/6fae5362-9...</td>\n",
       "      <td>10027</td>\n",
       "      <td>1.0</td>\n",
       "      <td>3.0</td>\n",
       "    </tr>\n",
       "    <tr>\n",
       "      <th>3</th>\n",
       "      <td>13418779</td>\n",
       "      <td>6.620073</td>\n",
       "      <td>House</td>\n",
       "      <td>Entire home/apt</td>\n",
       "      <td>{TV,\"Cable TV\",Internet,\"Wireless Internet\",Ki...</td>\n",
       "      <td>4</td>\n",
       "      <td>1.0</td>\n",
       "      <td>Real Bed</td>\n",
       "      <td>flexible</td>\n",
       "      <td>True</td>\n",
       "      <td>...</td>\n",
       "      <td>37.772004</td>\n",
       "      <td>-122.431619</td>\n",
       "      <td>Beautiful Flat in the Heart of SF!</td>\n",
       "      <td>Lower Haight</td>\n",
       "      <td>0</td>\n",
       "      <td>NaN</td>\n",
       "      <td>https://a0.muscache.com/im/pictures/72208dad-9...</td>\n",
       "      <td>94117.0</td>\n",
       "      <td>2.0</td>\n",
       "      <td>2.0</td>\n",
       "    </tr>\n",
       "    <tr>\n",
       "      <th>4</th>\n",
       "      <td>3808709</td>\n",
       "      <td>4.744932</td>\n",
       "      <td>Apartment</td>\n",
       "      <td>Entire home/apt</td>\n",
       "      <td>{TV,Internet,\"Wireless Internet\",\"Air conditio...</td>\n",
       "      <td>2</td>\n",
       "      <td>1.0</td>\n",
       "      <td>Real Bed</td>\n",
       "      <td>moderate</td>\n",
       "      <td>True</td>\n",
       "      <td>...</td>\n",
       "      <td>38.925627</td>\n",
       "      <td>-77.034596</td>\n",
       "      <td>Great studio in midtown DC</td>\n",
       "      <td>Columbia Heights</td>\n",
       "      <td>4</td>\n",
       "      <td>40.0</td>\n",
       "      <td>NaN</td>\n",
       "      <td>20009</td>\n",
       "      <td>0.0</td>\n",
       "      <td>1.0</td>\n",
       "    </tr>\n",
       "  </tbody>\n",
       "</table>\n",
       "<p>5 rows × 29 columns</p>\n",
       "</div>"
      ],
      "text/plain": [
       "         id  log_price property_type        room_type  \\\n",
       "0   6901257   5.010635     Apartment  Entire home/apt   \n",
       "1   6304928   5.129899     Apartment  Entire home/apt   \n",
       "2   7919400   4.976734     Apartment  Entire home/apt   \n",
       "3  13418779   6.620073         House  Entire home/apt   \n",
       "4   3808709   4.744932     Apartment  Entire home/apt   \n",
       "\n",
       "                                           amenities  accommodates  bathrooms  \\\n",
       "0  {\"Wireless Internet\",\"Air conditioning\",Kitche...             3        1.0   \n",
       "1  {\"Wireless Internet\",\"Air conditioning\",Kitche...             7        1.0   \n",
       "2  {TV,\"Cable TV\",\"Wireless Internet\",\"Air condit...             5        1.0   \n",
       "3  {TV,\"Cable TV\",Internet,\"Wireless Internet\",Ki...             4        1.0   \n",
       "4  {TV,Internet,\"Wireless Internet\",\"Air conditio...             2        1.0   \n",
       "\n",
       "   bed_type cancellation_policy  cleaning_fee  ...   latitude   longitude  \\\n",
       "0  Real Bed              strict          True  ...  40.696524  -73.991617   \n",
       "1  Real Bed              strict          True  ...  40.766115  -73.989040   \n",
       "2  Real Bed            moderate          True  ...  40.808110  -73.943756   \n",
       "3  Real Bed            flexible          True  ...  37.772004 -122.431619   \n",
       "4  Real Bed            moderate          True  ...  38.925627  -77.034596   \n",
       "\n",
       "                                       name     neighbourhood  \\\n",
       "0            Beautiful brownstone 1-bedroom  Brooklyn Heights   \n",
       "1  Superb 3BR Apt Located Near Times Square    Hell's Kitchen   \n",
       "2                          The Garden Oasis            Harlem   \n",
       "3        Beautiful Flat in the Heart of SF!      Lower Haight   \n",
       "4                Great studio in midtown DC  Columbia Heights   \n",
       "\n",
       "  number_of_reviews review_scores_rating  \\\n",
       "0                 2                100.0   \n",
       "1                 6                 93.0   \n",
       "2                10                 92.0   \n",
       "3                 0                  NaN   \n",
       "4                 4                 40.0   \n",
       "\n",
       "                                       thumbnail_url  zipcode bedrooms  beds  \n",
       "0  https://a0.muscache.com/im/pictures/6d7cbbf7-c...    11201      1.0   1.0  \n",
       "1  https://a0.muscache.com/im/pictures/348a55fe-4...    10019      3.0   3.0  \n",
       "2  https://a0.muscache.com/im/pictures/6fae5362-9...    10027      1.0   3.0  \n",
       "3  https://a0.muscache.com/im/pictures/72208dad-9...  94117.0      2.0   2.0  \n",
       "4                                                NaN    20009      0.0   1.0  \n",
       "\n",
       "[5 rows x 29 columns]"
      ]
     },
     "execution_count": 2,
     "metadata": {},
     "output_type": "execute_result"
    }
   ],
   "source": [
    "datal = pd.read_csv(\"train.csv\")\n",
    "datal.head()"
   ]
  },
  {
   "cell_type": "markdown",
   "metadata": {
    "id": "21lSu5hOwW75"
   },
   "source": [
    "# **Data Exploration and Visualization**"
   ]
  },
  {
   "cell_type": "code",
   "execution_count": 3,
   "metadata": {},
   "outputs": [
    {
     "data": {
      "text/plain": [
       "(74111, 29)"
      ]
     },
     "execution_count": 3,
     "metadata": {},
     "output_type": "execute_result"
    }
   ],
   "source": [
    "datal.shape"
   ]
  },
  {
   "cell_type": "code",
   "execution_count": 4,
   "metadata": {},
   "outputs": [],
   "source": [
    "data = datal[0:3500]"
   ]
  },
  {
   "cell_type": "code",
   "execution_count": 5,
   "metadata": {},
   "outputs": [
    {
     "data": {
      "text/plain": [
       "(3500, 29)"
      ]
     },
     "execution_count": 5,
     "metadata": {},
     "output_type": "execute_result"
    }
   ],
   "source": [
    "data.shape"
   ]
  },
  {
   "cell_type": "code",
   "execution_count": 6,
   "metadata": {},
   "outputs": [],
   "source": [
    "data.to_csv('abdata.csv', index=False) "
   ]
  },
  {
   "cell_type": "code",
   "execution_count": 7,
   "metadata": {
    "execution": {
     "iopub.execute_input": "2021-06-15T07:39:57.75882Z",
     "iopub.status.busy": "2021-06-15T07:39:57.758409Z",
     "iopub.status.idle": "2021-06-15T07:39:57.899694Z",
     "shell.execute_reply": "2021-06-15T07:39:57.898072Z",
     "shell.execute_reply.started": "2021-06-15T07:39:57.758774Z"
    },
    "id": "JISE2IMMBxVT",
    "outputId": "34493da4-ab19-4d6c-c309-1b3b3d6ca20e"
   },
   "outputs": [
    {
     "name": "stdout",
     "output_type": "stream",
     "text": [
      "<class 'pandas.core.frame.DataFrame'>\n",
      "RangeIndex: 3500 entries, 0 to 3499\n",
      "Data columns (total 29 columns):\n",
      " #   Column                  Non-Null Count  Dtype  \n",
      "---  ------                  --------------  -----  \n",
      " 0   id                      3500 non-null   int64  \n",
      " 1   log_price               3500 non-null   float64\n",
      " 2   property_type           3500 non-null   object \n",
      " 3   room_type               3500 non-null   object \n",
      " 4   amenities               3500 non-null   object \n",
      " 5   accommodates            3500 non-null   int64  \n",
      " 6   bathrooms               3489 non-null   float64\n",
      " 7   bed_type                3500 non-null   object \n",
      " 8   cancellation_policy     3500 non-null   object \n",
      " 9   cleaning_fee            3500 non-null   bool   \n",
      " 10  city                    3500 non-null   object \n",
      " 11  description             3500 non-null   object \n",
      " 12  first_review            2689 non-null   object \n",
      " 13  host_has_profile_pic    3486 non-null   object \n",
      " 14  host_identity_verified  3486 non-null   object \n",
      " 15  host_response_rate      2586 non-null   object \n",
      " 16  host_since              3486 non-null   object \n",
      " 17  instant_bookable        3500 non-null   object \n",
      " 18  last_review             2693 non-null   object \n",
      " 19  latitude                3500 non-null   float64\n",
      " 20  longitude               3500 non-null   float64\n",
      " 21  name                    3500 non-null   object \n",
      " 22  neighbourhood           3180 non-null   object \n",
      " 23  number_of_reviews       3500 non-null   int64  \n",
      " 24  review_scores_rating    2650 non-null   float64\n",
      " 25  thumbnail_url           3102 non-null   object \n",
      " 26  zipcode                 3454 non-null   object \n",
      " 27  bedrooms                3495 non-null   float64\n",
      " 28  beds                    3495 non-null   float64\n",
      "dtypes: bool(1), float64(7), int64(3), object(18)\n",
      "memory usage: 769.2+ KB\n"
     ]
    }
   ],
   "source": [
    "data.info()"
   ]
  },
  {
   "cell_type": "code",
   "execution_count": 8,
   "metadata": {
    "execution": {
     "iopub.execute_input": "2021-06-15T07:40:03.16772Z",
     "iopub.status.busy": "2021-06-15T07:40:03.167347Z",
     "iopub.status.idle": "2021-06-15T07:40:03.183973Z",
     "shell.execute_reply": "2021-06-15T07:40:03.182961Z",
     "shell.execute_reply.started": "2021-06-15T07:40:03.167693Z"
    },
    "id": "wQH_ePRlp3hy",
    "outputId": "76a8b8c9-2711-4f31-b49a-81e30c5b9596"
   },
   "outputs": [
    {
     "data": {
      "text/plain": [
       "<matplotlib.axes._subplots.AxesSubplot at 0x185ca721520>"
      ]
     },
     "execution_count": 8,
     "metadata": {},
     "output_type": "execute_result"
    },
    {
     "data": {
      "image/png": "[encoded data removed]",
      "text/plain": [
       "<Figure size 432x288 with 1 Axes>"
      ]
     },
     "metadata": {},
     "output_type": "display_data"
    }
   ],
   "source": [
    "data.log_price.describe() #prediction variable\n",
    "sns.set_style(\"whitegrid\")\n",
    "data.log_price.plot.box()"
   ]
  },
  {
   "cell_type": "code",
   "execution_count": 9,
   "metadata": {
    "execution": {
     "iopub.execute_input": "2021-06-15T07:40:03.354861Z",
     "iopub.status.busy": "2021-06-15T07:40:03.354593Z",
     "iopub.status.idle": "2021-06-15T07:40:03.779729Z",
     "shell.execute_reply": "2021-06-15T07:40:03.778749Z",
     "shell.execute_reply.started": "2021-06-15T07:40:03.354833Z"
    },
    "id": "ipB0ZJ47PnNv",
    "outputId": "9dc14f4c-4b43-4cb8-f973-a7ff2413ab68"
   },
   "outputs": [
    {
     "data": {
      "text/plain": [
       "<matplotlib.axes._subplots.AxesSubplot at 0x185ca7dc760>"
      ]
     },
     "execution_count": 9,
     "metadata": {},
     "output_type": "execute_result"
    },
    {
     "data": {
      "image/png": "[encoded data removed]",
      "text/plain": [
       "<Figure size 432x288 with 1 Axes>"
      ]
     },
     "metadata": {},
     "output_type": "display_data"
    }
   ],
   "source": [
    "data.number_of_reviews.plot()"
   ]
  },
  {
   "cell_type": "code",
   "execution_count": 10,
   "metadata": {
    "execution": {
     "iopub.execute_input": "2021-06-15T07:40:04.061408Z",
     "iopub.status.busy": "2021-06-15T07:40:04.061119Z",
     "iopub.status.idle": "2021-06-15T07:40:05.087992Z",
     "shell.execute_reply": "2021-06-15T07:40:05.087158Z",
     "shell.execute_reply.started": "2021-06-15T07:40:04.061378Z"
    },
    "id": "Vv35GC6CyK_y"
   },
   "outputs": [],
   "source": [
    "#cleaning up the amenities attribute.\n",
    "amenitiescol = []\n",
    "amenitiesdict = {}\n",
    "for item in data.amenities:\n",
    "  item = item.replace('{','')\n",
    "  item = item.replace('}','')\n",
    "  item = item.replace('\"','')\n",
    "  item = item.split(',')\n",
    "  amenitiescol.append(max(len(item)-1,0))\n",
    "  for k in item:\n",
    "    if amenitiesdict.get(k) != None:\n",
    "      amenitiesdict[k] +=1 \n",
    "    else:\n",
    "      amenitiesdict[k] = 1"
   ]
  },
  {
   "cell_type": "code",
   "execution_count": 11,
   "metadata": {
    "execution": {
     "iopub.execute_input": "2021-06-15T07:40:05.089779Z",
     "iopub.status.busy": "2021-06-15T07:40:05.089496Z",
     "iopub.status.idle": "2021-06-15T07:40:05.362623Z",
     "shell.execute_reply": "2021-06-15T07:40:05.361615Z",
     "shell.execute_reply.started": "2021-06-15T07:40:05.089736Z"
    },
    "id": "8CMw4kKW_1Hg",
    "outputId": "601a6e8d-8cd8-4bf4-b891-107c14182e36"
   },
   "outputs": [
    {
     "data": {
      "text/plain": [
       "<BarContainer object of 50 artists>"
      ]
     },
     "execution_count": 11,
     "metadata": {},
     "output_type": "execute_result"
    },
    {
     "data": {
      "image/png": "[encoded data removed]",
      "text/plain": [
       "<Figure size 720x1440 with 1 Axes>"
      ]
     },
     "metadata": {},
     "output_type": "display_data"
    }
   ],
   "source": [
    "sortedval = sorted(amenitiesdict.values()) # Sort the values\n",
    "sorteddict = {}\n",
    "for i in sortedval:\n",
    "    for k in amenitiesdict.keys():\n",
    "        if amenitiesdict[k] == i:\n",
    "            sorteddict[k] = amenitiesdict[k]\n",
    "            break\n",
    "\n",
    "keys = sorteddict.keys()\n",
    "\n",
    "values = sorteddict.values()\n",
    "plt.figure(figsize=(10,20))\n",
    "plt.xticks(fontsize=12)\n",
    "n = 50 #showing sorted 50 of 122 objects\n",
    "plt.barh(list(keys)[-n:], list(values)[-n:], align='center',alpha=0.7)\n"
   ]
  },
  {
   "cell_type": "markdown",
   "metadata": {
    "id": "rUi4_mgQwKGm"
   },
   "source": [
    "# Data Pre-processing "
   ]
  },
  {
   "cell_type": "code",
   "execution_count": 12,
   "metadata": {
    "execution": {
     "iopub.execute_input": "2021-06-15T07:40:05.36442Z",
     "iopub.status.busy": "2021-06-15T07:40:05.364155Z",
     "iopub.status.idle": "2021-06-15T07:40:05.445483Z",
     "shell.execute_reply": "2021-06-15T07:40:05.444634Z",
     "shell.execute_reply.started": "2021-06-15T07:40:05.364391Z"
    },
    "id": "Nrc8qZKFvO2p",
    "outputId": "90afdc10-f3cb-4895-ff16-1393b5a889fa"
   },
   "outputs": [
    {
     "data": {
      "text/html": [
       "<div>\n",
       "<style scoped>\n",
       "    .dataframe tbody tr th:only-of-type {\n",
       "        vertical-align: middle;\n",
       "    }\n",
       "\n",
       "    .dataframe tbody tr th {\n",
       "        vertical-align: top;\n",
       "    }\n",
       "\n",
       "    .dataframe thead th {\n",
       "        text-align: right;\n",
       "    }\n",
       "</style>\n",
       "<table border=\"1\" class=\"dataframe\">\n",
       "  <thead>\n",
       "    <tr style=\"text-align: right;\">\n",
       "      <th></th>\n",
       "      <th>id</th>\n",
       "      <th>log_price</th>\n",
       "      <th>accommodates</th>\n",
       "      <th>bathrooms</th>\n",
       "      <th>latitude</th>\n",
       "      <th>longitude</th>\n",
       "      <th>number_of_reviews</th>\n",
       "      <th>review_scores_rating</th>\n",
       "      <th>bedrooms</th>\n",
       "      <th>beds</th>\n",
       "    </tr>\n",
       "  </thead>\n",
       "  <tbody>\n",
       "    <tr>\n",
       "      <th>count</th>\n",
       "      <td>3.500000e+03</td>\n",
       "      <td>3500.000000</td>\n",
       "      <td>3500.000000</td>\n",
       "      <td>3489.000000</td>\n",
       "      <td>3500.000000</td>\n",
       "      <td>3500.000000</td>\n",
       "      <td>3500.000000</td>\n",
       "      <td>2650.000000</td>\n",
       "      <td>3495.000000</td>\n",
       "      <td>3495.000000</td>\n",
       "    </tr>\n",
       "    <tr>\n",
       "      <th>mean</th>\n",
       "      <td>1.137192e+07</td>\n",
       "      <td>4.797424</td>\n",
       "      <td>3.162286</td>\n",
       "      <td>1.219404</td>\n",
       "      <td>38.495861</td>\n",
       "      <td>-92.057558</td>\n",
       "      <td>19.934286</td>\n",
       "      <td>94.050566</td>\n",
       "      <td>1.252647</td>\n",
       "      <td>1.699571</td>\n",
       "    </tr>\n",
       "    <tr>\n",
       "      <th>std</th>\n",
       "      <td>6.129507e+06</td>\n",
       "      <td>0.711778</td>\n",
       "      <td>2.156881</td>\n",
       "      <td>0.536189</td>\n",
       "      <td>3.045918</td>\n",
       "      <td>21.708061</td>\n",
       "      <td>36.241193</td>\n",
       "      <td>8.531850</td>\n",
       "      <td>0.841455</td>\n",
       "      <td>1.215779</td>\n",
       "    </tr>\n",
       "    <tr>\n",
       "      <th>min</th>\n",
       "      <td>3.670000e+03</td>\n",
       "      <td>2.484907</td>\n",
       "      <td>1.000000</td>\n",
       "      <td>0.000000</td>\n",
       "      <td>33.343574</td>\n",
       "      <td>-122.508663</td>\n",
       "      <td>0.000000</td>\n",
       "      <td>20.000000</td>\n",
       "      <td>0.000000</td>\n",
       "      <td>1.000000</td>\n",
       "    </tr>\n",
       "    <tr>\n",
       "      <th>25%</th>\n",
       "      <td>6.224728e+06</td>\n",
       "      <td>4.317488</td>\n",
       "      <td>2.000000</td>\n",
       "      <td>1.000000</td>\n",
       "      <td>34.149449</td>\n",
       "      <td>-118.346184</td>\n",
       "      <td>1.000000</td>\n",
       "      <td>92.000000</td>\n",
       "      <td>1.000000</td>\n",
       "      <td>1.000000</td>\n",
       "    </tr>\n",
       "    <tr>\n",
       "      <th>50%</th>\n",
       "      <td>1.269793e+07</td>\n",
       "      <td>4.744932</td>\n",
       "      <td>2.000000</td>\n",
       "      <td>1.000000</td>\n",
       "      <td>40.667432</td>\n",
       "      <td>-76.979310</td>\n",
       "      <td>5.000000</td>\n",
       "      <td>96.000000</td>\n",
       "      <td>1.000000</td>\n",
       "      <td>1.000000</td>\n",
       "    </tr>\n",
       "    <tr>\n",
       "      <th>75%</th>\n",
       "      <td>1.648986e+07</td>\n",
       "      <td>5.220356</td>\n",
       "      <td>4.000000</td>\n",
       "      <td>1.000000</td>\n",
       "      <td>40.742878</td>\n",
       "      <td>-73.952501</td>\n",
       "      <td>22.000000</td>\n",
       "      <td>100.000000</td>\n",
       "      <td>1.000000</td>\n",
       "      <td>2.000000</td>\n",
       "    </tr>\n",
       "    <tr>\n",
       "      <th>max</th>\n",
       "      <td>2.119609e+07</td>\n",
       "      <td>7.598399</td>\n",
       "      <td>16.000000</td>\n",
       "      <td>7.500000</td>\n",
       "      <td>42.383869</td>\n",
       "      <td>-70.991861</td>\n",
       "      <td>384.000000</td>\n",
       "      <td>100.000000</td>\n",
       "      <td>8.000000</td>\n",
       "      <td>16.000000</td>\n",
       "    </tr>\n",
       "  </tbody>\n",
       "</table>\n",
       "</div>"
      ],
      "text/plain": [
       "                 id    log_price  accommodates    bathrooms     latitude  \\\n",
       "count  3.500000e+03  3500.000000   3500.000000  3489.000000  3500.000000   \n",
       "mean   1.137192e+07     4.797424      3.162286     1.219404    38.495861   \n",
       "std    6.129507e+06     0.711778      2.156881     0.536189     3.045918   \n",
       "min    3.670000e+03     2.484907      1.000000     0.000000    33.343574   \n",
       "25%    6.224728e+06     4.317488      2.000000     1.000000    34.149449   \n",
       "50%    1.269793e+07     4.744932      2.000000     1.000000    40.667432   \n",
       "75%    1.648986e+07     5.220356      4.000000     1.000000    40.742878   \n",
       "max    2.119609e+07     7.598399     16.000000     7.500000    42.383869   \n",
       "\n",
       "         longitude  number_of_reviews  review_scores_rating     bedrooms  \\\n",
       "count  3500.000000        3500.000000           2650.000000  3495.000000   \n",
       "mean    -92.057558          19.934286             94.050566     1.252647   \n",
       "std      21.708061          36.241193              8.531850     0.841455   \n",
       "min    -122.508663           0.000000             20.000000     0.000000   \n",
       "25%    -118.346184           1.000000             92.000000     1.000000   \n",
       "50%     -76.979310           5.000000             96.000000     1.000000   \n",
       "75%     -73.952501          22.000000            100.000000     1.000000   \n",
       "max     -70.991861         384.000000            100.000000     8.000000   \n",
       "\n",
       "              beds  \n",
       "count  3495.000000  \n",
       "mean      1.699571  \n",
       "std       1.215779  \n",
       "min       1.000000  \n",
       "25%       1.000000  \n",
       "50%       1.000000  \n",
       "75%       2.000000  \n",
       "max      16.000000  "
      ]
     },
     "execution_count": 12,
     "metadata": {},
     "output_type": "execute_result"
    }
   ],
   "source": [
    "data.describe()"
   ]
  },
  {
   "cell_type": "code",
   "execution_count": 13,
   "metadata": {
    "execution": {
     "iopub.execute_input": "2021-06-15T07:40:05.446974Z",
     "iopub.status.busy": "2021-06-15T07:40:05.446685Z",
     "iopub.status.idle": "2021-06-15T07:40:05.582503Z",
     "shell.execute_reply": "2021-06-15T07:40:05.581712Z",
     "shell.execute_reply.started": "2021-06-15T07:40:05.446944Z"
    },
    "id": "2B7ZagvzJ9rU",
    "outputId": "e26e2ce1-5549-45dd-b9d0-493eed121c04"
   },
   "outputs": [
    {
     "name": "stdout",
     "output_type": "stream",
     "text": [
      "<class 'pandas.core.frame.DataFrame'>\n",
      "RangeIndex: 3500 entries, 0 to 3499\n",
      "Data columns (total 29 columns):\n",
      " #   Column                  Non-Null Count  Dtype  \n",
      "---  ------                  --------------  -----  \n",
      " 0   id                      3500 non-null   int64  \n",
      " 1   log_price               3500 non-null   float64\n",
      " 2   property_type           3500 non-null   object \n",
      " 3   room_type               3500 non-null   object \n",
      " 4   amenities               3500 non-null   object \n",
      " 5   accommodates            3500 non-null   int64  \n",
      " 6   bathrooms               3489 non-null   float64\n",
      " 7   bed_type                3500 non-null   object \n",
      " 8   cancellation_policy     3500 non-null   object \n",
      " 9   cleaning_fee            3500 non-null   bool   \n",
      " 10  city                    3500 non-null   object \n",
      " 11  description             3500 non-null   object \n",
      " 12  first_review            2689 non-null   object \n",
      " 13  host_has_profile_pic    3486 non-null   object \n",
      " 14  host_identity_verified  3486 non-null   object \n",
      " 15  host_response_rate      2586 non-null   object \n",
      " 16  host_since              3486 non-null   object \n",
      " 17  instant_bookable        3500 non-null   object \n",
      " 18  last_review             2693 non-null   object \n",
      " 19  latitude                3500 non-null   float64\n",
      " 20  longitude               3500 non-null   float64\n",
      " 21  name                    3500 non-null   object \n",
      " 22  neighbourhood           3180 non-null   object \n",
      " 23  number_of_reviews       3500 non-null   int64  \n",
      " 24  review_scores_rating    2650 non-null   float64\n",
      " 25  thumbnail_url           3102 non-null   object \n",
      " 26  zipcode                 3454 non-null   object \n",
      " 27  bedrooms                3495 non-null   float64\n",
      " 28  beds                    3495 non-null   float64\n",
      "dtypes: bool(1), float64(7), int64(3), object(18)\n",
      "memory usage: 769.2+ KB\n"
     ]
    }
   ],
   "source": [
    "data.info()"
   ]
  },
  {
   "cell_type": "code",
   "execution_count": 14,
   "metadata": {
    "execution": {
     "iopub.execute_input": "2021-06-15T07:40:05.584214Z",
     "iopub.status.busy": "2021-06-15T07:40:05.583903Z",
     "iopub.status.idle": "2021-06-15T07:40:06.104949Z",
     "shell.execute_reply": "2021-06-15T07:40:06.103934Z",
     "shell.execute_reply.started": "2021-06-15T07:40:05.584182Z"
    },
    "id": "u7Vk6ejTKSPA",
    "outputId": "a196b9a3-b7b5-4688-c019-d3e2a702eab8"
   },
   "outputs": [
    {
     "data": {
      "text/plain": [
       "id                          0\n",
       "log_price                   0\n",
       "property_type               0\n",
       "room_type                   0\n",
       "amenities                   0\n",
       "accommodates                0\n",
       "bathrooms                  11\n",
       "bed_type                    0\n",
       "cancellation_policy         0\n",
       "cleaning_fee                0\n",
       "city                        0\n",
       "description                 0\n",
       "first_review              811\n",
       "host_has_profile_pic       14\n",
       "host_identity_verified     14\n",
       "host_response_rate        914\n",
       "host_since                 14\n",
       "instant_bookable            0\n",
       "last_review               807\n",
       "latitude                    0\n",
       "longitude                   0\n",
       "name                        0\n",
       "neighbourhood             320\n",
       "number_of_reviews           0\n",
       "review_scores_rating      850\n",
       "thumbnail_url             398\n",
       "zipcode                    46\n",
       "bedrooms                    5\n",
       "beds                        5\n",
       "dtype: int64"
      ]
     },
     "execution_count": 14,
     "metadata": {},
     "output_type": "execute_result"
    }
   ],
   "source": [
    "data.isnull().sum()"
   ]
  },
  {
   "cell_type": "code",
   "execution_count": 15,
   "metadata": {
    "execution": {
     "iopub.execute_input": "2021-06-15T07:40:06.106724Z",
     "iopub.status.busy": "2021-06-15T07:40:06.106467Z",
     "iopub.status.idle": "2021-06-15T07:40:06.126832Z",
     "shell.execute_reply": "2021-06-15T07:40:06.12572Z",
     "shell.execute_reply.started": "2021-06-15T07:40:06.106697Z"
    },
    "id": "SWjCyYmvOff8",
    "outputId": "8d84f0c3-7759-43f9-e7ca-8748baf37df9"
   },
   "outputs": [
    {
     "name": "stdout",
     "output_type": "stream",
     "text": [
      "<class 'pandas.core.frame.DataFrame'>\n",
      "RangeIndex: 3500 entries, 0 to 3499\n",
      "Data columns (total 17 columns):\n",
      " #   Column                  Non-Null Count  Dtype  \n",
      "---  ------                  --------------  -----  \n",
      " 0   log_price               3500 non-null   float64\n",
      " 1   property_type           3500 non-null   object \n",
      " 2   room_type               3500 non-null   object \n",
      " 3   amenities               3500 non-null   object \n",
      " 4   accommodates            3500 non-null   int64  \n",
      " 5   bathrooms               3489 non-null   float64\n",
      " 6   bed_type                3500 non-null   object \n",
      " 7   cancellation_policy     3500 non-null   object \n",
      " 8   cleaning_fee            3500 non-null   bool   \n",
      " 9   city                    3500 non-null   object \n",
      " 10  host_identity_verified  3486 non-null   object \n",
      " 11  host_response_rate      2586 non-null   object \n",
      " 12  instant_bookable        3500 non-null   object \n",
      " 13  number_of_reviews       3500 non-null   int64  \n",
      " 14  review_scores_rating    2650 non-null   float64\n",
      " 15  bedrooms                3495 non-null   float64\n",
      " 16  beds                    3495 non-null   float64\n",
      "dtypes: bool(1), float64(5), int64(2), object(9)\n",
      "memory usage: 441.0+ KB\n"
     ]
    }
   ],
   "source": [
    "#dropping unnecessary data\n",
    "cleandata = data.drop(['id','description','first_review','last_review','host_since','host_has_profile_pic','name','thumbnail_url','zipcode','neighbourhood','latitude','longitude'],axis=1)\n",
    "cleandata.info()"
   ]
  },
  {
   "cell_type": "code",
   "execution_count": 16,
   "metadata": {
    "execution": {
     "iopub.execute_input": "2021-06-15T07:40:06.211268Z",
     "iopub.status.busy": "2021-06-15T07:40:06.210981Z",
     "iopub.status.idle": "2021-06-15T07:40:06.226005Z",
     "shell.execute_reply": "2021-06-15T07:40:06.225003Z",
     "shell.execute_reply.started": "2021-06-15T07:40:06.211239Z"
    },
    "id": "JcxNHARRW3Ij"
   },
   "outputs": [
    {
     "data": {
      "text/plain": [
       "log_price                   0\n",
       "property_type               0\n",
       "room_type                   0\n",
       "amenities                   0\n",
       "accommodates                0\n",
       "bathrooms                   0\n",
       "bed_type                    0\n",
       "cancellation_policy         0\n",
       "cleaning_fee                0\n",
       "city                        0\n",
       "host_identity_verified     14\n",
       "host_response_rate        914\n",
       "instant_bookable            0\n",
       "number_of_reviews           0\n",
       "review_scores_rating        0\n",
       "bedrooms                    0\n",
       "beds                        0\n",
       "dtype: int64"
      ]
     },
     "execution_count": 16,
     "metadata": {},
     "output_type": "execute_result"
    }
   ],
   "source": [
    "# filling NA with mean of each column of it\n",
    "cleandata.bathrooms = cleandata.bathrooms.fillna(int(cleandata.bathrooms.mean()))\n",
    "cleandata.bedrooms = cleandata.bedrooms.fillna(int(cleandata.bedrooms.mean()))\n",
    "cleandata.beds = cleandata.beds.fillna(int(cleandata.beds.mean()))\n",
    "cleandata.review_scores_rating = cleandata.review_scores_rating.fillna(cleandata.review_scores_rating.mean())\n",
    "cleandata.isnull().sum()"
   ]
  },
  {
   "cell_type": "code",
   "execution_count": 17,
   "metadata": {},
   "outputs": [
    {
     "data": {
      "text/plain": [
       "1.0    2777\n",
       "2.0     368\n",
       "1.5     187\n",
       "2.5      73\n",
       "3.0      31\n",
       "3.5      27\n",
       "4.0      12\n",
       "0.0      10\n",
       "0.5       5\n",
       "4.5       4\n",
       "5.0       3\n",
       "5.5       2\n",
       "7.5       1\n",
       "Name: bathrooms, dtype: int64"
      ]
     },
     "execution_count": 17,
     "metadata": {},
     "output_type": "execute_result"
    },
    {
     "data": {
      "image/png": "[encoded data removed]",
      "text/plain": [
       "<Figure size 432x288 with 1 Axes>"
      ]
     },
     "metadata": {},
     "output_type": "display_data"
    }
   ],
   "source": [
    "#displaying pie chart of bathroom having greater than 500 counts for visible representation\n",
    "bathroomscounts = cleandata.bathrooms.value_counts()\n",
    "bathroomscounts [bathroomscounts >500].plot.pie(autopct='%1.0f%%',radius=2.4)\n",
    "bathroomscounts"
   ]
  },
  {
   "cell_type": "code",
   "execution_count": 18,
   "metadata": {},
   "outputs": [
    {
     "data": {
      "text/plain": [
       "1.0    2347\n",
       "2.0     545\n",
       "0.0     333\n",
       "3.0     193\n",
       "4.0      56\n",
       "5.0      17\n",
       "6.0       6\n",
       "7.0       2\n",
       "8.0       1\n",
       "Name: bedrooms, dtype: int64"
      ]
     },
     "execution_count": 18,
     "metadata": {},
     "output_type": "execute_result"
    },
    {
     "data": {
      "image/png": "[encoded data removed]",
      "text/plain": [
       "<Figure size 432x288 with 1 Axes>"
      ]
     },
     "metadata": {},
     "output_type": "display_data"
    }
   ],
   "source": [
    "#displaying pie chart of bedrooms having greater than 500 counts for visible representation\n",
    "bedroomscounts = cleandata.bedrooms.value_counts()\n",
    "bedroomscounts [bedroomscounts >500].plot.pie(autopct='%1.0f%%',radius=2.4)\n",
    "bedroomscounts"
   ]
  },
  {
   "cell_type": "code",
   "execution_count": 19,
   "metadata": {},
   "outputs": [
    {
     "data": {
      "text/plain": [
       "1.0     2117\n",
       "2.0      833\n",
       "3.0      290\n",
       "4.0      147\n",
       "5.0       58\n",
       "6.0       29\n",
       "7.0        8\n",
       "8.0        6\n",
       "10.0       5\n",
       "12.0       2\n",
       "13.0       2\n",
       "11.0       1\n",
       "9.0        1\n",
       "16.0       1\n",
       "Name: beds, dtype: int64"
      ]
     },
     "execution_count": 19,
     "metadata": {},
     "output_type": "execute_result"
    },
    {
     "data": {
      "image/png": "[encoded data removed]",
      "text/plain": [
       "<Figure size 432x288 with 1 Axes>"
      ]
     },
     "metadata": {},
     "output_type": "display_data"
    }
   ],
   "source": [
    "#displaying pie chart of beds having greater than 500 counts for visible representation\n",
    "bedscounts = cleandata.beds.value_counts()\n",
    "bedscounts [bedscounts >500].plot.pie(autopct='%1.0f%%',radius=2.4)\n",
    "bedscounts"
   ]
  },
  {
   "cell_type": "code",
   "execution_count": 20,
   "metadata": {
    "execution": {
     "iopub.execute_input": "2021-06-15T07:40:06.227684Z",
     "iopub.status.busy": "2021-06-15T07:40:06.227396Z",
     "iopub.status.idle": "2021-06-15T07:40:06.313762Z",
     "shell.execute_reply": "2021-06-15T07:40:06.31269Z",
     "shell.execute_reply.started": "2021-06-15T07:40:06.227653Z"
    },
    "id": "1u9RAPs6W4Ti"
   },
   "outputs": [
    {
     "data": {
      "text/plain": [
       "0       NaN\n",
       "1       1.0\n",
       "2       1.0\n",
       "3       NaN\n",
       "4       1.0\n",
       "       ... \n",
       "3495    NaN\n",
       "3496    1.0\n",
       "3497    NaN\n",
       "3498    1.0\n",
       "3499    1.0\n",
       "Name: host_response_rate, Length: 3500, dtype: float64"
      ]
     },
     "execution_count": 20,
     "metadata": {},
     "output_type": "execute_result"
    }
   ],
   "source": [
    "# Fixing host response rate and change its value to the correct data type\n",
    "cleandata.host_response_rate = cleandata.host_response_rate.apply(lambda x: int(x[:len(x)-1])/100 if isinstance(x,str) else x)\n",
    "cleandata.host_response_rate"
   ]
  },
  {
   "cell_type": "code",
   "execution_count": 21,
   "metadata": {},
   "outputs": [
    {
     "data": {
      "text/plain": [
       "0       0.942285\n",
       "1       1.000000\n",
       "2       1.000000\n",
       "3       0.942285\n",
       "4       1.000000\n",
       "          ...   \n",
       "3495    0.942285\n",
       "3496    1.000000\n",
       "3497    0.942285\n",
       "3498    1.000000\n",
       "3499    1.000000\n",
       "Name: host_response_rate, Length: 3500, dtype: float64"
      ]
     },
     "execution_count": 21,
     "metadata": {},
     "output_type": "execute_result"
    }
   ],
   "source": [
    "cleandata.host_response_rate = cleandata.host_response_rate.fillna(cleandata.host_response_rate.mean())\n",
    "cleandata.host_response_rate"
   ]
  },
  {
   "cell_type": "code",
   "execution_count": 22,
   "metadata": {
    "execution": {
     "iopub.execute_input": "2021-06-15T07:40:06.315293Z",
     "iopub.status.busy": "2021-06-15T07:40:06.315043Z",
     "iopub.status.idle": "2021-06-15T07:40:06.349197Z",
     "shell.execute_reply": "2021-06-15T07:40:06.348404Z",
     "shell.execute_reply.started": "2021-06-15T07:40:06.315258Z"
    },
    "id": "LSGbaJPbW54h"
   },
   "outputs": [],
   "source": [
    "# Changing all boolean objects to 0/1\n",
    "cleandata.host_identity_verified = cleandata.host_identity_verified.apply(lambda x: True if x=='t' else False)\n",
    "cleandata.instant_bookable = cleandata.instant_bookable.apply(lambda x: True if x=='t' else False)"
   ]
  },
  {
   "cell_type": "code",
   "execution_count": 23,
   "metadata": {},
   "outputs": [],
   "source": [
    "cleandata[\"cleaning_fee\"] = cleandata[\"cleaning_fee\"].astype(int)\n",
    "cleandata[\"host_identity_verified\"] = cleandata[\"host_identity_verified\"].astype(int)\n",
    "cleandata[\"instant_bookable\"] = cleandata[\"instant_bookable\"].astype(int)"
   ]
  },
  {
   "cell_type": "code",
   "execution_count": 24,
   "metadata": {
    "execution": {
     "iopub.execute_input": "2021-06-15T07:40:06.387682Z",
     "iopub.status.busy": "2021-06-15T07:40:06.387291Z",
     "iopub.status.idle": "2021-06-15T07:40:06.450381Z",
     "shell.execute_reply": "2021-06-15T07:40:06.449371Z",
     "shell.execute_reply.started": "2021-06-15T07:40:06.387637Z"
    },
    "id": "rZfaHgl0Z_2d",
    "outputId": "75981b11-4d1b-43f8-98e6-8957eed3b2b8"
   },
   "outputs": [
    {
     "name": "stdout",
     "output_type": "stream",
     "text": [
      "<class 'pandas.core.frame.DataFrame'>\n",
      "RangeIndex: 3500 entries, 0 to 3499\n",
      "Data columns (total 17 columns):\n",
      " #   Column                  Non-Null Count  Dtype  \n",
      "---  ------                  --------------  -----  \n",
      " 0   log_price               3500 non-null   float64\n",
      " 1   property_type           3500 non-null   object \n",
      " 2   room_type               3500 non-null   object \n",
      " 3   amenities               3500 non-null   object \n",
      " 4   accommodates            3500 non-null   int64  \n",
      " 5   bathrooms               3500 non-null   float64\n",
      " 6   bed_type                3500 non-null   object \n",
      " 7   cancellation_policy     3500 non-null   object \n",
      " 8   cleaning_fee            3500 non-null   int32  \n",
      " 9   city                    3500 non-null   object \n",
      " 10  host_identity_verified  3500 non-null   int32  \n",
      " 11  host_response_rate      3500 non-null   float64\n",
      " 12  instant_bookable        3500 non-null   int32  \n",
      " 13  number_of_reviews       3500 non-null   int64  \n",
      " 14  review_scores_rating    3500 non-null   float64\n",
      " 15  bedrooms                3500 non-null   float64\n",
      " 16  beds                    3500 non-null   float64\n",
      "dtypes: float64(6), int32(3), int64(2), object(6)\n",
      "memory usage: 424.0+ KB\n"
     ]
    }
   ],
   "source": [
    "cleandata.info()"
   ]
  },
  {
   "cell_type": "code",
   "execution_count": 25,
   "metadata": {
    "execution": {
     "iopub.execute_input": "2021-06-15T07:40:06.472818Z",
     "iopub.status.busy": "2021-06-15T07:40:06.472253Z",
     "iopub.status.idle": "2021-06-15T07:40:06.852946Z",
     "shell.execute_reply": "2021-06-15T07:40:06.851955Z",
     "shell.execute_reply.started": "2021-06-15T07:40:06.472766Z"
    },
    "id": "jjl1YRItfZ81",
    "outputId": "83bb1e31-540f-4ccb-de11-af12f05e64b7"
   },
   "outputs": [
    {
     "data": {
      "image/png": "[encoded data removed]",
      "text/plain": [
       "<Figure size 432x288 with 1 Axes>"
      ]
     },
     "metadata": {},
     "output_type": "display_data"
    }
   ],
   "source": [
    "import warnings\n",
    "warnings.simplefilter(action=\"ignore\", category=FutureWarning)\n",
    "sns.countplot(cleandata['room_type'])\n",
    "plt.title('Room type')\n",
    "plt.show()"
   ]
  },
  {
   "cell_type": "code",
   "execution_count": 26,
   "metadata": {
    "execution": {
     "iopub.execute_input": "2021-06-15T07:40:06.854844Z",
     "iopub.status.busy": "2021-06-15T07:40:06.854302Z",
     "iopub.status.idle": "2021-06-15T07:40:06.866431Z",
     "shell.execute_reply": "2021-06-15T07:40:06.8652Z",
     "shell.execute_reply.started": "2021-06-15T07:40:06.854798Z"
    },
    "id": "ikvFVrHdiF2I",
    "outputId": "890d0d7e-6578-49d7-b51f-4d7009de2f38"
   },
   "outputs": [
    {
     "data": {
      "text/plain": [
       "array(['Entire home/apt', 'Private room', 'Shared room'], dtype=object)"
      ]
     },
     "execution_count": 26,
     "metadata": {},
     "output_type": "execute_result"
    }
   ],
   "source": [
    "cleandata.room_type.unique()"
   ]
  },
  {
   "cell_type": "code",
   "execution_count": 27,
   "metadata": {
    "execution": {
     "iopub.execute_input": "2021-06-15T07:40:06.86851Z",
     "iopub.status.busy": "2021-06-15T07:40:06.868139Z",
     "iopub.status.idle": "2021-06-15T07:40:06.932518Z",
     "shell.execute_reply": "2021-06-15T07:40:06.931315Z",
     "shell.execute_reply.started": "2021-06-15T07:40:06.868468Z"
    },
    "id": "UGcSAT7lh1AF"
   },
   "outputs": [
    {
     "data": {
      "text/html": [
       "<div>\n",
       "<style scoped>\n",
       "    .dataframe tbody tr th:only-of-type {\n",
       "        vertical-align: middle;\n",
       "    }\n",
       "\n",
       "    .dataframe tbody tr th {\n",
       "        vertical-align: top;\n",
       "    }\n",
       "\n",
       "    .dataframe thead th {\n",
       "        text-align: right;\n",
       "    }\n",
       "</style>\n",
       "<table border=\"1\" class=\"dataframe\">\n",
       "  <thead>\n",
       "    <tr style=\"text-align: right;\">\n",
       "      <th></th>\n",
       "      <th>log_price</th>\n",
       "      <th>property_type</th>\n",
       "      <th>room_type</th>\n",
       "      <th>amenities</th>\n",
       "      <th>accommodates</th>\n",
       "      <th>bathrooms</th>\n",
       "      <th>bed_type</th>\n",
       "      <th>cancellation_policy</th>\n",
       "      <th>cleaning_fee</th>\n",
       "      <th>city</th>\n",
       "      <th>host_identity_verified</th>\n",
       "      <th>host_response_rate</th>\n",
       "      <th>instant_bookable</th>\n",
       "      <th>number_of_reviews</th>\n",
       "      <th>review_scores_rating</th>\n",
       "      <th>bedrooms</th>\n",
       "      <th>beds</th>\n",
       "    </tr>\n",
       "  </thead>\n",
       "  <tbody>\n",
       "    <tr>\n",
       "      <th>0</th>\n",
       "      <td>5.010635</td>\n",
       "      <td>Apartment</td>\n",
       "      <td>3</td>\n",
       "      <td>{\"Wireless Internet\",\"Air conditioning\",Kitche...</td>\n",
       "      <td>3</td>\n",
       "      <td>1.0</td>\n",
       "      <td>Real Bed</td>\n",
       "      <td>strict</td>\n",
       "      <td>1</td>\n",
       "      <td>NYC</td>\n",
       "      <td>1</td>\n",
       "      <td>0.942285</td>\n",
       "      <td>0</td>\n",
       "      <td>2</td>\n",
       "      <td>100.000000</td>\n",
       "      <td>1.0</td>\n",
       "      <td>1.0</td>\n",
       "    </tr>\n",
       "    <tr>\n",
       "      <th>1</th>\n",
       "      <td>5.129899</td>\n",
       "      <td>Apartment</td>\n",
       "      <td>3</td>\n",
       "      <td>{\"Wireless Internet\",\"Air conditioning\",Kitche...</td>\n",
       "      <td>7</td>\n",
       "      <td>1.0</td>\n",
       "      <td>Real Bed</td>\n",
       "      <td>strict</td>\n",
       "      <td>1</td>\n",
       "      <td>NYC</td>\n",
       "      <td>0</td>\n",
       "      <td>1.000000</td>\n",
       "      <td>1</td>\n",
       "      <td>6</td>\n",
       "      <td>93.000000</td>\n",
       "      <td>3.0</td>\n",
       "      <td>3.0</td>\n",
       "    </tr>\n",
       "    <tr>\n",
       "      <th>2</th>\n",
       "      <td>4.976734</td>\n",
       "      <td>Apartment</td>\n",
       "      <td>3</td>\n",
       "      <td>{TV,\"Cable TV\",\"Wireless Internet\",\"Air condit...</td>\n",
       "      <td>5</td>\n",
       "      <td>1.0</td>\n",
       "      <td>Real Bed</td>\n",
       "      <td>moderate</td>\n",
       "      <td>1</td>\n",
       "      <td>NYC</td>\n",
       "      <td>1</td>\n",
       "      <td>1.000000</td>\n",
       "      <td>1</td>\n",
       "      <td>10</td>\n",
       "      <td>92.000000</td>\n",
       "      <td>1.0</td>\n",
       "      <td>3.0</td>\n",
       "    </tr>\n",
       "    <tr>\n",
       "      <th>3</th>\n",
       "      <td>6.620073</td>\n",
       "      <td>House</td>\n",
       "      <td>3</td>\n",
       "      <td>{TV,\"Cable TV\",Internet,\"Wireless Internet\",Ki...</td>\n",
       "      <td>4</td>\n",
       "      <td>1.0</td>\n",
       "      <td>Real Bed</td>\n",
       "      <td>flexible</td>\n",
       "      <td>1</td>\n",
       "      <td>SF</td>\n",
       "      <td>1</td>\n",
       "      <td>0.942285</td>\n",
       "      <td>0</td>\n",
       "      <td>0</td>\n",
       "      <td>94.050566</td>\n",
       "      <td>2.0</td>\n",
       "      <td>2.0</td>\n",
       "    </tr>\n",
       "    <tr>\n",
       "      <th>4</th>\n",
       "      <td>4.744932</td>\n",
       "      <td>Apartment</td>\n",
       "      <td>3</td>\n",
       "      <td>{TV,Internet,\"Wireless Internet\",\"Air conditio...</td>\n",
       "      <td>2</td>\n",
       "      <td>1.0</td>\n",
       "      <td>Real Bed</td>\n",
       "      <td>moderate</td>\n",
       "      <td>1</td>\n",
       "      <td>DC</td>\n",
       "      <td>1</td>\n",
       "      <td>1.000000</td>\n",
       "      <td>1</td>\n",
       "      <td>4</td>\n",
       "      <td>40.000000</td>\n",
       "      <td>0.0</td>\n",
       "      <td>1.0</td>\n",
       "    </tr>\n",
       "  </tbody>\n",
       "</table>\n",
       "</div>"
      ],
      "text/plain": [
       "   log_price property_type  room_type  \\\n",
       "0   5.010635     Apartment          3   \n",
       "1   5.129899     Apartment          3   \n",
       "2   4.976734     Apartment          3   \n",
       "3   6.620073         House          3   \n",
       "4   4.744932     Apartment          3   \n",
       "\n",
       "                                           amenities  accommodates  bathrooms  \\\n",
       "0  {\"Wireless Internet\",\"Air conditioning\",Kitche...             3        1.0   \n",
       "1  {\"Wireless Internet\",\"Air conditioning\",Kitche...             7        1.0   \n",
       "2  {TV,\"Cable TV\",\"Wireless Internet\",\"Air condit...             5        1.0   \n",
       "3  {TV,\"Cable TV\",Internet,\"Wireless Internet\",Ki...             4        1.0   \n",
       "4  {TV,Internet,\"Wireless Internet\",\"Air conditio...             2        1.0   \n",
       "\n",
       "   bed_type cancellation_policy  cleaning_fee city  host_identity_verified  \\\n",
       "0  Real Bed              strict             1  NYC                       1   \n",
       "1  Real Bed              strict             1  NYC                       0   \n",
       "2  Real Bed            moderate             1  NYC                       1   \n",
       "3  Real Bed            flexible             1   SF                       1   \n",
       "4  Real Bed            moderate             1   DC                       1   \n",
       "\n",
       "   host_response_rate  instant_bookable  number_of_reviews  \\\n",
       "0            0.942285                 0                  2   \n",
       "1            1.000000                 1                  6   \n",
       "2            1.000000                 1                 10   \n",
       "3            0.942285                 0                  0   \n",
       "4            1.000000                 1                  4   \n",
       "\n",
       "   review_scores_rating  bedrooms  beds  \n",
       "0            100.000000       1.0   1.0  \n",
       "1             93.000000       3.0   3.0  \n",
       "2             92.000000       1.0   3.0  \n",
       "3             94.050566       2.0   2.0  \n",
       "4             40.000000       0.0   1.0  "
      ]
     },
     "execution_count": 27,
     "metadata": {},
     "output_type": "execute_result"
    }
   ],
   "source": [
    "cleandata.room_type = cleandata.room_type.apply(lambda x: 3 if x=='Entire home/apt' else 2 if x=='Private room' else 1)\n",
    "cleandata.head()"
   ]
  },
  {
   "cell_type": "code",
   "execution_count": 28,
   "metadata": {
    "execution": {
     "iopub.execute_input": "2021-06-15T07:40:06.936271Z",
     "iopub.status.busy": "2021-06-15T07:40:06.935876Z",
     "iopub.status.idle": "2021-06-15T07:40:07.398088Z",
     "shell.execute_reply": "2021-06-15T07:40:07.39729Z",
     "shell.execute_reply.started": "2021-06-15T07:40:06.936227Z"
    },
    "id": "yQuESglPfG5U",
    "outputId": "4b2a153d-359f-4524-ae81-fc3810f7b645"
   },
   "outputs": [
    {
     "data": {
      "image/png": "[encoded data removed]",
      "text/plain": [
       "<Figure size 432x288 with 1 Axes>"
      ]
     },
     "metadata": {},
     "output_type": "display_data"
    }
   ],
   "source": [
    "sns.countplot(cleandata['bed_type'])\n",
    "plt.title('Bed type')\n",
    "plt.show()"
   ]
  },
  {
   "cell_type": "code",
   "execution_count": 29,
   "metadata": {
    "execution": {
     "iopub.execute_input": "2021-06-15T07:40:07.400291Z",
     "iopub.status.busy": "2021-06-15T07:40:07.399891Z",
     "iopub.status.idle": "2021-06-15T07:40:07.411702Z",
     "shell.execute_reply": "2021-06-15T07:40:07.410556Z",
     "shell.execute_reply.started": "2021-06-15T07:40:07.400245Z"
    },
    "id": "X71tBVzCikNl",
    "outputId": "a1c97f2f-70bb-4b73-c3dc-0bee1177579e"
   },
   "outputs": [
    {
     "data": {
      "text/plain": [
       "array(['Real Bed', 'Futon', 'Pull-out Sofa', 'Couch', 'Airbed'],\n",
       "      dtype=object)"
      ]
     },
     "execution_count": 29,
     "metadata": {},
     "output_type": "execute_result"
    }
   ],
   "source": [
    "cleandata.bed_type.unique()"
   ]
  },
  {
   "cell_type": "code",
   "execution_count": 30,
   "metadata": {
    "execution": {
     "iopub.execute_input": "2021-06-15T07:40:07.414247Z",
     "iopub.status.busy": "2021-06-15T07:40:07.41367Z",
     "iopub.status.idle": "2021-06-15T07:40:07.47849Z",
     "shell.execute_reply": "2021-06-15T07:40:07.477667Z",
     "shell.execute_reply.started": "2021-06-15T07:40:07.414198Z"
    },
    "id": "IlI5qjyth2Gk"
   },
   "outputs": [],
   "source": [
    "cleandata.bed_type = cleandata.bed_type.apply(lambda x: 2 if x=='Real Bed' else 1)"
   ]
  },
  {
   "cell_type": "code",
   "execution_count": 31,
   "metadata": {},
   "outputs": [
    {
     "data": {
      "image/png": "[encoded data removed]",
      "text/plain": [
       "<Figure size 432x288 with 1 Axes>"
      ]
     },
     "metadata": {},
     "output_type": "display_data"
    }
   ],
   "source": [
    "sns.countplot(cleandata['cancellation_policy'])\n",
    "plt.title('Cancellation Policy')\n",
    "plt.show()"
   ]
  },
  {
   "cell_type": "code",
   "execution_count": 32,
   "metadata": {
    "execution": {
     "iopub.execute_input": "2021-06-15T07:40:07.919231Z",
     "iopub.status.busy": "2021-06-15T07:40:07.918873Z",
     "iopub.status.idle": "2021-06-15T07:40:07.931406Z",
     "shell.execute_reply": "2021-06-15T07:40:07.930025Z",
     "shell.execute_reply.started": "2021-06-15T07:40:07.919188Z"
    },
    "id": "gnJpC9pyjeAX",
    "outputId": "30c36f68-09a4-456a-d0c7-f06679d8cf4d"
   },
   "outputs": [
    {
     "data": {
      "text/plain": [
       "array(['strict', 'moderate', 'flexible', 'super_strict_30',\n",
       "       'super_strict_60'], dtype=object)"
      ]
     },
     "execution_count": 32,
     "metadata": {},
     "output_type": "execute_result"
    }
   ],
   "source": [
    "cleandata.cancellation_policy.unique()"
   ]
  },
  {
   "cell_type": "code",
   "execution_count": 33,
   "metadata": {
    "execution": {
     "iopub.execute_input": "2021-06-15T07:40:07.933266Z",
     "iopub.status.busy": "2021-06-15T07:40:07.933015Z",
     "iopub.status.idle": "2021-06-15T07:40:07.989917Z",
     "shell.execute_reply": "2021-06-15T07:40:07.989101Z",
     "shell.execute_reply.started": "2021-06-15T07:40:07.933239Z"
    },
    "id": "Z6MmLFwhh4RF"
   },
   "outputs": [],
   "source": [
    "cleandata.cancellation_policy = cleandata.cancellation_policy.apply(lambda x: 4 if x=='flexible' else 3 if x=='moderate' else 2 if x=='strict' else 1)"
   ]
  },
  {
   "cell_type": "code",
   "execution_count": 34,
   "metadata": {
    "execution": {
     "iopub.execute_input": "2021-06-15T07:40:08.427794Z",
     "iopub.status.busy": "2021-06-15T07:40:08.427535Z",
     "iopub.status.idle": "2021-06-15T07:40:08.438554Z",
     "shell.execute_reply": "2021-06-15T07:40:08.437397Z",
     "shell.execute_reply.started": "2021-06-15T07:40:08.427746Z"
    },
    "id": "TroF0Ptyj7hu",
    "outputId": "86414a37-9f51-41a3-f69b-56755d5b6d9e"
   },
   "outputs": [
    {
     "data": {
      "text/plain": [
       "array(['NYC', 'SF', 'DC', 'LA', 'Chicago', 'Boston'], dtype=object)"
      ]
     },
     "execution_count": 34,
     "metadata": {},
     "output_type": "execute_result"
    }
   ],
   "source": [
    "cleandata.city.unique()"
   ]
  },
  {
   "cell_type": "code",
   "execution_count": 35,
   "metadata": {},
   "outputs": [
    {
     "data": {
      "image/png": "[encoded data removed]",
      "text/plain": [
       "<Figure size 432x288 with 1 Axes>"
      ]
     },
     "metadata": {},
     "output_type": "display_data"
    }
   ],
   "source": [
    "sns.countplot(cleandata['city'])\n",
    "plt.title('City')\n",
    "plt.show()"
   ]
  },
  {
   "cell_type": "code",
   "execution_count": 36,
   "metadata": {
    "execution": {
     "iopub.execute_input": "2021-06-15T07:40:08.440623Z",
     "iopub.status.busy": "2021-06-15T07:40:08.440116Z",
     "iopub.status.idle": "2021-06-15T07:40:08.471507Z",
     "shell.execute_reply": "2021-06-15T07:40:08.470734Z",
     "shell.execute_reply.started": "2021-06-15T07:40:08.440591Z"
    },
    "id": "HdKHzDTruLou"
   },
   "outputs": [],
   "source": [
    "cleandata = pd.concat([cleandata, pd.get_dummies(cleandata['city'], prefix='city')],axis=1)"
   ]
  },
  {
   "cell_type": "code",
   "execution_count": 37,
   "metadata": {
    "execution": {
     "iopub.execute_input": "2021-06-15T07:40:08.473479Z",
     "iopub.status.busy": "2021-06-15T07:40:08.473213Z",
     "iopub.status.idle": "2021-06-15T07:40:08.502155Z",
     "shell.execute_reply": "2021-06-15T07:40:08.501162Z",
     "shell.execute_reply.started": "2021-06-15T07:40:08.47345Z"
    },
    "id": "cIfpISZszIGz"
   },
   "outputs": [
    {
     "data": {
      "text/html": [
       "<div>\n",
       "<style scoped>\n",
       "    .dataframe tbody tr th:only-of-type {\n",
       "        vertical-align: middle;\n",
       "    }\n",
       "\n",
       "    .dataframe tbody tr th {\n",
       "        vertical-align: top;\n",
       "    }\n",
       "\n",
       "    .dataframe thead th {\n",
       "        text-align: right;\n",
       "    }\n",
       "</style>\n",
       "<table border=\"1\" class=\"dataframe\">\n",
       "  <thead>\n",
       "    <tr style=\"text-align: right;\">\n",
       "      <th></th>\n",
       "      <th>log_price</th>\n",
       "      <th>property_type</th>\n",
       "      <th>room_type</th>\n",
       "      <th>amenities</th>\n",
       "      <th>accommodates</th>\n",
       "      <th>bathrooms</th>\n",
       "      <th>bed_type</th>\n",
       "      <th>cancellation_policy</th>\n",
       "      <th>cleaning_fee</th>\n",
       "      <th>host_identity_verified</th>\n",
       "      <th>...</th>\n",
       "      <th>number_of_reviews</th>\n",
       "      <th>review_scores_rating</th>\n",
       "      <th>bedrooms</th>\n",
       "      <th>beds</th>\n",
       "      <th>city_Boston</th>\n",
       "      <th>city_Chicago</th>\n",
       "      <th>city_DC</th>\n",
       "      <th>city_LA</th>\n",
       "      <th>city_NYC</th>\n",
       "      <th>city_SF</th>\n",
       "    </tr>\n",
       "  </thead>\n",
       "  <tbody>\n",
       "    <tr>\n",
       "      <th>0</th>\n",
       "      <td>5.010635</td>\n",
       "      <td>Apartment</td>\n",
       "      <td>3</td>\n",
       "      <td>{\"Wireless Internet\",\"Air conditioning\",Kitche...</td>\n",
       "      <td>3</td>\n",
       "      <td>1.0</td>\n",
       "      <td>2</td>\n",
       "      <td>2</td>\n",
       "      <td>1</td>\n",
       "      <td>1</td>\n",
       "      <td>...</td>\n",
       "      <td>2</td>\n",
       "      <td>100.000000</td>\n",
       "      <td>1.0</td>\n",
       "      <td>1.0</td>\n",
       "      <td>0</td>\n",
       "      <td>0</td>\n",
       "      <td>0</td>\n",
       "      <td>0</td>\n",
       "      <td>1</td>\n",
       "      <td>0</td>\n",
       "    </tr>\n",
       "    <tr>\n",
       "      <th>1</th>\n",
       "      <td>5.129899</td>\n",
       "      <td>Apartment</td>\n",
       "      <td>3</td>\n",
       "      <td>{\"Wireless Internet\",\"Air conditioning\",Kitche...</td>\n",
       "      <td>7</td>\n",
       "      <td>1.0</td>\n",
       "      <td>2</td>\n",
       "      <td>2</td>\n",
       "      <td>1</td>\n",
       "      <td>0</td>\n",
       "      <td>...</td>\n",
       "      <td>6</td>\n",
       "      <td>93.000000</td>\n",
       "      <td>3.0</td>\n",
       "      <td>3.0</td>\n",
       "      <td>0</td>\n",
       "      <td>0</td>\n",
       "      <td>0</td>\n",
       "      <td>0</td>\n",
       "      <td>1</td>\n",
       "      <td>0</td>\n",
       "    </tr>\n",
       "    <tr>\n",
       "      <th>2</th>\n",
       "      <td>4.976734</td>\n",
       "      <td>Apartment</td>\n",
       "      <td>3</td>\n",
       "      <td>{TV,\"Cable TV\",\"Wireless Internet\",\"Air condit...</td>\n",
       "      <td>5</td>\n",
       "      <td>1.0</td>\n",
       "      <td>2</td>\n",
       "      <td>3</td>\n",
       "      <td>1</td>\n",
       "      <td>1</td>\n",
       "      <td>...</td>\n",
       "      <td>10</td>\n",
       "      <td>92.000000</td>\n",
       "      <td>1.0</td>\n",
       "      <td>3.0</td>\n",
       "      <td>0</td>\n",
       "      <td>0</td>\n",
       "      <td>0</td>\n",
       "      <td>0</td>\n",
       "      <td>1</td>\n",
       "      <td>0</td>\n",
       "    </tr>\n",
       "    <tr>\n",
       "      <th>3</th>\n",
       "      <td>6.620073</td>\n",
       "      <td>House</td>\n",
       "      <td>3</td>\n",
       "      <td>{TV,\"Cable TV\",Internet,\"Wireless Internet\",Ki...</td>\n",
       "      <td>4</td>\n",
       "      <td>1.0</td>\n",
       "      <td>2</td>\n",
       "      <td>4</td>\n",
       "      <td>1</td>\n",
       "      <td>1</td>\n",
       "      <td>...</td>\n",
       "      <td>0</td>\n",
       "      <td>94.050566</td>\n",
       "      <td>2.0</td>\n",
       "      <td>2.0</td>\n",
       "      <td>0</td>\n",
       "      <td>0</td>\n",
       "      <td>0</td>\n",
       "      <td>0</td>\n",
       "      <td>0</td>\n",
       "      <td>1</td>\n",
       "    </tr>\n",
       "    <tr>\n",
       "      <th>4</th>\n",
       "      <td>4.744932</td>\n",
       "      <td>Apartment</td>\n",
       "      <td>3</td>\n",
       "      <td>{TV,Internet,\"Wireless Internet\",\"Air conditio...</td>\n",
       "      <td>2</td>\n",
       "      <td>1.0</td>\n",
       "      <td>2</td>\n",
       "      <td>3</td>\n",
       "      <td>1</td>\n",
       "      <td>1</td>\n",
       "      <td>...</td>\n",
       "      <td>4</td>\n",
       "      <td>40.000000</td>\n",
       "      <td>0.0</td>\n",
       "      <td>1.0</td>\n",
       "      <td>0</td>\n",
       "      <td>0</td>\n",
       "      <td>1</td>\n",
       "      <td>0</td>\n",
       "      <td>0</td>\n",
       "      <td>0</td>\n",
       "    </tr>\n",
       "  </tbody>\n",
       "</table>\n",
       "<p>5 rows × 22 columns</p>\n",
       "</div>"
      ],
      "text/plain": [
       "   log_price property_type  room_type  \\\n",
       "0   5.010635     Apartment          3   \n",
       "1   5.129899     Apartment          3   \n",
       "2   4.976734     Apartment          3   \n",
       "3   6.620073         House          3   \n",
       "4   4.744932     Apartment          3   \n",
       "\n",
       "                                           amenities  accommodates  bathrooms  \\\n",
       "0  {\"Wireless Internet\",\"Air conditioning\",Kitche...             3        1.0   \n",
       "1  {\"Wireless Internet\",\"Air conditioning\",Kitche...             7        1.0   \n",
       "2  {TV,\"Cable TV\",\"Wireless Internet\",\"Air condit...             5        1.0   \n",
       "3  {TV,\"Cable TV\",Internet,\"Wireless Internet\",Ki...             4        1.0   \n",
       "4  {TV,Internet,\"Wireless Internet\",\"Air conditio...             2        1.0   \n",
       "\n",
       "   bed_type  cancellation_policy  cleaning_fee  host_identity_verified  ...  \\\n",
       "0         2                    2             1                       1  ...   \n",
       "1         2                    2             1                       0  ...   \n",
       "2         2                    3             1                       1  ...   \n",
       "3         2                    4             1                       1  ...   \n",
       "4         2                    3             1                       1  ...   \n",
       "\n",
       "   number_of_reviews  review_scores_rating  bedrooms  beds  city_Boston  \\\n",
       "0                  2            100.000000       1.0   1.0            0   \n",
       "1                  6             93.000000       3.0   3.0            0   \n",
       "2                 10             92.000000       1.0   3.0            0   \n",
       "3                  0             94.050566       2.0   2.0            0   \n",
       "4                  4             40.000000       0.0   1.0            0   \n",
       "\n",
       "   city_Chicago  city_DC  city_LA  city_NYC  city_SF  \n",
       "0             0        0        0         1        0  \n",
       "1             0        0        0         1        0  \n",
       "2             0        0        0         1        0  \n",
       "3             0        0        0         0        1  \n",
       "4             0        1        0         0        0  \n",
       "\n",
       "[5 rows x 22 columns]"
      ]
     },
     "execution_count": 37,
     "metadata": {},
     "output_type": "execute_result"
    }
   ],
   "source": [
    "cleandata = cleandata.drop(['city'],axis=1)\n",
    "cleandata.head()"
   ]
  },
  {
   "cell_type": "code",
   "execution_count": 38,
   "metadata": {
    "execution": {
     "iopub.execute_input": "2021-06-15T07:40:08.520404Z",
     "iopub.status.busy": "2021-06-15T07:40:08.520045Z",
     "iopub.status.idle": "2021-06-15T07:40:08.557164Z",
     "shell.execute_reply": "2021-06-15T07:40:08.55612Z",
     "shell.execute_reply.started": "2021-06-15T07:40:08.520363Z"
    },
    "id": "_Z1EATpjzUiw",
    "outputId": "2d9622eb-d5f8-4c9c-ba0e-0ff2620243d5"
   },
   "outputs": [
    {
     "name": "stdout",
     "output_type": "stream",
     "text": [
      "<class 'pandas.core.frame.DataFrame'>\n",
      "RangeIndex: 3500 entries, 0 to 3499\n",
      "Data columns (total 22 columns):\n",
      " #   Column                  Non-Null Count  Dtype  \n",
      "---  ------                  --------------  -----  \n",
      " 0   log_price               3500 non-null   float64\n",
      " 1   property_type           3500 non-null   object \n",
      " 2   room_type               3500 non-null   int64  \n",
      " 3   amenities               3500 non-null   object \n",
      " 4   accommodates            3500 non-null   int64  \n",
      " 5   bathrooms               3500 non-null   float64\n",
      " 6   bed_type                3500 non-null   int64  \n",
      " 7   cancellation_policy     3500 non-null   int64  \n",
      " 8   cleaning_fee            3500 non-null   int32  \n",
      " 9   host_identity_verified  3500 non-null   int32  \n",
      " 10  host_response_rate      3500 non-null   float64\n",
      " 11  instant_bookable        3500 non-null   int32  \n",
      " 12  number_of_reviews       3500 non-null   int64  \n",
      " 13  review_scores_rating    3500 non-null   float64\n",
      " 14  bedrooms                3500 non-null   float64\n",
      " 15  beds                    3500 non-null   float64\n",
      " 16  city_Boston             3500 non-null   uint8  \n",
      " 17  city_Chicago            3500 non-null   uint8  \n",
      " 18  city_DC                 3500 non-null   uint8  \n",
      " 19  city_LA                 3500 non-null   uint8  \n",
      " 20  city_NYC                3500 non-null   uint8  \n",
      " 21  city_SF                 3500 non-null   uint8  \n",
      "dtypes: float64(6), int32(3), int64(5), object(2), uint8(6)\n",
      "memory usage: 417.1+ KB\n"
     ]
    }
   ],
   "source": [
    "cleandata.info()"
   ]
  },
  {
   "cell_type": "code",
   "execution_count": 39,
   "metadata": {
    "execution": {
     "iopub.execute_input": "2021-06-15T07:40:08.558597Z",
     "iopub.status.busy": "2021-06-15T07:40:08.558359Z",
     "iopub.status.idle": "2021-06-15T07:40:08.595022Z",
     "shell.execute_reply": "2021-06-15T07:40:08.5939Z",
     "shell.execute_reply.started": "2021-06-15T07:40:08.558571Z"
    },
    "id": "i_3l7MzYFot2"
   },
   "outputs": [
    {
     "data": {
      "text/html": [
       "<div>\n",
       "<style scoped>\n",
       "    .dataframe tbody tr th:only-of-type {\n",
       "        vertical-align: middle;\n",
       "    }\n",
       "\n",
       "    .dataframe tbody tr th {\n",
       "        vertical-align: top;\n",
       "    }\n",
       "\n",
       "    .dataframe thead th {\n",
       "        text-align: right;\n",
       "    }\n",
       "</style>\n",
       "<table border=\"1\" class=\"dataframe\">\n",
       "  <thead>\n",
       "    <tr style=\"text-align: right;\">\n",
       "      <th></th>\n",
       "      <th>log_price</th>\n",
       "      <th>property_type</th>\n",
       "      <th>room_type</th>\n",
       "      <th>accommodates</th>\n",
       "      <th>bathrooms</th>\n",
       "      <th>bed_type</th>\n",
       "      <th>cancellation_policy</th>\n",
       "      <th>cleaning_fee</th>\n",
       "      <th>host_identity_verified</th>\n",
       "      <th>host_response_rate</th>\n",
       "      <th>...</th>\n",
       "      <th>review_scores_rating</th>\n",
       "      <th>bedrooms</th>\n",
       "      <th>beds</th>\n",
       "      <th>city_Boston</th>\n",
       "      <th>city_Chicago</th>\n",
       "      <th>city_DC</th>\n",
       "      <th>city_LA</th>\n",
       "      <th>city_NYC</th>\n",
       "      <th>city_SF</th>\n",
       "      <th>amenities_count</th>\n",
       "    </tr>\n",
       "  </thead>\n",
       "  <tbody>\n",
       "    <tr>\n",
       "      <th>0</th>\n",
       "      <td>5.010635</td>\n",
       "      <td>Apartment</td>\n",
       "      <td>3</td>\n",
       "      <td>3</td>\n",
       "      <td>1.0</td>\n",
       "      <td>2</td>\n",
       "      <td>2</td>\n",
       "      <td>1</td>\n",
       "      <td>1</td>\n",
       "      <td>0.942285</td>\n",
       "      <td>...</td>\n",
       "      <td>100.000000</td>\n",
       "      <td>1.0</td>\n",
       "      <td>1.0</td>\n",
       "      <td>0</td>\n",
       "      <td>0</td>\n",
       "      <td>0</td>\n",
       "      <td>0</td>\n",
       "      <td>1</td>\n",
       "      <td>0</td>\n",
       "      <td>8</td>\n",
       "    </tr>\n",
       "    <tr>\n",
       "      <th>1</th>\n",
       "      <td>5.129899</td>\n",
       "      <td>Apartment</td>\n",
       "      <td>3</td>\n",
       "      <td>7</td>\n",
       "      <td>1.0</td>\n",
       "      <td>2</td>\n",
       "      <td>2</td>\n",
       "      <td>1</td>\n",
       "      <td>0</td>\n",
       "      <td>1.000000</td>\n",
       "      <td>...</td>\n",
       "      <td>93.000000</td>\n",
       "      <td>3.0</td>\n",
       "      <td>3.0</td>\n",
       "      <td>0</td>\n",
       "      <td>0</td>\n",
       "      <td>0</td>\n",
       "      <td>0</td>\n",
       "      <td>1</td>\n",
       "      <td>0</td>\n",
       "      <td>14</td>\n",
       "    </tr>\n",
       "    <tr>\n",
       "      <th>2</th>\n",
       "      <td>4.976734</td>\n",
       "      <td>Apartment</td>\n",
       "      <td>3</td>\n",
       "      <td>5</td>\n",
       "      <td>1.0</td>\n",
       "      <td>2</td>\n",
       "      <td>3</td>\n",
       "      <td>1</td>\n",
       "      <td>1</td>\n",
       "      <td>1.000000</td>\n",
       "      <td>...</td>\n",
       "      <td>92.000000</td>\n",
       "      <td>1.0</td>\n",
       "      <td>3.0</td>\n",
       "      <td>0</td>\n",
       "      <td>0</td>\n",
       "      <td>0</td>\n",
       "      <td>0</td>\n",
       "      <td>1</td>\n",
       "      <td>0</td>\n",
       "      <td>18</td>\n",
       "    </tr>\n",
       "    <tr>\n",
       "      <th>3</th>\n",
       "      <td>6.620073</td>\n",
       "      <td>House</td>\n",
       "      <td>3</td>\n",
       "      <td>4</td>\n",
       "      <td>1.0</td>\n",
       "      <td>2</td>\n",
       "      <td>4</td>\n",
       "      <td>1</td>\n",
       "      <td>1</td>\n",
       "      <td>0.942285</td>\n",
       "      <td>...</td>\n",
       "      <td>94.050566</td>\n",
       "      <td>2.0</td>\n",
       "      <td>2.0</td>\n",
       "      <td>0</td>\n",
       "      <td>0</td>\n",
       "      <td>0</td>\n",
       "      <td>0</td>\n",
       "      <td>0</td>\n",
       "      <td>1</td>\n",
       "      <td>14</td>\n",
       "    </tr>\n",
       "    <tr>\n",
       "      <th>4</th>\n",
       "      <td>4.744932</td>\n",
       "      <td>Apartment</td>\n",
       "      <td>3</td>\n",
       "      <td>2</td>\n",
       "      <td>1.0</td>\n",
       "      <td>2</td>\n",
       "      <td>3</td>\n",
       "      <td>1</td>\n",
       "      <td>1</td>\n",
       "      <td>1.000000</td>\n",
       "      <td>...</td>\n",
       "      <td>40.000000</td>\n",
       "      <td>0.0</td>\n",
       "      <td>1.0</td>\n",
       "      <td>0</td>\n",
       "      <td>0</td>\n",
       "      <td>1</td>\n",
       "      <td>0</td>\n",
       "      <td>0</td>\n",
       "      <td>0</td>\n",
       "      <td>11</td>\n",
       "    </tr>\n",
       "  </tbody>\n",
       "</table>\n",
       "<p>5 rows × 22 columns</p>\n",
       "</div>"
      ],
      "text/plain": [
       "   log_price property_type  room_type  accommodates  bathrooms  bed_type  \\\n",
       "0   5.010635     Apartment          3             3        1.0         2   \n",
       "1   5.129899     Apartment          3             7        1.0         2   \n",
       "2   4.976734     Apartment          3             5        1.0         2   \n",
       "3   6.620073         House          3             4        1.0         2   \n",
       "4   4.744932     Apartment          3             2        1.0         2   \n",
       "\n",
       "   cancellation_policy  cleaning_fee  host_identity_verified  \\\n",
       "0                    2             1                       1   \n",
       "1                    2             1                       0   \n",
       "2                    3             1                       1   \n",
       "3                    4             1                       1   \n",
       "4                    3             1                       1   \n",
       "\n",
       "   host_response_rate  ...  review_scores_rating  bedrooms  beds  city_Boston  \\\n",
       "0            0.942285  ...            100.000000       1.0   1.0            0   \n",
       "1            1.000000  ...             93.000000       3.0   3.0            0   \n",
       "2            1.000000  ...             92.000000       1.0   3.0            0   \n",
       "3            0.942285  ...             94.050566       2.0   2.0            0   \n",
       "4            1.000000  ...             40.000000       0.0   1.0            0   \n",
       "\n",
       "   city_Chicago  city_DC  city_LA  city_NYC  city_SF  amenities_count  \n",
       "0             0        0        0         1        0                8  \n",
       "1             0        0        0         1        0               14  \n",
       "2             0        0        0         1        0               18  \n",
       "3             0        0        0         0        1               14  \n",
       "4             0        1        0         0        0               11  \n",
       "\n",
       "[5 rows x 22 columns]"
      ]
     },
     "execution_count": 39,
     "metadata": {},
     "output_type": "execute_result"
    }
   ],
   "source": [
    "cleandata['amenities_count'] = pd.Series(amenitiescol)\n",
    "cleandata = cleandata.drop(['amenities'], axis=1)\n",
    "cleandata.head()"
   ]
  },
  {
   "cell_type": "code",
   "execution_count": 40,
   "metadata": {
    "execution": {
     "iopub.execute_input": "2021-06-15T07:40:08.62047Z",
     "iopub.status.busy": "2021-06-15T07:40:08.620184Z",
     "iopub.status.idle": "2021-06-15T07:40:08.818526Z",
     "shell.execute_reply": "2021-06-15T07:40:08.81756Z",
     "shell.execute_reply.started": "2021-06-15T07:40:08.620429Z"
    },
    "id": "nakr1SCsMAja"
   },
   "outputs": [],
   "source": [
    "cleandata.review_scores_rating = cleandata.review_scores_rating/100"
   ]
  },
  {
   "cell_type": "code",
   "execution_count": 41,
   "metadata": {},
   "outputs": [
    {
     "data": {
      "text/html": [
       "<div>\n",
       "<style scoped>\n",
       "    .dataframe tbody tr th:only-of-type {\n",
       "        vertical-align: middle;\n",
       "    }\n",
       "\n",
       "    .dataframe tbody tr th {\n",
       "        vertical-align: top;\n",
       "    }\n",
       "\n",
       "    .dataframe thead th {\n",
       "        text-align: right;\n",
       "    }\n",
       "</style>\n",
       "<table border=\"1\" class=\"dataframe\">\n",
       "  <thead>\n",
       "    <tr style=\"text-align: right;\">\n",
       "      <th></th>\n",
       "      <th>log_price</th>\n",
       "      <th>property_type</th>\n",
       "      <th>room_type</th>\n",
       "      <th>accommodates</th>\n",
       "      <th>bathrooms</th>\n",
       "      <th>bed_type</th>\n",
       "      <th>cancellation_policy</th>\n",
       "      <th>cleaning_fee</th>\n",
       "      <th>host_identity_verified</th>\n",
       "      <th>host_response_rate</th>\n",
       "      <th>...</th>\n",
       "      <th>review_scores_rating</th>\n",
       "      <th>bedrooms</th>\n",
       "      <th>beds</th>\n",
       "      <th>city_Boston</th>\n",
       "      <th>city_Chicago</th>\n",
       "      <th>city_DC</th>\n",
       "      <th>city_LA</th>\n",
       "      <th>city_NYC</th>\n",
       "      <th>city_SF</th>\n",
       "      <th>amenities_count</th>\n",
       "    </tr>\n",
       "  </thead>\n",
       "  <tbody>\n",
       "    <tr>\n",
       "      <th>0</th>\n",
       "      <td>5.010635</td>\n",
       "      <td>Apartment</td>\n",
       "      <td>3</td>\n",
       "      <td>3</td>\n",
       "      <td>1.0</td>\n",
       "      <td>2</td>\n",
       "      <td>2</td>\n",
       "      <td>1</td>\n",
       "      <td>1</td>\n",
       "      <td>0.942285</td>\n",
       "      <td>...</td>\n",
       "      <td>1.000000</td>\n",
       "      <td>1.0</td>\n",
       "      <td>1.0</td>\n",
       "      <td>0</td>\n",
       "      <td>0</td>\n",
       "      <td>0</td>\n",
       "      <td>0</td>\n",
       "      <td>1</td>\n",
       "      <td>0</td>\n",
       "      <td>8</td>\n",
       "    </tr>\n",
       "    <tr>\n",
       "      <th>1</th>\n",
       "      <td>5.129899</td>\n",
       "      <td>Apartment</td>\n",
       "      <td>3</td>\n",
       "      <td>7</td>\n",
       "      <td>1.0</td>\n",
       "      <td>2</td>\n",
       "      <td>2</td>\n",
       "      <td>1</td>\n",
       "      <td>0</td>\n",
       "      <td>1.000000</td>\n",
       "      <td>...</td>\n",
       "      <td>0.930000</td>\n",
       "      <td>3.0</td>\n",
       "      <td>3.0</td>\n",
       "      <td>0</td>\n",
       "      <td>0</td>\n",
       "      <td>0</td>\n",
       "      <td>0</td>\n",
       "      <td>1</td>\n",
       "      <td>0</td>\n",
       "      <td>14</td>\n",
       "    </tr>\n",
       "    <tr>\n",
       "      <th>2</th>\n",
       "      <td>4.976734</td>\n",
       "      <td>Apartment</td>\n",
       "      <td>3</td>\n",
       "      <td>5</td>\n",
       "      <td>1.0</td>\n",
       "      <td>2</td>\n",
       "      <td>3</td>\n",
       "      <td>1</td>\n",
       "      <td>1</td>\n",
       "      <td>1.000000</td>\n",
       "      <td>...</td>\n",
       "      <td>0.920000</td>\n",
       "      <td>1.0</td>\n",
       "      <td>3.0</td>\n",
       "      <td>0</td>\n",
       "      <td>0</td>\n",
       "      <td>0</td>\n",
       "      <td>0</td>\n",
       "      <td>1</td>\n",
       "      <td>0</td>\n",
       "      <td>18</td>\n",
       "    </tr>\n",
       "    <tr>\n",
       "      <th>3</th>\n",
       "      <td>6.620073</td>\n",
       "      <td>House</td>\n",
       "      <td>3</td>\n",
       "      <td>4</td>\n",
       "      <td>1.0</td>\n",
       "      <td>2</td>\n",
       "      <td>4</td>\n",
       "      <td>1</td>\n",
       "      <td>1</td>\n",
       "      <td>0.942285</td>\n",
       "      <td>...</td>\n",
       "      <td>0.940506</td>\n",
       "      <td>2.0</td>\n",
       "      <td>2.0</td>\n",
       "      <td>0</td>\n",
       "      <td>0</td>\n",
       "      <td>0</td>\n",
       "      <td>0</td>\n",
       "      <td>0</td>\n",
       "      <td>1</td>\n",
       "      <td>14</td>\n",
       "    </tr>\n",
       "    <tr>\n",
       "      <th>4</th>\n",
       "      <td>4.744932</td>\n",
       "      <td>Apartment</td>\n",
       "      <td>3</td>\n",
       "      <td>2</td>\n",
       "      <td>1.0</td>\n",
       "      <td>2</td>\n",
       "      <td>3</td>\n",
       "      <td>1</td>\n",
       "      <td>1</td>\n",
       "      <td>1.000000</td>\n",
       "      <td>...</td>\n",
       "      <td>0.400000</td>\n",
       "      <td>0.0</td>\n",
       "      <td>1.0</td>\n",
       "      <td>0</td>\n",
       "      <td>0</td>\n",
       "      <td>1</td>\n",
       "      <td>0</td>\n",
       "      <td>0</td>\n",
       "      <td>0</td>\n",
       "      <td>11</td>\n",
       "    </tr>\n",
       "  </tbody>\n",
       "</table>\n",
       "<p>5 rows × 22 columns</p>\n",
       "</div>"
      ],
      "text/plain": [
       "   log_price property_type  room_type  accommodates  bathrooms  bed_type  \\\n",
       "0   5.010635     Apartment          3             3        1.0         2   \n",
       "1   5.129899     Apartment          3             7        1.0         2   \n",
       "2   4.976734     Apartment          3             5        1.0         2   \n",
       "3   6.620073         House          3             4        1.0         2   \n",
       "4   4.744932     Apartment          3             2        1.0         2   \n",
       "\n",
       "   cancellation_policy  cleaning_fee  host_identity_verified  \\\n",
       "0                    2             1                       1   \n",
       "1                    2             1                       0   \n",
       "2                    3             1                       1   \n",
       "3                    4             1                       1   \n",
       "4                    3             1                       1   \n",
       "\n",
       "   host_response_rate  ...  review_scores_rating  bedrooms  beds  city_Boston  \\\n",
       "0            0.942285  ...              1.000000       1.0   1.0            0   \n",
       "1            1.000000  ...              0.930000       3.0   3.0            0   \n",
       "2            1.000000  ...              0.920000       1.0   3.0            0   \n",
       "3            0.942285  ...              0.940506       2.0   2.0            0   \n",
       "4            1.000000  ...              0.400000       0.0   1.0            0   \n",
       "\n",
       "   city_Chicago  city_DC  city_LA  city_NYC  city_SF  amenities_count  \n",
       "0             0        0        0         1        0                8  \n",
       "1             0        0        0         1        0               14  \n",
       "2             0        0        0         1        0               18  \n",
       "3             0        0        0         0        1               14  \n",
       "4             0        1        0         0        0               11  \n",
       "\n",
       "[5 rows x 22 columns]"
      ]
     },
     "execution_count": 41,
     "metadata": {},
     "output_type": "execute_result"
    }
   ],
   "source": [
    "cleandata.head()"
   ]
  },
  {
   "cell_type": "code",
   "execution_count": 42,
   "metadata": {},
   "outputs": [
    {
     "data": {
      "text/html": [
       "<div>\n",
       "<style scoped>\n",
       "    .dataframe tbody tr th:only-of-type {\n",
       "        vertical-align: middle;\n",
       "    }\n",
       "\n",
       "    .dataframe tbody tr th {\n",
       "        vertical-align: top;\n",
       "    }\n",
       "\n",
       "    .dataframe thead th {\n",
       "        text-align: right;\n",
       "    }\n",
       "</style>\n",
       "<table border=\"1\" class=\"dataframe\">\n",
       "  <thead>\n",
       "    <tr style=\"text-align: right;\">\n",
       "      <th></th>\n",
       "      <th>log_price</th>\n",
       "      <th>property_type</th>\n",
       "      <th>room_type</th>\n",
       "      <th>accommodates</th>\n",
       "      <th>bathrooms</th>\n",
       "      <th>bed_type</th>\n",
       "      <th>cancellation_policy</th>\n",
       "      <th>cleaning_fee</th>\n",
       "      <th>host_identity_verified</th>\n",
       "      <th>host_response_rate</th>\n",
       "      <th>...</th>\n",
       "      <th>review_scores_rating</th>\n",
       "      <th>bedrooms</th>\n",
       "      <th>beds</th>\n",
       "      <th>city_Boston</th>\n",
       "      <th>city_Chicago</th>\n",
       "      <th>city_DC</th>\n",
       "      <th>city_LA</th>\n",
       "      <th>city_NYC</th>\n",
       "      <th>city_SF</th>\n",
       "      <th>amenities_count</th>\n",
       "    </tr>\n",
       "  </thead>\n",
       "  <tbody>\n",
       "    <tr>\n",
       "      <th>0</th>\n",
       "      <td>5.010635</td>\n",
       "      <td>0</td>\n",
       "      <td>3</td>\n",
       "      <td>3</td>\n",
       "      <td>1.0</td>\n",
       "      <td>2</td>\n",
       "      <td>2</td>\n",
       "      <td>1</td>\n",
       "      <td>1</td>\n",
       "      <td>0.942285</td>\n",
       "      <td>...</td>\n",
       "      <td>1.000000</td>\n",
       "      <td>1.0</td>\n",
       "      <td>1.0</td>\n",
       "      <td>0</td>\n",
       "      <td>0</td>\n",
       "      <td>0</td>\n",
       "      <td>0</td>\n",
       "      <td>1</td>\n",
       "      <td>0</td>\n",
       "      <td>8</td>\n",
       "    </tr>\n",
       "    <tr>\n",
       "      <th>1</th>\n",
       "      <td>5.129899</td>\n",
       "      <td>0</td>\n",
       "      <td>3</td>\n",
       "      <td>7</td>\n",
       "      <td>1.0</td>\n",
       "      <td>2</td>\n",
       "      <td>2</td>\n",
       "      <td>1</td>\n",
       "      <td>0</td>\n",
       "      <td>1.000000</td>\n",
       "      <td>...</td>\n",
       "      <td>0.930000</td>\n",
       "      <td>3.0</td>\n",
       "      <td>3.0</td>\n",
       "      <td>0</td>\n",
       "      <td>0</td>\n",
       "      <td>0</td>\n",
       "      <td>0</td>\n",
       "      <td>1</td>\n",
       "      <td>0</td>\n",
       "      <td>14</td>\n",
       "    </tr>\n",
       "    <tr>\n",
       "      <th>2</th>\n",
       "      <td>4.976734</td>\n",
       "      <td>0</td>\n",
       "      <td>3</td>\n",
       "      <td>5</td>\n",
       "      <td>1.0</td>\n",
       "      <td>2</td>\n",
       "      <td>3</td>\n",
       "      <td>1</td>\n",
       "      <td>1</td>\n",
       "      <td>1.000000</td>\n",
       "      <td>...</td>\n",
       "      <td>0.920000</td>\n",
       "      <td>1.0</td>\n",
       "      <td>3.0</td>\n",
       "      <td>0</td>\n",
       "      <td>0</td>\n",
       "      <td>0</td>\n",
       "      <td>0</td>\n",
       "      <td>1</td>\n",
       "      <td>0</td>\n",
       "      <td>18</td>\n",
       "    </tr>\n",
       "    <tr>\n",
       "      <th>3</th>\n",
       "      <td>6.620073</td>\n",
       "      <td>12</td>\n",
       "      <td>3</td>\n",
       "      <td>4</td>\n",
       "      <td>1.0</td>\n",
       "      <td>2</td>\n",
       "      <td>4</td>\n",
       "      <td>1</td>\n",
       "      <td>1</td>\n",
       "      <td>0.942285</td>\n",
       "      <td>...</td>\n",
       "      <td>0.940506</td>\n",
       "      <td>2.0</td>\n",
       "      <td>2.0</td>\n",
       "      <td>0</td>\n",
       "      <td>0</td>\n",
       "      <td>0</td>\n",
       "      <td>0</td>\n",
       "      <td>0</td>\n",
       "      <td>1</td>\n",
       "      <td>14</td>\n",
       "    </tr>\n",
       "    <tr>\n",
       "      <th>4</th>\n",
       "      <td>4.744932</td>\n",
       "      <td>0</td>\n",
       "      <td>3</td>\n",
       "      <td>2</td>\n",
       "      <td>1.0</td>\n",
       "      <td>2</td>\n",
       "      <td>3</td>\n",
       "      <td>1</td>\n",
       "      <td>1</td>\n",
       "      <td>1.000000</td>\n",
       "      <td>...</td>\n",
       "      <td>0.400000</td>\n",
       "      <td>0.0</td>\n",
       "      <td>1.0</td>\n",
       "      <td>0</td>\n",
       "      <td>0</td>\n",
       "      <td>1</td>\n",
       "      <td>0</td>\n",
       "      <td>0</td>\n",
       "      <td>0</td>\n",
       "      <td>11</td>\n",
       "    </tr>\n",
       "  </tbody>\n",
       "</table>\n",
       "<p>5 rows × 22 columns</p>\n",
       "</div>"
      ],
      "text/plain": [
       "   log_price  property_type  room_type  accommodates  bathrooms  bed_type  \\\n",
       "0   5.010635              0          3             3        1.0         2   \n",
       "1   5.129899              0          3             7        1.0         2   \n",
       "2   4.976734              0          3             5        1.0         2   \n",
       "3   6.620073             12          3             4        1.0         2   \n",
       "4   4.744932              0          3             2        1.0         2   \n",
       "\n",
       "   cancellation_policy  cleaning_fee  host_identity_verified  \\\n",
       "0                    2             1                       1   \n",
       "1                    2             1                       0   \n",
       "2                    3             1                       1   \n",
       "3                    4             1                       1   \n",
       "4                    3             1                       1   \n",
       "\n",
       "   host_response_rate  ...  review_scores_rating  bedrooms  beds  city_Boston  \\\n",
       "0            0.942285  ...              1.000000       1.0   1.0            0   \n",
       "1            1.000000  ...              0.930000       3.0   3.0            0   \n",
       "2            1.000000  ...              0.920000       1.0   3.0            0   \n",
       "3            0.942285  ...              0.940506       2.0   2.0            0   \n",
       "4            1.000000  ...              0.400000       0.0   1.0            0   \n",
       "\n",
       "   city_Chicago  city_DC  city_LA  city_NYC  city_SF  amenities_count  \n",
       "0             0        0        0         1        0                8  \n",
       "1             0        0        0         1        0               14  \n",
       "2             0        0        0         1        0               18  \n",
       "3             0        0        0         0        1               14  \n",
       "4             0        1        0         0        0               11  \n",
       "\n",
       "[5 rows x 22 columns]"
      ]
     },
     "execution_count": 42,
     "metadata": {},
     "output_type": "execute_result"
    }
   ],
   "source": [
    "label_encoder = preprocessing.LabelEncoder()\n",
    "cleandata['property_type']= label_encoder.fit_transform(cleandata['property_type']) \n",
    "cleandata.head()"
   ]
  },
  {
   "cell_type": "code",
   "execution_count": 43,
   "metadata": {
    "execution": {
     "iopub.execute_input": "2021-06-15T07:40:09.235143Z",
     "iopub.status.busy": "2021-06-15T07:40:09.234908Z",
     "iopub.status.idle": "2021-06-15T07:40:09.25303Z",
     "shell.execute_reply": "2021-06-15T07:40:09.252181Z",
     "shell.execute_reply.started": "2021-06-15T07:40:09.235116Z"
    },
    "id": "Jw4KSedjlLz3",
    "outputId": "3983adad-22b7-4365-86b8-4fda2b4bc440"
   },
   "outputs": [
    {
     "name": "stdout",
     "output_type": "stream",
     "text": [
      "<class 'pandas.core.frame.DataFrame'>\n",
      "RangeIndex: 3500 entries, 0 to 3499\n",
      "Data columns (total 22 columns):\n",
      " #   Column                  Non-Null Count  Dtype  \n",
      "---  ------                  --------------  -----  \n",
      " 0   log_price               3500 non-null   float64\n",
      " 1   property_type           3500 non-null   int32  \n",
      " 2   room_type               3500 non-null   int64  \n",
      " 3   accommodates            3500 non-null   int64  \n",
      " 4   bathrooms               3500 non-null   float64\n",
      " 5   bed_type                3500 non-null   int64  \n",
      " 6   cancellation_policy     3500 non-null   int64  \n",
      " 7   cleaning_fee            3500 non-null   int32  \n",
      " 8   host_identity_verified  3500 non-null   int32  \n",
      " 9   host_response_rate      3500 non-null   float64\n",
      " 10  instant_bookable        3500 non-null   int32  \n",
      " 11  number_of_reviews       3500 non-null   int64  \n",
      " 12  review_scores_rating    3500 non-null   float64\n",
      " 13  bedrooms                3500 non-null   float64\n",
      " 14  beds                    3500 non-null   float64\n",
      " 15  city_Boston             3500 non-null   uint8  \n",
      " 16  city_Chicago            3500 non-null   uint8  \n",
      " 17  city_DC                 3500 non-null   uint8  \n",
      " 18  city_LA                 3500 non-null   uint8  \n",
      " 19  city_NYC                3500 non-null   uint8  \n",
      " 20  city_SF                 3500 non-null   uint8  \n",
      " 21  amenities_count         3500 non-null   int64  \n",
      "dtypes: float64(6), int32(4), int64(6), uint8(6)\n",
      "memory usage: 403.4 KB\n"
     ]
    }
   ],
   "source": [
    "cleandata.info()"
   ]
  },
  {
   "cell_type": "code",
   "execution_count": 44,
   "metadata": {},
   "outputs": [
    {
     "data": {
      "text/plain": [
       "log_price                 0\n",
       "property_type             0\n",
       "room_type                 0\n",
       "accommodates              0\n",
       "bathrooms                 0\n",
       "bed_type                  0\n",
       "cancellation_policy       0\n",
       "cleaning_fee              0\n",
       "host_identity_verified    0\n",
       "host_response_rate        0\n",
       "instant_bookable          0\n",
       "number_of_reviews         0\n",
       "review_scores_rating      0\n",
       "bedrooms                  0\n",
       "beds                      0\n",
       "city_Boston               0\n",
       "city_Chicago              0\n",
       "city_DC                   0\n",
       "city_LA                   0\n",
       "city_NYC                  0\n",
       "city_SF                   0\n",
       "amenities_count           0\n",
       "dtype: int64"
      ]
     },
     "execution_count": 44,
     "metadata": {},
     "output_type": "execute_result"
    }
   ],
   "source": [
    "cleandata.isnull().sum()"
   ]
  },
  {
   "cell_type": "code",
   "execution_count": 45,
   "metadata": {},
   "outputs": [
    {
     "data": {
      "text/html": [
       "<div>\n",
       "<style scoped>\n",
       "    .dataframe tbody tr th:only-of-type {\n",
       "        vertical-align: middle;\n",
       "    }\n",
       "\n",
       "    .dataframe tbody tr th {\n",
       "        vertical-align: top;\n",
       "    }\n",
       "\n",
       "    .dataframe thead th {\n",
       "        text-align: right;\n",
       "    }\n",
       "</style>\n",
       "<table border=\"1\" class=\"dataframe\">\n",
       "  <thead>\n",
       "    <tr style=\"text-align: right;\">\n",
       "      <th></th>\n",
       "      <th>log_price</th>\n",
       "      <th>property_type</th>\n",
       "      <th>room_type</th>\n",
       "      <th>accommodates</th>\n",
       "      <th>bathrooms</th>\n",
       "      <th>bed_type</th>\n",
       "      <th>cancellation_policy</th>\n",
       "      <th>cleaning_fee</th>\n",
       "      <th>host_identity_verified</th>\n",
       "      <th>host_response_rate</th>\n",
       "      <th>...</th>\n",
       "      <th>review_scores_rating</th>\n",
       "      <th>bedrooms</th>\n",
       "      <th>beds</th>\n",
       "      <th>city_Boston</th>\n",
       "      <th>city_Chicago</th>\n",
       "      <th>city_DC</th>\n",
       "      <th>city_LA</th>\n",
       "      <th>city_NYC</th>\n",
       "      <th>city_SF</th>\n",
       "      <th>amenities_count</th>\n",
       "    </tr>\n",
       "  </thead>\n",
       "  <tbody>\n",
       "    <tr>\n",
       "      <th>0</th>\n",
       "      <td>5.010635</td>\n",
       "      <td>0</td>\n",
       "      <td>3</td>\n",
       "      <td>3</td>\n",
       "      <td>1.0</td>\n",
       "      <td>2</td>\n",
       "      <td>2</td>\n",
       "      <td>1</td>\n",
       "      <td>1</td>\n",
       "      <td>0.942285</td>\n",
       "      <td>...</td>\n",
       "      <td>1.000000</td>\n",
       "      <td>1.0</td>\n",
       "      <td>1.0</td>\n",
       "      <td>0</td>\n",
       "      <td>0</td>\n",
       "      <td>0</td>\n",
       "      <td>0</td>\n",
       "      <td>1</td>\n",
       "      <td>0</td>\n",
       "      <td>8</td>\n",
       "    </tr>\n",
       "    <tr>\n",
       "      <th>1</th>\n",
       "      <td>5.129899</td>\n",
       "      <td>0</td>\n",
       "      <td>3</td>\n",
       "      <td>7</td>\n",
       "      <td>1.0</td>\n",
       "      <td>2</td>\n",
       "      <td>2</td>\n",
       "      <td>1</td>\n",
       "      <td>0</td>\n",
       "      <td>1.000000</td>\n",
       "      <td>...</td>\n",
       "      <td>0.930000</td>\n",
       "      <td>3.0</td>\n",
       "      <td>3.0</td>\n",
       "      <td>0</td>\n",
       "      <td>0</td>\n",
       "      <td>0</td>\n",
       "      <td>0</td>\n",
       "      <td>1</td>\n",
       "      <td>0</td>\n",
       "      <td>14</td>\n",
       "    </tr>\n",
       "    <tr>\n",
       "      <th>2</th>\n",
       "      <td>4.976734</td>\n",
       "      <td>0</td>\n",
       "      <td>3</td>\n",
       "      <td>5</td>\n",
       "      <td>1.0</td>\n",
       "      <td>2</td>\n",
       "      <td>3</td>\n",
       "      <td>1</td>\n",
       "      <td>1</td>\n",
       "      <td>1.000000</td>\n",
       "      <td>...</td>\n",
       "      <td>0.920000</td>\n",
       "      <td>1.0</td>\n",
       "      <td>3.0</td>\n",
       "      <td>0</td>\n",
       "      <td>0</td>\n",
       "      <td>0</td>\n",
       "      <td>0</td>\n",
       "      <td>1</td>\n",
       "      <td>0</td>\n",
       "      <td>18</td>\n",
       "    </tr>\n",
       "    <tr>\n",
       "      <th>3</th>\n",
       "      <td>6.620073</td>\n",
       "      <td>12</td>\n",
       "      <td>3</td>\n",
       "      <td>4</td>\n",
       "      <td>1.0</td>\n",
       "      <td>2</td>\n",
       "      <td>4</td>\n",
       "      <td>1</td>\n",
       "      <td>1</td>\n",
       "      <td>0.942285</td>\n",
       "      <td>...</td>\n",
       "      <td>0.940506</td>\n",
       "      <td>2.0</td>\n",
       "      <td>2.0</td>\n",
       "      <td>0</td>\n",
       "      <td>0</td>\n",
       "      <td>0</td>\n",
       "      <td>0</td>\n",
       "      <td>0</td>\n",
       "      <td>1</td>\n",
       "      <td>14</td>\n",
       "    </tr>\n",
       "    <tr>\n",
       "      <th>4</th>\n",
       "      <td>4.744932</td>\n",
       "      <td>0</td>\n",
       "      <td>3</td>\n",
       "      <td>2</td>\n",
       "      <td>1.0</td>\n",
       "      <td>2</td>\n",
       "      <td>3</td>\n",
       "      <td>1</td>\n",
       "      <td>1</td>\n",
       "      <td>1.000000</td>\n",
       "      <td>...</td>\n",
       "      <td>0.400000</td>\n",
       "      <td>0.0</td>\n",
       "      <td>1.0</td>\n",
       "      <td>0</td>\n",
       "      <td>0</td>\n",
       "      <td>1</td>\n",
       "      <td>0</td>\n",
       "      <td>0</td>\n",
       "      <td>0</td>\n",
       "      <td>11</td>\n",
       "    </tr>\n",
       "  </tbody>\n",
       "</table>\n",
       "<p>5 rows × 22 columns</p>\n",
       "</div>"
      ],
      "text/plain": [
       "   log_price  property_type  room_type  accommodates  bathrooms  bed_type  \\\n",
       "0   5.010635              0          3             3        1.0         2   \n",
       "1   5.129899              0          3             7        1.0         2   \n",
       "2   4.976734              0          3             5        1.0         2   \n",
       "3   6.620073             12          3             4        1.0         2   \n",
       "4   4.744932              0          3             2        1.0         2   \n",
       "\n",
       "   cancellation_policy  cleaning_fee  host_identity_verified  \\\n",
       "0                    2             1                       1   \n",
       "1                    2             1                       0   \n",
       "2                    3             1                       1   \n",
       "3                    4             1                       1   \n",
       "4                    3             1                       1   \n",
       "\n",
       "   host_response_rate  ...  review_scores_rating  bedrooms  beds  city_Boston  \\\n",
       "0            0.942285  ...              1.000000       1.0   1.0            0   \n",
       "1            1.000000  ...              0.930000       3.0   3.0            0   \n",
       "2            1.000000  ...              0.920000       1.0   3.0            0   \n",
       "3            0.942285  ...              0.940506       2.0   2.0            0   \n",
       "4            1.000000  ...              0.400000       0.0   1.0            0   \n",
       "\n",
       "   city_Chicago  city_DC  city_LA  city_NYC  city_SF  amenities_count  \n",
       "0             0        0        0         1        0                8  \n",
       "1             0        0        0         1        0               14  \n",
       "2             0        0        0         1        0               18  \n",
       "3             0        0        0         0        1               14  \n",
       "4             0        1        0         0        0               11  \n",
       "\n",
       "[5 rows x 22 columns]"
      ]
     },
     "execution_count": 45,
     "metadata": {},
     "output_type": "execute_result"
    }
   ],
   "source": [
    "cleandata.head()"
   ]
  },
  {
   "cell_type": "code",
   "execution_count": 46,
   "metadata": {},
   "outputs": [],
   "source": [
    "y= cleandata['log_price']\n",
    "cols = [col for col in cleandata.columns if col not in ['log_price']]\n",
    "X= cleandata[cols]"
   ]
  },
  {
   "cell_type": "code",
   "execution_count": 47,
   "metadata": {},
   "outputs": [
    {
     "data": {
      "text/plain": [
       "RandomForestRegressor()"
      ]
     },
     "execution_count": 47,
     "metadata": {},
     "output_type": "execute_result"
    }
   ],
   "source": [
    "from sklearn.ensemble import RandomForestRegressor #for feature importance\n",
    "model = RandomForestRegressor()\n",
    "model.fit(X,y)"
   ]
  },
  {
   "cell_type": "code",
   "execution_count": 48,
   "metadata": {},
   "outputs": [
    {
     "data": {
      "image/png": "[encoded data removed]",
      "text/plain": [
       "<Figure size 432x288 with 1 Axes>"
      ]
     },
     "metadata": {},
     "output_type": "display_data"
    }
   ],
   "source": [
    "feat_importances = pd.Series(model.feature_importances_, index=X.columns)\n",
    "feat_importances.nlargest(15).plot(kind='barh')\n",
    "plt.show()"
   ]
  },
  {
   "cell_type": "code",
   "execution_count": 49,
   "metadata": {
    "execution": {
     "iopub.execute_input": "2021-06-15T07:40:14.490572Z",
     "iopub.status.busy": "2021-06-15T07:40:14.490226Z",
     "iopub.status.idle": "2021-06-15T07:40:14.495221Z",
     "shell.execute_reply": "2021-06-15T07:40:14.494063Z",
     "shell.execute_reply.started": "2021-06-15T07:40:14.490527Z"
    },
    "id": "oqOO7ZI3OYAv"
   },
   "outputs": [],
   "source": [
    "#Removing unneeded features\n",
    "cleandata = cleandata.drop(['bed_type','instant_bookable'],axis=1)"
   ]
  },
  {
   "cell_type": "code",
   "execution_count": 50,
   "metadata": {
    "execution": {
     "iopub.execute_input": "2021-06-15T07:40:14.510058Z",
     "iopub.status.busy": "2021-06-15T07:40:14.509625Z",
     "iopub.status.idle": "2021-06-15T07:40:16.020247Z",
     "shell.execute_reply": "2021-06-15T07:40:16.019133Z",
     "shell.execute_reply.started": "2021-06-15T07:40:14.51001Z"
    },
    "id": "7Z4moscBO8mQ",
    "outputId": "f925a8b5-5412-435f-8c00-99aaa836ce19"
   },
   "outputs": [
    {
     "data": {
      "image/png": "[encoded data removed]",
      "text/plain": [
       "<Figure size 1440x1440 with 2 Axes>"
      ]
     },
     "metadata": {},
     "output_type": "display_data"
    }
   ],
   "source": [
    "import seaborn as sns\n",
    "#get correlations of each features in dataset\n",
    "corrmat = cleandata.corr()\n",
    "top_corr_features = corrmat.index\n",
    "plt.figure(figsize=(20,20))\n",
    "#plot heat map\n",
    "g=sns.heatmap(cleandata[top_corr_features].corr(),annot=True,cmap=\"RdYlGn\")"
   ]
  },
  {
   "cell_type": "markdown",
   "metadata": {
    "id": "JRKqN3U8IxcN"
   },
   "source": [
    "# **Model selection, Training and Results**"
   ]
  },
  {
   "cell_type": "code",
   "execution_count": 51,
   "metadata": {
    "execution": {
     "iopub.execute_input": "2021-06-15T07:40:17.162814Z",
     "iopub.status.busy": "2021-06-15T07:40:17.162421Z",
     "iopub.status.idle": "2021-06-15T07:40:17.167631Z",
     "shell.execute_reply": "2021-06-15T07:40:17.166341Z",
     "shell.execute_reply.started": "2021-06-15T07:40:17.162768Z"
    },
    "id": "ByFHjDSlQSBO"
   },
   "outputs": [],
   "source": [
    "copydata = cleandata"
   ]
  },
  {
   "cell_type": "code",
   "execution_count": 52,
   "metadata": {
    "execution": {
     "iopub.execute_input": "2021-06-15T07:40:17.169906Z",
     "iopub.status.busy": "2021-06-15T07:40:17.16948Z",
     "iopub.status.idle": "2021-06-15T07:40:17.328617Z",
     "shell.execute_reply": "2021-06-15T07:40:17.327652Z",
     "shell.execute_reply.started": "2021-06-15T07:40:17.16986Z"
    },
    "id": "RFQ5mCcdTmL5"
   },
   "outputs": [],
   "source": [
    "# Spliting the data\n",
    "from sklearn.model_selection import train_test_split\n",
    "from sklearn.preprocessing import StandardScaler\n",
    "scaler = StandardScaler() \n",
    "train, test  = train_test_split(copydata, test_size=0.2,random_state = 42)\n",
    "X_train = train.drop(['log_price'], axis=1)\n",
    "y_train = train.log_price\n",
    "X_test = test.drop(['log_price'], axis=1) \n",
    "y_test = test.log_price"
   ]
  },
  {
   "cell_type": "code",
   "execution_count": 53,
   "metadata": {},
   "outputs": [
    {
     "name": "stdout",
     "output_type": "stream",
     "text": [
      "<class 'pandas.core.frame.DataFrame'>\n",
      "Int64Index: 700 entries, 1650 to 2213\n",
      "Data columns (total 19 columns):\n",
      " #   Column                  Non-Null Count  Dtype  \n",
      "---  ------                  --------------  -----  \n",
      " 0   property_type           700 non-null    int32  \n",
      " 1   room_type               700 non-null    int64  \n",
      " 2   accommodates            700 non-null    int64  \n",
      " 3   bathrooms               700 non-null    float64\n",
      " 4   cancellation_policy     700 non-null    int64  \n",
      " 5   cleaning_fee            700 non-null    int32  \n",
      " 6   host_identity_verified  700 non-null    int32  \n",
      " 7   host_response_rate      700 non-null    float64\n",
      " 8   number_of_reviews       700 non-null    int64  \n",
      " 9   review_scores_rating    700 non-null    float64\n",
      " 10  bedrooms                700 non-null    float64\n",
      " 11  beds                    700 non-null    float64\n",
      " 12  city_Boston             700 non-null    uint8  \n",
      " 13  city_Chicago            700 non-null    uint8  \n",
      " 14  city_DC                 700 non-null    uint8  \n",
      " 15  city_LA                 700 non-null    uint8  \n",
      " 16  city_NYC                700 non-null    uint8  \n",
      " 17  city_SF                 700 non-null    uint8  \n",
      " 18  amenities_count         700 non-null    int64  \n",
      "dtypes: float64(5), int32(3), int64(5), uint8(6)\n",
      "memory usage: 72.5 KB\n"
     ]
    }
   ],
   "source": [
    "X_test.info()"
   ]
  },
  {
   "cell_type": "code",
   "execution_count": 54,
   "metadata": {},
   "outputs": [
    {
     "data": {
      "text/html": [
       "<div>\n",
       "<style scoped>\n",
       "    .dataframe tbody tr th:only-of-type {\n",
       "        vertical-align: middle;\n",
       "    }\n",
       "\n",
       "    .dataframe tbody tr th {\n",
       "        vertical-align: top;\n",
       "    }\n",
       "\n",
       "    .dataframe thead th {\n",
       "        text-align: right;\n",
       "    }\n",
       "</style>\n",
       "<table border=\"1\" class=\"dataframe\">\n",
       "  <thead>\n",
       "    <tr style=\"text-align: right;\">\n",
       "      <th></th>\n",
       "      <th>property_type</th>\n",
       "      <th>room_type</th>\n",
       "      <th>accommodates</th>\n",
       "      <th>bathrooms</th>\n",
       "      <th>cancellation_policy</th>\n",
       "      <th>cleaning_fee</th>\n",
       "      <th>host_identity_verified</th>\n",
       "      <th>host_response_rate</th>\n",
       "      <th>number_of_reviews</th>\n",
       "      <th>review_scores_rating</th>\n",
       "      <th>bedrooms</th>\n",
       "      <th>beds</th>\n",
       "      <th>city_Boston</th>\n",
       "      <th>city_Chicago</th>\n",
       "      <th>city_DC</th>\n",
       "      <th>city_LA</th>\n",
       "      <th>city_NYC</th>\n",
       "      <th>city_SF</th>\n",
       "      <th>amenities_count</th>\n",
       "    </tr>\n",
       "  </thead>\n",
       "  <tbody>\n",
       "    <tr>\n",
       "      <th>1650</th>\n",
       "      <td>0</td>\n",
       "      <td>3</td>\n",
       "      <td>4</td>\n",
       "      <td>1.0</td>\n",
       "      <td>2</td>\n",
       "      <td>1</td>\n",
       "      <td>1</td>\n",
       "      <td>1.000000</td>\n",
       "      <td>42</td>\n",
       "      <td>1.000000</td>\n",
       "      <td>2.0</td>\n",
       "      <td>3.0</td>\n",
       "      <td>0</td>\n",
       "      <td>1</td>\n",
       "      <td>0</td>\n",
       "      <td>0</td>\n",
       "      <td>0</td>\n",
       "      <td>0</td>\n",
       "      <td>24</td>\n",
       "    </tr>\n",
       "    <tr>\n",
       "      <th>2456</th>\n",
       "      <td>12</td>\n",
       "      <td>2</td>\n",
       "      <td>1</td>\n",
       "      <td>1.0</td>\n",
       "      <td>3</td>\n",
       "      <td>1</td>\n",
       "      <td>1</td>\n",
       "      <td>0.942285</td>\n",
       "      <td>0</td>\n",
       "      <td>0.940506</td>\n",
       "      <td>1.0</td>\n",
       "      <td>1.0</td>\n",
       "      <td>0</td>\n",
       "      <td>0</td>\n",
       "      <td>0</td>\n",
       "      <td>1</td>\n",
       "      <td>0</td>\n",
       "      <td>0</td>\n",
       "      <td>23</td>\n",
       "    </tr>\n",
       "    <tr>\n",
       "      <th>2232</th>\n",
       "      <td>18</td>\n",
       "      <td>2</td>\n",
       "      <td>2</td>\n",
       "      <td>2.0</td>\n",
       "      <td>4</td>\n",
       "      <td>1</td>\n",
       "      <td>1</td>\n",
       "      <td>1.000000</td>\n",
       "      <td>2</td>\n",
       "      <td>1.000000</td>\n",
       "      <td>3.0</td>\n",
       "      <td>1.0</td>\n",
       "      <td>0</td>\n",
       "      <td>0</td>\n",
       "      <td>0</td>\n",
       "      <td>1</td>\n",
       "      <td>0</td>\n",
       "      <td>0</td>\n",
       "      <td>2</td>\n",
       "    </tr>\n",
       "    <tr>\n",
       "      <th>1945</th>\n",
       "      <td>0</td>\n",
       "      <td>3</td>\n",
       "      <td>3</td>\n",
       "      <td>1.0</td>\n",
       "      <td>4</td>\n",
       "      <td>1</td>\n",
       "      <td>1</td>\n",
       "      <td>1.000000</td>\n",
       "      <td>0</td>\n",
       "      <td>0.940506</td>\n",
       "      <td>1.0</td>\n",
       "      <td>1.0</td>\n",
       "      <td>0</td>\n",
       "      <td>0</td>\n",
       "      <td>0</td>\n",
       "      <td>1</td>\n",
       "      <td>0</td>\n",
       "      <td>0</td>\n",
       "      <td>9</td>\n",
       "    </tr>\n",
       "    <tr>\n",
       "      <th>309</th>\n",
       "      <td>12</td>\n",
       "      <td>2</td>\n",
       "      <td>2</td>\n",
       "      <td>1.0</td>\n",
       "      <td>4</td>\n",
       "      <td>0</td>\n",
       "      <td>1</td>\n",
       "      <td>0.942285</td>\n",
       "      <td>0</td>\n",
       "      <td>0.940506</td>\n",
       "      <td>1.0</td>\n",
       "      <td>1.0</td>\n",
       "      <td>0</td>\n",
       "      <td>0</td>\n",
       "      <td>0</td>\n",
       "      <td>0</td>\n",
       "      <td>0</td>\n",
       "      <td>1</td>\n",
       "      <td>16</td>\n",
       "    </tr>\n",
       "  </tbody>\n",
       "</table>\n",
       "</div>"
      ],
      "text/plain": [
       "      property_type  room_type  accommodates  bathrooms  cancellation_policy  \\\n",
       "1650              0          3             4        1.0                    2   \n",
       "2456             12          2             1        1.0                    3   \n",
       "2232             18          2             2        2.0                    4   \n",
       "1945              0          3             3        1.0                    4   \n",
       "309              12          2             2        1.0                    4   \n",
       "\n",
       "      cleaning_fee  host_identity_verified  host_response_rate  \\\n",
       "1650             1                       1            1.000000   \n",
       "2456             1                       1            0.942285   \n",
       "2232             1                       1            1.000000   \n",
       "1945             1                       1            1.000000   \n",
       "309              0                       1            0.942285   \n",
       "\n",
       "      number_of_reviews  review_scores_rating  bedrooms  beds  city_Boston  \\\n",
       "1650                 42              1.000000       2.0   3.0            0   \n",
       "2456                  0              0.940506       1.0   1.0            0   \n",
       "2232                  2              1.000000       3.0   1.0            0   \n",
       "1945                  0              0.940506       1.0   1.0            0   \n",
       "309                   0              0.940506       1.0   1.0            0   \n",
       "\n",
       "      city_Chicago  city_DC  city_LA  city_NYC  city_SF  amenities_count  \n",
       "1650             1        0        0         0        0               24  \n",
       "2456             0        0        1         0        0               23  \n",
       "2232             0        0        1         0        0                2  \n",
       "1945             0        0        1         0        0                9  \n",
       "309              0        0        0         0        1               16  "
      ]
     },
     "execution_count": 54,
     "metadata": {},
     "output_type": "execute_result"
    }
   ],
   "source": [
    "X_test.head()"
   ]
  },
  {
   "cell_type": "code",
   "execution_count": 55,
   "metadata": {},
   "outputs": [],
   "source": [
    "#Randomized Search CV\n",
    "\n",
    "# Number of trees in random forest\n",
    "n_estimators = [int(x) for x in np.linspace(start = 100, stop = 1200, num = 20)]\n",
    "# Number of features to consider at every split\n",
    "max_features = ['auto', 'sqrt']\n",
    "# Maximum number of levels in tree\n",
    "max_depth = [int(x) for x in np.linspace(5, 50, num = 15)]\n",
    "# Minimum number of samples required to split a node\n",
    "min_samples_split = [2, 5, 10, 15, 100]\n",
    "# Minimum number of samples required at each leaf node\n",
    "min_samples_leaf = [1, 2, 5, 10,15]"
   ]
  },
  {
   "cell_type": "code",
   "execution_count": 56,
   "metadata": {},
   "outputs": [
    {
     "name": "stdout",
     "output_type": "stream",
     "text": [
      "{'n_estimators': [100, 157, 215, 273, 331, 389, 447, 505, 563, 621, 678, 736, 794, 852, 910, 968, 1026, 1084, 1142, 1200], 'max_features': ['auto', 'sqrt'], 'max_depth': [5, 8, 11, 14, 17, 21, 24, 27, 30, 33, 37, 40, 43, 46, 50], 'min_samples_split': [2, 5, 10, 15, 100], 'min_samples_leaf': [1, 2, 5, 10, 15]}\n"
     ]
    }
   ],
   "source": [
    "# grid to search for best hyperparameters\n",
    "grid = {'n_estimators': n_estimators,\n",
    "        'max_features': max_features,\n",
    "        'max_depth': max_depth,\n",
    "        'min_samples_split': min_samples_split,\n",
    "       'min_samples_leaf': min_samples_leaf}\n",
    "print(grid)"
   ]
  },
  {
   "cell_type": "markdown",
   "metadata": {},
   "source": [
    "# XGB"
   ]
  },
  {
   "cell_type": "code",
   "execution_count": 57,
   "metadata": {},
   "outputs": [
    {
     "data": {
      "text/plain": [
       "array([5.080589 , 4.521308 , 3.6936655, 4.748223 , 5.424195 , 5.111223 ,\n",
       "       5.33459  , 4.857649 , 4.909903 , 3.8803957, 6.5263233, 5.315465 ,\n",
       "       4.9963684, 5.292164 , 3.7202554, 5.1638827, 5.1595297, 3.7235668,\n",
       "       4.687091 , 4.466408 , 5.095192 , 4.6845465, 5.4530134, 6.028625 ,\n",
       "       4.678134 , 4.4124584, 5.047471 , 4.4271364, 4.5443716, 5.0112066,\n",
       "       4.158734 , 5.012745 , 5.701499 , 5.1647186, 4.190836 , 4.021877 ,\n",
       "       4.436553 , 5.103493 , 4.5645833, 3.7453198, 4.1742435, 6.8572273,\n",
       "       4.655214 , 5.412497 , 4.1279626, 4.470032 , 5.9344225, 5.550548 ,\n",
       "       4.1257877, 5.1652637, 4.1215134, 5.149923 , 4.4500732, 4.8939214,\n",
       "       4.0885544, 5.037656 , 4.809095 , 4.783032 , 5.2679205, 5.0801425,\n",
       "       4.7399864, 4.6457825, 4.8129883, 4.790628 , 5.4336643, 4.6378627,\n",
       "       5.6184564, 5.762488 , 4.687587 , 4.5461354, 4.662434 , 4.986501 ,\n",
       "       4.515933 , 5.13454  , 5.652131 , 4.966433 , 4.483332 , 4.479053 ,\n",
       "       3.9976707, 4.6104093, 5.0514197, 4.1117835, 4.938736 , 3.690824 ,\n",
       "       4.989258 , 5.573986 , 3.9986126, 5.416406 , 5.1408668, 4.2457523,\n",
       "       4.3588457, 5.0381103, 4.7916436, 5.342644 , 4.8367457, 4.5974755,\n",
       "       5.0598526, 5.158411 , 4.936448 , 4.4392595, 4.605496 , 4.458178 ,\n",
       "       5.560651 , 4.671915 , 4.1174927, 4.304904 , 4.480751 , 4.9856505,\n",
       "       4.147767 , 5.5079722, 6.050073 , 5.353388 , 4.841189 , 4.4699965,\n",
       "       4.36765  , 6.448326 , 5.787784 , 4.437031 , 5.2486825, 5.521488 ,\n",
       "       4.963699 , 3.5093036, 3.9887002, 4.2043104, 4.6431656, 4.048382 ,\n",
       "       4.1132526, 4.273908 , 4.8779416, 4.5038266, 5.9288363, 4.151457 ,\n",
       "       4.222623 , 4.485794 , 4.148445 , 4.765479 , 4.691387 , 4.8419523,\n",
       "       4.504428 , 5.198235 , 4.4920006, 5.096824 , 4.4248486, 5.74088  ,\n",
       "       5.437512 , 5.121162 , 4.1558847, 4.3262157, 4.153826 , 4.9474945,\n",
       "       4.5470047, 5.6107187, 4.3216553, 4.0126486, 4.2876425, 4.5463843,\n",
       "       4.3578877, 4.937566 , 4.346383 , 4.1650114, 4.616573 , 4.141135 ,\n",
       "       5.1986084, 4.9036474, 5.813824 , 3.939671 , 5.1105146, 5.626883 ,\n",
       "       4.149746 , 3.932685 , 4.8908906, 4.5859265, 4.030378 , 4.26814  ,\n",
       "       5.0294704, 3.7673683, 4.524298 , 5.648144 , 4.061134 , 4.3591166,\n",
       "       4.643365 , 4.6981273, 4.1375003, 4.160759 , 5.102951 , 4.9403567,\n",
       "       4.89222  , 4.821975 , 4.596804 , 5.1029186, 5.5168867, 4.7408733,\n",
       "       5.8542943, 5.2649517, 5.0790944, 5.1883407, 4.894274 , 4.2948723,\n",
       "       4.229789 , 4.373822 , 4.7338624, 5.2096996, 4.754415 , 4.8235326,\n",
       "       4.930892 , 5.3768597, 4.145253 , 4.405821 , 4.166249 , 4.3944798,\n",
       "       5.581296 , 4.277176 , 5.169486 , 3.8582287, 4.297573 , 5.648367 ,\n",
       "       4.601402 , 4.840128 , 4.875784 , 4.197107 , 4.9729214, 4.169198 ,\n",
       "       4.8993993, 4.160449 , 3.8216186, 4.1053295, 3.5292683, 4.9490786,\n",
       "       4.748242 , 4.6010895, 4.2952223, 5.333192 , 5.138386 , 3.9785862,\n",
       "       4.765786 , 5.039761 , 4.582812 , 4.1678576, 5.0692544, 5.9496627,\n",
       "       6.19003  , 5.1281924, 4.1750784, 4.4051514, 5.3951235, 3.8369937,\n",
       "       4.532567 , 4.2815723, 4.7361403, 4.2438498, 4.7719016, 4.4445095,\n",
       "       4.608807 , 5.0253844, 5.2211404, 4.483393 , 6.078437 , 6.490525 ,\n",
       "       5.1801977, 4.7663436, 4.6066413, 4.693738 , 4.691905 , 4.6032224,\n",
       "       4.219098 , 4.825235 , 4.8994412, 4.231127 , 3.9209957, 4.928192 ,\n",
       "       4.2256837, 4.5541315, 4.8149333, 3.952802 , 4.3366985, 4.4950895,\n",
       "       6.2695217, 5.226474 , 3.5618591, 4.9554596, 5.263878 , 3.4622009,\n",
       "       4.673206 , 5.445146 , 4.3780556, 6.6000247, 6.527195 , 4.6674337,\n",
       "       5.119204 , 4.12922  , 5.747528 , 5.028203 , 5.6622763, 4.268843 ,\n",
       "       4.187108 , 4.3273   , 4.072833 , 5.2760816, 4.0153008, 4.934028 ,\n",
       "       5.202061 , 3.8808305, 4.1364717, 4.233513 , 4.1524563, 4.9920363,\n",
       "       4.285052 , 6.506903 , 4.671157 , 5.218391 , 5.152697 , 5.5478253,\n",
       "       4.4783835, 5.12748  , 4.3587847, 4.6650743, 5.086967 , 5.227467 ,\n",
       "       5.110271 , 3.9284587, 4.2656507, 4.997282 , 5.2228103, 6.111691 ,\n",
       "       3.8048327, 5.159692 , 5.9879117, 4.0886526, 4.484046 , 4.91643  ,\n",
       "       4.5416293, 5.0556426, 4.820911 , 5.604656 , 5.161647 , 4.3755245,\n",
       "       4.462123 , 4.570612 , 4.110531 , 4.1991515, 4.5367193, 4.333658 ,\n",
       "       3.6667514, 4.3522153, 3.7303307, 4.652186 , 4.080305 , 5.489114 ,\n",
       "       6.035412 , 4.538814 , 4.335179 , 4.3435016, 5.397754 , 4.3499317,\n",
       "       4.4496613, 5.164028 , 4.234022 , 3.9259493, 5.2192454, 4.6119895,\n",
       "       5.0801363, 4.055305 , 4.877266 , 5.2413826, 4.625458 , 5.6179523,\n",
       "       4.812811 , 4.857284 , 3.9215322, 4.0759974, 5.460513 , 5.089842 ,\n",
       "       4.9717455, 4.8152776, 4.4418635, 4.2224298, 4.886615 , 5.093735 ,\n",
       "       4.3049498, 5.811777 , 4.5342636, 4.603521 , 4.2096148, 5.06003  ,\n",
       "       4.6473894, 4.5897465, 3.8905604, 4.4947124, 5.8181543, 5.1037297,\n",
       "       5.065242 , 4.7955046, 5.3218107, 5.569854 , 5.465134 , 4.6837096,\n",
       "       4.146538 , 5.5154443, 4.889608 , 5.756409 , 6.2099705, 3.2153754,\n",
       "       4.218553 , 5.2524633, 4.4797273, 5.4599996, 4.2849684, 3.4575698,\n",
       "       4.366071 , 5.1906424, 4.8635373, 5.046412 , 5.8941236, 6.148665 ,\n",
       "       4.310519 , 6.0535235, 3.9518752, 4.6611285, 4.2056375, 3.8799758,\n",
       "       4.6685753, 4.412882 , 4.496857 , 5.4248867, 5.524764 , 4.1493864,\n",
       "       3.964115 , 5.1811504, 5.0089593, 6.011341 , 4.4758763, 5.638355 ,\n",
       "       5.0079136, 4.7953877, 4.217638 , 4.0536156, 5.5237575, 4.661348 ,\n",
       "       4.1481752, 5.3330264, 4.2569995, 4.616428 , 5.41954  , 5.3129807,\n",
       "       4.269593 , 5.0577455, 5.602293 , 5.277406 , 4.8300047, 4.3035526,\n",
       "       5.043673 , 4.3098245, 4.5160036, 4.4248347, 4.399444 , 5.099064 ,\n",
       "       3.7114084, 4.4857826, 5.2908926, 4.3746557, 5.120738 , 5.0989246,\n",
       "       5.912142 , 5.1104903, 5.408754 , 5.1565394, 4.2078   , 4.463328 ,\n",
       "       4.7628813, 4.4317527, 5.054528 , 4.328609 , 4.2398934, 4.270841 ,\n",
       "       4.945526 , 4.691288 , 4.716445 , 5.2763424, 5.1530414, 4.834219 ,\n",
       "       6.367724 , 4.3808937, 5.287542 , 4.920415 , 4.990477 , 4.8369713,\n",
       "       3.9586601, 4.6251636, 5.1333504, 5.411239 , 4.687839 , 4.49123  ,\n",
       "       6.173798 , 4.93648  , 5.3495   , 4.4301147, 5.1200585, 4.853949 ,\n",
       "       4.9557257, 4.956129 , 4.350835 , 4.9331474, 4.9249377, 6.2661986,\n",
       "       4.420253 , 4.077001 , 4.3776674, 4.3181067, 5.042387 , 4.6541567,\n",
       "       3.8381693, 4.6362696, 5.5868845, 4.5698447, 4.9012585, 5.320633 ,\n",
       "       5.4575253, 6.7093997, 5.2793245, 4.511527 , 5.350791 , 4.9887104,\n",
       "       5.4748926, 5.1740236, 5.38998  , 4.64663  , 4.897204 , 4.567142 ,\n",
       "       5.2677164, 5.1217885, 6.3717504, 4.947243 , 4.6373415, 4.860749 ,\n",
       "       3.7440069, 5.240495 , 4.8923445, 5.543841 , 5.3656034, 4.2162895,\n",
       "       5.5861387, 4.6877937, 4.437606 , 4.388425 , 5.118147 , 4.217525 ,\n",
       "       5.882987 , 4.3020477, 5.267767 , 5.6046853, 4.510487 , 4.3903284,\n",
       "       5.0544143, 5.441766 , 4.3135614, 5.2478375, 4.5401254, 5.0337567,\n",
       "       4.964979 , 4.553236 , 4.4346886, 4.707019 , 4.785532 , 4.3054867,\n",
       "       4.667792 , 5.058072 , 4.4961033, 4.409859 , 5.01801  , 5.142423 ,\n",
       "       4.6686277, 5.061081 , 4.2148695, 4.8195143, 5.098587 , 6.2968106,\n",
       "       4.4634476, 4.968214 , 4.536482 , 4.0574985, 4.5718536, 5.629733 ,\n",
       "       4.324171 , 6.52346  , 4.4154224, 4.540947 , 5.3302603, 4.535033 ,\n",
       "       5.2890897, 5.0885296, 3.792796 , 4.2030888, 5.0972   , 4.699688 ,\n",
       "       4.539357 , 5.2611885, 4.1503696, 3.7236109, 4.7082477, 4.2381053,\n",
       "       3.9596379, 5.023054 , 3.1296256, 5.5568714, 5.064503 , 3.8598905,\n",
       "       5.423721 , 3.9516659, 4.9131284, 5.618368 , 6.1753035, 4.7173376,\n",
       "       4.498591 , 4.9250765, 4.073021 , 4.7671556, 4.461585 , 4.2960224,\n",
       "       5.2537074, 4.1559124, 4.406045 , 4.36765  , 4.0844717, 4.6558867,\n",
       "       4.404585 , 5.492946 , 5.9691277, 4.766131 , 4.8205776, 3.5425458,\n",
       "       5.945346 , 4.903251 , 4.236884 , 4.9173856, 4.9375057, 4.7178025,\n",
       "       5.43291  , 6.0156455, 5.522133 , 6.3442526, 4.7837415, 4.6070867,\n",
       "       4.257958 , 4.0844717, 5.469874 , 4.840364 , 6.5176044, 4.648475 ,\n",
       "       4.0666285, 6.054352 , 5.074171 , 5.426171 , 4.0680194, 4.453729 ,\n",
       "       4.863667 , 4.593467 , 4.2966166, 3.9633787, 5.2191544, 4.053546 ,\n",
       "       4.5703654, 4.779858 , 5.964795 , 5.4473643, 4.760958 , 4.8701067,\n",
       "       3.9711683, 5.259692 , 4.22871  , 5.521412 , 4.543519 , 5.4059815,\n",
       "       4.4085054, 3.9967525, 4.354228 , 4.999903 , 4.8335977, 4.8111873,\n",
       "       3.9155428, 4.745922 , 4.991245 , 5.1101894, 5.9265485, 4.8114166,\n",
       "       4.229244 , 4.75416  , 4.4003544, 4.883468 , 4.9612226, 4.993705 ,\n",
       "       4.7403398, 4.523554 , 5.5867677, 4.8415675, 4.5324407, 4.938078 ,\n",
       "       4.0597153, 4.652928 , 6.381293 , 5.1692615], dtype=float32)"
      ]
     },
     "execution_count": 57,
     "metadata": {},
     "output_type": "execute_result"
    }
   ],
   "source": [
    "import xgboost as xgb\n",
    "model = xgb.XGBRegressor()\n",
    "model.fit(X_train, y_train)\n",
    "pred = model.predict(X_test)\n",
    "pred"
   ]
  },
  {
   "cell_type": "code",
   "execution_count": 58,
   "metadata": {},
   "outputs": [
    {
     "name": "stdout",
     "output_type": "stream",
     "text": [
      "MAE: 0.38177506176952775\n",
      "MSE: 0.24331701456539065\n",
      "RMSE: 0.49327174515209227\n"
     ]
    }
   ],
   "source": [
    "print('MAE:', metrics.mean_absolute_error(y_test, pred))\n",
    "print('MSE:', metrics.mean_squared_error(y_test, pred))\n",
    "print('RMSE:', np.sqrt(metrics.mean_squared_error(y_test, pred)))"
   ]
  },
  {
   "cell_type": "code",
   "execution_count": 59,
   "metadata": {},
   "outputs": [
    {
     "data": {
      "text/plain": [
       "0.5624115660831895"
      ]
     },
     "execution_count": 59,
     "metadata": {},
     "output_type": "execute_result"
    }
   ],
   "source": [
    "metrics.r2_score(y_test, pred)"
   ]
  },
  {
   "cell_type": "markdown",
   "metadata": {},
   "source": [
    "# Random Forest"
   ]
  },
  {
   "cell_type": "code",
   "execution_count": 60,
   "metadata": {},
   "outputs": [
    {
     "name": "stdout",
     "output_type": "stream",
     "text": [
      "Fitting 5 folds for each of 15 candidates, totalling 75 fits\n",
      "[CV] END max_depth=27, max_features=auto, min_samples_leaf=5, min_samples_split=15, n_estimators=678; total time=   3.1s\n",
      "[CV] END max_depth=27, max_features=auto, min_samples_leaf=5, min_samples_split=15, n_estimators=678; total time=   3.1s\n",
      "[CV] END max_depth=27, max_features=auto, min_samples_leaf=5, min_samples_split=15, n_estimators=678; total time=   3.0s\n",
      "[CV] END max_depth=27, max_features=auto, min_samples_leaf=5, min_samples_split=15, n_estimators=678; total time=   3.1s\n",
      "[CV] END max_depth=27, max_features=auto, min_samples_leaf=5, min_samples_split=15, n_estimators=678; total time=   2.9s\n",
      "[CV] END max_depth=5, max_features=sqrt, min_samples_leaf=10, min_samples_split=15, n_estimators=100; total time=   0.1s\n",
      "[CV] END max_depth=5, max_features=sqrt, min_samples_leaf=10, min_samples_split=15, n_estimators=100; total time=   0.1s\n",
      "[CV] END max_depth=5, max_features=sqrt, min_samples_leaf=10, min_samples_split=15, n_estimators=100; total time=   0.1s\n",
      "[CV] END max_depth=5, max_features=sqrt, min_samples_leaf=10, min_samples_split=15, n_estimators=100; total time=   0.1s\n",
      "[CV] END max_depth=5, max_features=sqrt, min_samples_leaf=10, min_samples_split=15, n_estimators=100; total time=   0.0s\n",
      "[CV] END max_depth=21, max_features=auto, min_samples_leaf=10, min_samples_split=100, n_estimators=678; total time=   2.1s\n",
      "[CV] END max_depth=21, max_features=auto, min_samples_leaf=10, min_samples_split=100, n_estimators=678; total time=   2.1s\n",
      "[CV] END max_depth=21, max_features=auto, min_samples_leaf=10, min_samples_split=100, n_estimators=678; total time=   2.1s\n",
      "[CV] END max_depth=21, max_features=auto, min_samples_leaf=10, min_samples_split=100, n_estimators=678; total time=   2.0s\n",
      "[CV] END max_depth=21, max_features=auto, min_samples_leaf=10, min_samples_split=100, n_estimators=678; total time=   2.0s\n",
      "[CV] END max_depth=46, max_features=auto, min_samples_leaf=15, min_samples_split=2, n_estimators=1142; total time=   4.3s\n",
      "[CV] END max_depth=46, max_features=auto, min_samples_leaf=15, min_samples_split=2, n_estimators=1142; total time=   4.1s\n",
      "[CV] END max_depth=46, max_features=auto, min_samples_leaf=15, min_samples_split=2, n_estimators=1142; total time=   4.2s\n",
      "[CV] END max_depth=46, max_features=auto, min_samples_leaf=15, min_samples_split=2, n_estimators=1142; total time=   4.2s\n",
      "[CV] END max_depth=46, max_features=auto, min_samples_leaf=15, min_samples_split=2, n_estimators=1142; total time=   4.1s\n",
      "[CV] END max_depth=21, max_features=auto, min_samples_leaf=2, min_samples_split=100, n_estimators=736; total time=   2.5s\n",
      "[CV] END max_depth=21, max_features=auto, min_samples_leaf=2, min_samples_split=100, n_estimators=736; total time=   2.5s\n",
      "[CV] END max_depth=21, max_features=auto, min_samples_leaf=2, min_samples_split=100, n_estimators=736; total time=   2.5s\n",
      "[CV] END max_depth=21, max_features=auto, min_samples_leaf=2, min_samples_split=100, n_estimators=736; total time=   2.5s\n",
      "[CV] END max_depth=21, max_features=auto, min_samples_leaf=2, min_samples_split=100, n_estimators=736; total time=   2.4s\n",
      "[CV] END max_depth=40, max_features=sqrt, min_samples_leaf=15, min_samples_split=15, n_estimators=331; total time=   0.5s\n",
      "[CV] END max_depth=40, max_features=sqrt, min_samples_leaf=15, min_samples_split=15, n_estimators=331; total time=   0.5s\n",
      "[CV] END max_depth=40, max_features=sqrt, min_samples_leaf=15, min_samples_split=15, n_estimators=331; total time=   0.4s\n",
      "[CV] END max_depth=40, max_features=sqrt, min_samples_leaf=15, min_samples_split=15, n_estimators=331; total time=   0.5s\n",
      "[CV] END max_depth=40, max_features=sqrt, min_samples_leaf=15, min_samples_split=15, n_estimators=331; total time=   0.5s\n",
      "[CV] END max_depth=40, max_features=auto, min_samples_leaf=5, min_samples_split=100, n_estimators=331; total time=   1.1s\n",
      "[CV] END max_depth=40, max_features=auto, min_samples_leaf=5, min_samples_split=100, n_estimators=331; total time=   1.0s\n",
      "[CV] END max_depth=40, max_features=auto, min_samples_leaf=5, min_samples_split=100, n_estimators=331; total time=   1.0s\n",
      "[CV] END max_depth=40, max_features=auto, min_samples_leaf=5, min_samples_split=100, n_estimators=331; total time=   1.0s\n",
      "[CV] END max_depth=40, max_features=auto, min_samples_leaf=5, min_samples_split=100, n_estimators=331; total time=   1.0s\n",
      "[CV] END max_depth=21, max_features=sqrt, min_samples_leaf=5, min_samples_split=5, n_estimators=910; total time=   1.7s\n",
      "[CV] END max_depth=21, max_features=sqrt, min_samples_leaf=5, min_samples_split=5, n_estimators=910; total time=   1.7s\n",
      "[CV] END max_depth=21, max_features=sqrt, min_samples_leaf=5, min_samples_split=5, n_estimators=910; total time=   1.7s\n",
      "[CV] END max_depth=21, max_features=sqrt, min_samples_leaf=5, min_samples_split=5, n_estimators=910; total time=   1.7s\n",
      "[CV] END max_depth=21, max_features=sqrt, min_samples_leaf=5, min_samples_split=5, n_estimators=910; total time=   1.7s\n",
      "[CV] END max_depth=24, max_features=auto, min_samples_leaf=5, min_samples_split=15, n_estimators=389; total time=   1.7s\n",
      "[CV] END max_depth=24, max_features=auto, min_samples_leaf=5, min_samples_split=15, n_estimators=389; total time=   1.8s\n",
      "[CV] END max_depth=24, max_features=auto, min_samples_leaf=5, min_samples_split=15, n_estimators=389; total time=   1.8s\n",
      "[CV] END max_depth=24, max_features=auto, min_samples_leaf=5, min_samples_split=15, n_estimators=389; total time=   1.7s\n",
      "[CV] END max_depth=24, max_features=auto, min_samples_leaf=5, min_samples_split=15, n_estimators=389; total time=   1.7s\n",
      "[CV] END max_depth=5, max_features=auto, min_samples_leaf=15, min_samples_split=15, n_estimators=447; total time=   1.2s\n",
      "[CV] END max_depth=5, max_features=auto, min_samples_leaf=15, min_samples_split=15, n_estimators=447; total time=   1.2s\n",
      "[CV] END max_depth=5, max_features=auto, min_samples_leaf=15, min_samples_split=15, n_estimators=447; total time=   1.3s\n",
      "[CV] END max_depth=5, max_features=auto, min_samples_leaf=15, min_samples_split=15, n_estimators=447; total time=   1.2s\n",
      "[CV] END max_depth=5, max_features=auto, min_samples_leaf=15, min_samples_split=15, n_estimators=447; total time=   1.1s\n",
      "[CV] END max_depth=46, max_features=sqrt, min_samples_leaf=1, min_samples_split=5, n_estimators=447; total time=   1.0s\n",
      "[CV] END max_depth=46, max_features=sqrt, min_samples_leaf=1, min_samples_split=5, n_estimators=447; total time=   1.1s\n",
      "[CV] END max_depth=46, max_features=sqrt, min_samples_leaf=1, min_samples_split=5, n_estimators=447; total time=   1.1s\n",
      "[CV] END max_depth=46, max_features=sqrt, min_samples_leaf=1, min_samples_split=5, n_estimators=447; total time=   1.0s\n",
      "[CV] END max_depth=46, max_features=sqrt, min_samples_leaf=1, min_samples_split=5, n_estimators=447; total time=   1.0s\n",
      "[CV] END max_depth=17, max_features=auto, min_samples_leaf=15, min_samples_split=5, n_estimators=447; total time=   1.6s\n",
      "[CV] END max_depth=17, max_features=auto, min_samples_leaf=15, min_samples_split=5, n_estimators=447; total time=   1.7s\n",
      "[CV] END max_depth=17, max_features=auto, min_samples_leaf=15, min_samples_split=5, n_estimators=447; total time=   1.6s\n",
      "[CV] END max_depth=17, max_features=auto, min_samples_leaf=15, min_samples_split=5, n_estimators=447; total time=   1.6s\n",
      "[CV] END max_depth=17, max_features=auto, min_samples_leaf=15, min_samples_split=5, n_estimators=447; total time=   1.6s\n",
      "[CV] END max_depth=21, max_features=sqrt, min_samples_leaf=1, min_samples_split=15, n_estimators=1142; total time=   2.3s\n",
      "[CV] END max_depth=21, max_features=sqrt, min_samples_leaf=1, min_samples_split=15, n_estimators=1142; total time=   2.5s\n",
      "[CV] END max_depth=21, max_features=sqrt, min_samples_leaf=1, min_samples_split=15, n_estimators=1142; total time=   2.4s\n",
      "[CV] END max_depth=21, max_features=sqrt, min_samples_leaf=1, min_samples_split=15, n_estimators=1142; total time=   2.2s\n",
      "[CV] END max_depth=21, max_features=sqrt, min_samples_leaf=1, min_samples_split=15, n_estimators=1142; total time=   2.3s\n",
      "[CV] END max_depth=50, max_features=auto, min_samples_leaf=15, min_samples_split=5, n_estimators=273; total time=   1.0s\n",
      "[CV] END max_depth=50, max_features=auto, min_samples_leaf=15, min_samples_split=5, n_estimators=273; total time=   1.0s\n"
     ]
    },
    {
     "name": "stdout",
     "output_type": "stream",
     "text": [
      "[CV] END max_depth=50, max_features=auto, min_samples_leaf=15, min_samples_split=5, n_estimators=273; total time=   1.0s\n",
      "[CV] END max_depth=50, max_features=auto, min_samples_leaf=15, min_samples_split=5, n_estimators=273; total time=   1.0s\n",
      "[CV] END max_depth=50, max_features=auto, min_samples_leaf=15, min_samples_split=5, n_estimators=273; total time=   0.9s\n",
      "[CV] END max_depth=40, max_features=sqrt, min_samples_leaf=2, min_samples_split=5, n_estimators=1026; total time=   2.3s\n",
      "[CV] END max_depth=40, max_features=sqrt, min_samples_leaf=2, min_samples_split=5, n_estimators=1026; total time=   2.3s\n",
      "[CV] END max_depth=40, max_features=sqrt, min_samples_leaf=2, min_samples_split=5, n_estimators=1026; total time=   2.4s\n",
      "[CV] END max_depth=40, max_features=sqrt, min_samples_leaf=2, min_samples_split=5, n_estimators=1026; total time=   2.4s\n",
      "[CV] END max_depth=40, max_features=sqrt, min_samples_leaf=2, min_samples_split=5, n_estimators=1026; total time=   2.3s\n"
     ]
    },
    {
     "data": {
      "text/plain": [
       "RandomizedSearchCV(cv=5, estimator=RandomForestRegressor(), n_iter=15, n_jobs=1,\n",
       "                   param_distributions={'max_depth': [5, 8, 11, 14, 17, 21, 24,\n",
       "                                                      27, 30, 33, 37, 40, 43,\n",
       "                                                      46, 50],\n",
       "                                        'max_features': ['auto', 'sqrt'],\n",
       "                                        'min_samples_leaf': [1, 2, 5, 10, 15],\n",
       "                                        'min_samples_split': [2, 5, 10, 15,\n",
       "                                                              100],\n",
       "                                        'n_estimators': [100, 157, 215, 273,\n",
       "                                                         331, 389, 447, 505,\n",
       "                                                         563, 621, 678, 736,\n",
       "                                                         794, 852, 910, 968,\n",
       "                                                         1026, 1084, 1142,\n",
       "                                                         1200]},\n",
       "                   random_state=42, scoring='neg_mean_squared_error',\n",
       "                   verbose=2)"
      ]
     },
     "execution_count": 60,
     "metadata": {},
     "output_type": "execute_result"
    }
   ],
   "source": [
    "model = RandomForestRegressor() \n",
    "rfr = RandomizedSearchCV(estimator = model,\n",
    "                        param_distributions=grid,\n",
    "                        n_iter=15,\n",
    "                       scoring= 'neg_mean_squared_error',\n",
    "                        cv=5,verbose = 2,\n",
    "                        random_state = 42,n_jobs = 1) \n",
    "rfr.fit(X_train,y_train)"
   ]
  },
  {
   "cell_type": "code",
   "execution_count": 61,
   "metadata": {},
   "outputs": [],
   "source": [
    "bestrfr=rfr.best_estimator_"
   ]
  },
  {
   "cell_type": "code",
   "execution_count": 62,
   "metadata": {},
   "outputs": [
    {
     "data": {
      "text/plain": [
       "array([4.92550318, 4.41614906, 4.46869984, 4.76840399, 5.11468733,\n",
       "       5.06374353, 5.2868437 , 5.02930888, 5.02944128, 3.9876978 ,\n",
       "       6.12087502, 5.19030036, 4.93011649, 5.23286214, 3.83295993,\n",
       "       5.11213264, 5.14971494, 3.98599776, 4.90001084, 4.39194745,\n",
       "       4.98381303, 4.89677471, 5.58549903, 5.88996858, 4.57943921,\n",
       "       4.41587639, 5.15236298, 4.23356952, 4.70824564, 5.08689459,\n",
       "       4.18457579, 5.08367212, 5.62436308, 5.44426609, 4.31349255,\n",
       "       4.14674892, 4.6133477 , 5.06166046, 4.41208129, 4.02627276,\n",
       "       4.42231077, 6.67752097, 4.36615884, 5.18850843, 4.57107919,\n",
       "       4.63857635, 5.37675112, 5.42917534, 4.44497127, 5.1193304 ,\n",
       "       4.08537365, 5.15256044, 4.59737692, 4.88147541, 4.19761788,\n",
       "       4.973703  , 4.74595216, 4.68884356, 5.30947699, 4.95447387,\n",
       "       4.64256833, 4.72298911, 4.97770195, 5.05003648, 5.21807046,\n",
       "       4.68955536, 5.56108452, 5.58463715, 4.38917426, 4.32566778,\n",
       "       5.06071488, 4.82265123, 4.38426459, 5.18388427, 5.88786683,\n",
       "       4.967457  , 4.36814846, 4.46366795, 4.14232401, 4.70116208,\n",
       "       5.33651623, 4.27513901, 4.92855955, 4.34398074, 4.98018017,\n",
       "       5.54473494, 4.0573956 , 5.19897043, 5.05055283, 4.25313616,\n",
       "       4.62193521, 4.89116335, 4.85368941, 5.33371914, 4.43512745,\n",
       "       4.5073704 , 5.07542568, 4.30707964, 4.8831623 , 4.51334934,\n",
       "       4.7638424 , 4.4769663 , 5.44959623, 4.76274066, 4.15908141,\n",
       "       4.59107461, 4.23457195, 5.32539781, 4.15656432, 4.91804525,\n",
       "       5.75599151, 4.99363876, 4.53497084, 4.25551713, 4.21642629,\n",
       "       5.86830049, 5.47346845, 4.3820013 , 5.16708094, 5.70951375,\n",
       "       5.12968523, 4.01068325, 4.14058338, 4.19526645, 4.6676685 ,\n",
       "       4.21157113, 4.22083075, 4.31097585, 4.73145627, 4.51927871,\n",
       "       5.75090328, 4.11414204, 4.1269186 , 4.70016502, 4.20545148,\n",
       "       4.74554519, 4.37398104, 4.93436002, 4.23785751, 5.24307616,\n",
       "       4.25612968, 5.20994735, 4.38761501, 5.68260104, 5.60780701,\n",
       "       5.25559052, 4.20944909, 4.61686059, 4.29856641, 4.95013967,\n",
       "       4.51292096, 5.22261856, 4.29899703, 4.08069709, 4.44945267,\n",
       "       4.46808807, 4.58988774, 5.20271582, 4.47066432, 3.98277489,\n",
       "       4.72537573, 4.15263114, 5.12954262, 4.87739485, 5.8037842 ,\n",
       "       4.09418326, 5.09118778, 5.54582395, 4.34608359, 4.28174458,\n",
       "       4.99830838, 4.46082884, 4.08769581, 4.16240154, 5.3057459 ,\n",
       "       4.18669203, 4.17497001, 5.63082498, 4.24616625, 4.44665196,\n",
       "       4.74822684, 4.73929263, 4.15065046, 4.09310707, 5.21961835,\n",
       "       5.10974417, 4.65637662, 4.84937155, 4.63021139, 5.2340813 ,\n",
       "       5.27511121, 4.75931528, 5.72012722, 5.37112852, 5.31864075,\n",
       "       5.02303042, 4.77364974, 4.28023731, 4.24396326, 4.31323158,\n",
       "       4.75674278, 5.05858359, 4.60255266, 4.8631927 , 5.04813426,\n",
       "       5.18591631, 4.27989547, 4.36579483, 4.27781093, 4.38143697,\n",
       "       5.5893176 , 4.24472115, 5.03559712, 4.06419481, 4.3346968 ,\n",
       "       5.29391434, 4.69595373, 4.91628231, 5.02652151, 4.43400302,\n",
       "       4.62407782, 4.1772641 , 4.37532927, 4.26879318, 4.18054888,\n",
       "       4.13906398, 3.83742835, 4.95316968, 4.75257058, 4.55535006,\n",
       "       4.27221404, 5.10934544, 4.90103179, 4.17932981, 4.51766191,\n",
       "       5.41745386, 4.40925408, 4.21742417, 5.03401898, 5.58957345,\n",
       "       6.37467124, 5.30694512, 4.38471499, 4.32871137, 5.31094447,\n",
       "       4.13974852, 4.43888159, 4.2868978 , 4.74362843, 4.34828385,\n",
       "       4.7201244 , 4.38642346, 4.69037001, 4.91134819, 5.14422433,\n",
       "       4.32124782, 5.80604117, 5.96695097, 5.39566687, 4.77863899,\n",
       "       4.92996674, 4.21511027, 4.63561201, 4.87947551, 4.10185385,\n",
       "       4.82922507, 4.94198908, 4.24436738, 4.02343525, 4.96909644,\n",
       "       4.18947729, 4.7999688 , 4.9316222 , 4.1924697 , 4.4993659 ,\n",
       "       4.45116863, 6.1839135 , 5.01888688, 4.02970428, 4.87726186,\n",
       "       5.34464471, 4.34153427, 4.54923978, 5.0018448 , 4.23341912,\n",
       "       5.94955013, 6.29782551, 4.70817526, 5.19628134, 4.07560546,\n",
       "       5.57716322, 5.05124702, 4.75310546, 4.31362998, 4.43942084,\n",
       "       4.29881318, 3.96196744, 5.2634779 , 4.16452358, 5.05788351,\n",
       "       4.43795398, 4.32911119, 4.25873931, 4.43681096, 4.30076263,\n",
       "       5.04801416, 4.52422028, 5.89828102, 4.78568988, 5.23232431,\n",
       "       5.4320261 , 5.75269219, 4.31202312, 4.93985033, 4.21614328,\n",
       "       4.56057386, 5.08849386, 4.81853814, 5.07279205, 4.27025005,\n",
       "       4.29168884, 4.9171638 , 5.06410611, 5.91295004, 4.46668403,\n",
       "       5.30824937, 5.42120104, 4.13105069, 4.25636508, 4.98189237,\n",
       "       4.75117776, 5.14188946, 4.92594122, 5.50196052, 5.04649708,\n",
       "       4.27123815, 4.31146928, 4.59754333, 4.07273105, 4.36997746,\n",
       "       4.5733501 , 4.26822352, 4.02213015, 4.48771647, 4.00426872,\n",
       "       5.05783418, 4.39737173, 5.36180792, 5.85379471, 4.38321179,\n",
       "       4.23451548, 4.31542611, 5.3582187 , 4.23528308, 4.31492272,\n",
       "       4.33928308, 4.21450728, 4.28858899, 5.35455831, 4.54453404,\n",
       "       5.32804825, 4.09247294, 4.79191972, 5.42486312, 4.76244773,\n",
       "       5.29397047, 4.69301041, 5.0737235 , 4.06738932, 4.03731479,\n",
       "       5.11439189, 5.11697114, 4.60989444, 4.89790292, 4.2080917 ,\n",
       "       4.1423522 , 4.83319481, 4.94625611, 4.36527784, 5.52459882,\n",
       "       4.73918535, 4.72004901, 4.16564931, 5.0852122 , 4.3557122 ,\n",
       "       4.35297512, 3.96824755, 4.35913222, 5.32350842, 4.80590035,\n",
       "       4.96820854, 4.56172787, 5.36833011, 5.37624906, 5.78921935,\n",
       "       4.69629331, 4.20558653, 5.53458618, 4.73468492, 5.79607616,\n",
       "       5.61976179, 3.9408738 , 4.17571781, 5.01872429, 4.53693431,\n",
       "       5.66793526, 4.20243657, 3.8903434 , 4.29017626, 5.23037869,\n",
       "       4.84265263, 4.82930707, 5.65781129, 5.91159443, 4.35688019,\n",
       "       5.66039883, 4.11446851, 4.63278102, 4.19519839, 4.15029164,\n",
       "       4.45947844, 4.44606045, 4.73891239, 5.60879931, 5.57614353,\n",
       "       4.12144442, 4.18870351, 5.14149607, 4.87087097, 5.75797022,\n",
       "       4.6720776 , 6.04804279, 4.87149823, 4.65420902, 4.30248992,\n",
       "       4.23069186, 5.34439512, 4.73006442, 4.38725275, 5.69830668,\n",
       "       4.06240535, 4.81913866, 5.07230979, 5.4146922 , 4.46370743,\n",
       "       4.95180182, 5.35950111, 5.19462107, 4.84620923, 4.34544371,\n",
       "       4.9804119 , 4.33350339, 4.65628699, 4.57061491, 4.36187666,\n",
       "       5.62688051, 4.04493035, 4.3437435 , 5.27970239, 4.29116058,\n",
       "       4.9961528 , 5.01444202, 5.70215455, 4.98360357, 4.36465728,\n",
       "       5.20211974, 4.3355454 , 4.51260054, 4.83789622, 4.38407352,\n",
       "       4.87350503, 4.88884137, 4.15926101, 4.31622136, 5.034387  ,\n",
       "       4.73387978, 4.78752402, 5.30968422, 4.90116608, 4.66089152,\n",
       "       5.69329276, 4.2592932 , 5.03476747, 4.75341265, 4.96896577,\n",
       "       4.87401986, 4.27583217, 4.64649933, 4.79197625, 5.04845182,\n",
       "       4.85259655, 4.48292783, 5.82958412, 4.98020109, 5.27593279,\n",
       "       4.57929632, 4.99176538, 4.9850954 , 4.88548394, 4.51727288,\n",
       "       4.17249351, 4.91395306, 4.98215664, 5.82448221, 4.43187295,\n",
       "       4.10165141, 4.3234274 , 4.27177837, 5.00784614, 4.75595477,\n",
       "       4.17613103, 4.44352528, 5.3896498 , 4.77559513, 4.93333818,\n",
       "       5.28635729, 5.48155438, 5.93079698, 5.25758412, 4.37195127,\n",
       "       5.20933079, 5.17964011, 5.14519443, 5.38878523, 5.31718261,\n",
       "       4.6942611 , 4.95848671, 4.47278598, 4.72246436, 4.87387948,\n",
       "       5.81470571, 5.19480197, 4.44987308, 4.87937817, 3.94221308,\n",
       "       4.92297447, 4.78822776, 5.44827016, 5.11179642, 4.41724374,\n",
       "       5.4418752 , 4.73514978, 4.35108909, 4.25705152, 5.10327509,\n",
       "       4.26784242, 5.78742999, 4.42876957, 5.16117455, 5.59627245,\n",
       "       4.13666489, 4.36687053, 4.85099876, 5.69663505, 4.65623171,\n",
       "       5.3520936 , 4.5607795 , 4.940504  , 5.10992094, 4.39735769,\n",
       "       4.47158663, 4.96575815, 5.0853689 , 4.23964836, 4.396858  ,\n",
       "       5.04661503, 4.83693479, 4.39435874, 4.89203205, 5.27376531,\n",
       "       4.76216804, 4.99516133, 4.19557349, 4.85268853, 4.9140808 ,\n",
       "       6.1221783 , 4.3550152 , 4.87368041, 4.61970552, 4.07841706,\n",
       "       4.77522819, 5.78534328, 4.34408783, 6.06031796, 4.28839892,\n",
       "       4.65645874, 5.71480128, 4.66149224, 5.25030113, 5.22626838,\n",
       "       3.94405839, 4.24045989, 5.08176412, 4.73140288, 4.21160273,\n",
       "       5.58220138, 4.29892592, 3.94699563, 4.78507476, 4.27856986,\n",
       "       4.08613314, 5.12738584, 3.75004293, 5.35214058, 4.75743748,\n",
       "       4.22752857, 5.22532949, 4.10655466, 4.8785388 , 5.38326981,\n",
       "       5.58338557, 4.83339087, 4.33523306, 4.98150425, 4.18312669,\n",
       "       4.95589661, 4.01107787, 4.33295896, 5.08893271, 4.27399386,\n",
       "       4.23822797, 4.21642629, 4.25517384, 4.68085353, 4.93745016,\n",
       "       5.33524726, 5.78481834, 4.78265084, 4.58798803, 3.83711257,\n",
       "       5.70847619, 4.91341901, 4.25485815, 4.80360264, 5.01126456,\n",
       "       4.61683554, 5.67945796, 6.24396629, 5.72871511, 6.32424848,\n",
       "       4.94804253, 4.77899165, 4.15430778, 4.25517384, 5.30868144,\n",
       "       4.77851244, 6.29874804, 4.41786182, 4.24596003, 6.00641391,\n",
       "       5.03693401, 5.27762818, 4.18143067, 4.52133344, 5.14685783,\n",
       "       4.78682603, 4.3119396 , 4.02135734, 5.10191383, 4.10428089,\n",
       "       4.42730598, 4.98839285, 5.49055983, 5.0867261 , 4.6254521 ,\n",
       "       4.90689236, 4.01530222, 5.28839202, 4.13757114, 5.01274863,\n",
       "       4.55058582, 5.59060593, 4.28869456, 4.22728581, 4.25519164,\n",
       "       5.05176983, 4.98956752, 5.06643488, 4.20951353, 4.75477467,\n",
       "       4.88067857, 5.14262365, 5.79726251, 4.76280035, 4.09696592,\n",
       "       4.74412616, 4.37985858, 5.09495618, 5.0706798 , 5.10597374,\n",
       "       4.88022871, 4.73027112, 5.20595601, 5.06722399, 4.37254406,\n",
       "       5.16089342, 4.141293  , 4.74285233, 6.33604058, 5.41482217])"
      ]
     },
     "execution_count": 62,
     "metadata": {},
     "output_type": "execute_result"
    }
   ],
   "source": [
    "ypred = bestrfr.predict(X_test)\n",
    "ypred"
   ]
  },
  {
   "cell_type": "code",
   "execution_count": 63,
   "metadata": {},
   "outputs": [
    {
     "name": "stdout",
     "output_type": "stream",
     "text": [
      "MAE: 0.36653181314298716\n",
      "MSE: 0.22796033459807427\n",
      "RMSE: 0.4774519186243514\n"
     ]
    }
   ],
   "source": [
    "print('MAE:', metrics.mean_absolute_error(y_test, ypred))\n",
    "print('MSE:', metrics.mean_squared_error(y_test, ypred))\n",
    "print('RMSE:', np.sqrt(metrics.mean_squared_error(y_test, ypred)))"
   ]
  },
  {
   "cell_type": "code",
   "execution_count": 64,
   "metadata": {},
   "outputs": [
    {
     "data": {
      "text/plain": [
       "0.5900294683867445"
      ]
     },
     "execution_count": 64,
     "metadata": {},
     "output_type": "execute_result"
    }
   ],
   "source": [
    "metrics.r2_score(y_test, ypred)"
   ]
  },
  {
   "cell_type": "markdown",
   "metadata": {},
   "source": [
    "# Pickle to save model"
   ]
  },
  {
   "cell_type": "code",
   "execution_count": 65,
   "metadata": {},
   "outputs": [],
   "source": [
    "import pickle\n",
    "file = open(\"file.pkl\", \"wb\") # opening a new file in write mode\n",
    "pickle.dump(bestrfr, file) # dumping created rf model into a pickle file"
   ]
  }
 ],
 "metadata": {
  "kernelspec": {
   "display_name": "Python 3",
   "language": "python",
   "name": "python3"
  },
  "language_info": {
   "codemirror_mode": {
    "name": "ipython",
    "version": 3
   },
   "file_extension": ".py",
   "mimetype": "text/x-python",
   "name": "python",
   "nbconvert_exporter": "python",
   "pygments_lexer": "ipython3",
   "version": "3.8.3"
  }
 },
 "nbformat": 4,
 "nbformat_minor": 4
}
